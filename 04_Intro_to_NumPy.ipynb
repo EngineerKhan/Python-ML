{
  "nbformat": 4,
  "nbformat_minor": 0,
  "metadata": {
    "colab": {
      "provenance": [],
      "authorship_tag": "ABX9TyPQ2Nyg3RLSQ/AxiL0dmXa1"
    },
    "kernelspec": {
      "name": "python3",
      "display_name": "Python 3"
    },
    "language_info": {
      "name": "python"
    }
  },
  "cells": [
    {
      "cell_type": "markdown",
      "source": [
        "# NumPy – Numerical Python Library\n",
        "NumPy is such a crucial library in Python that often NumPy isn't even regarded as a 3rd party library and has become pretty much a core component – if not of the Python itself, then surely of an engineer (especially data engineer's) arsenal. I won't waste any time in prologues and directly jump to the business. We can import NumPy as:"
      ],
      "metadata": {
        "id": "l-Y2NMDivEPB"
      }
    },
    {
      "cell_type": "code",
      "execution_count": 1,
      "metadata": {
        "id": "7onLauBbuguF"
      },
      "outputs": [],
      "source": [
        "import numpy"
      ]
    },
    {
      "cell_type": "markdown",
      "source": [
        "We will divide this tutorial in two parts:\n",
        "\n",
        "- Fundamentals – covered here\n",
        "- Advanced – in next notebook\n",
        "\n",
        "## Outline\n",
        "\n",
        "This notebook is highly influenced from the **[NumPy's own documentation](https://numpy.org/doc/stable/user/index.html)**.\n",
        "\n",
        "- NumPy Arrays\n",
        "- Linear Algebra\n",
        "\n"
      ],
      "metadata": {
        "id": "I4xnP3SLCoHc"
      }
    },
    {
      "cell_type": "markdown",
      "source": [
        "## Arrays\n",
        "\n",
        "NumPy arrays are better than Python lists for a number of reasons, including efficiency and some other features we will cover in this notebook.\n",
        "> **Note:** If you are interested, please feel free to look up the differences between the NumPy vs Python arrays in detail over the internet. I would like to mention them one by one and steadily, hence not mentioning them all in a go.\n",
        "\n",
        "There can be a number of ways of making a NumPy array, like:"
      ],
      "metadata": {
        "id": "EWzRSc2JEQza"
      }
    },
    {
      "cell_type": "markdown",
      "source": [
        "### From Python Collections\n",
        "\n",
        "Python collections (lists, tuples or sets) can be simply converted to a NumPy array as:\n",
        "\n",
        "**`<np array> = NumPy.array(<Python collection>)`**\n",
        "\n",
        "For example:"
      ],
      "metadata": {
        "id": "c7JIeFqwFMPV"
      }
    },
    {
      "cell_type": "code",
      "source": [
        "listA = [34, 21, 45]\n",
        "setB = {2, 4, 6}\n",
        "tupleC = (2, 4, 8, 16, 24)"
      ],
      "metadata": {
        "id": "UXjgFKLTFqd4"
      },
      "execution_count": 2,
      "outputs": []
    },
    {
      "cell_type": "markdown",
      "source": [
        "Now converting them into NumPy arrays respectively:"
      ],
      "metadata": {
        "id": "Arm65ITMF_fW"
      }
    },
    {
      "cell_type": "code",
      "source": [
        "npA = numpy.array(listA)\n",
        "print(npA)\n",
        "\n",
        "npB = numpy.array(setB)\n",
        "print(npB)\n",
        "\n",
        "npC = numpy.array(tupleC)\n",
        "print(npC)"
      ],
      "metadata": {
        "colab": {
          "base_uri": "https://localhost:8080/"
        },
        "id": "1kRDUkYsGClW",
        "outputId": "91e61963-0492-4927-88d1-a2569d130002"
      },
      "execution_count": 3,
      "outputs": [
        {
          "output_type": "stream",
          "name": "stdout",
          "text": [
            "[34 21 45]\n",
            "{2, 4, 6}\n",
            "[ 2  4  8 16 24]\n"
          ]
        }
      ]
    },
    {
      "cell_type": "markdown",
      "source": [
        "Here we need to pause a little bit to reflect.\n",
        "\n",
        "- `npA` and `npC` have 3 and 5 members respectively, but `npC` has only 1.\n",
        "- It may sound like `2`, `4` and `6` are separate members of the NumPy array (`npB`), but they are actually part of a single set.\n",
        "- Which also means that NumPy arrays can have Python collections as its members as well.\n",
        "- Tuples are immutable and we haven't touched their immutability one bit here. `tupleC` is still intact and `npC` is a separate array having tuple's members copied into it.\n",
        "\n",
        "By the way, before we proceed. It sounds too much to specify `numpy` before every function call and can be abbreviated/aliased. Usually we follow the `np` alias.\n",
        "\n",
        "---\n",
        "\n",
        "Let's confirm the above points by using the NumPy array's **`size()`** method. Its one of a number of methods for the arrays (we will refer to NumPy arrays as arrays from now on)."
      ],
      "metadata": {
        "id": "0DRJ_66iGdxD"
      }
    },
    {
      "cell_type": "code",
      "source": [
        "import numpy as np\n",
        "\n",
        "print(npA.size)\n",
        "print(npB.size)\n",
        "print(npC.size)"
      ],
      "metadata": {
        "colab": {
          "base_uri": "https://localhost:8080/"
        },
        "id": "_93Rw5DZHos_",
        "outputId": "d28ab712-a75f-4159-ac42-9ef5224c14c0"
      },
      "execution_count": 4,
      "outputs": [
        {
          "output_type": "stream",
          "name": "stdout",
          "text": [
            "3\n",
            "1\n",
            "5\n"
          ]
        }
      ]
    },
    {
      "cell_type": "markdown",
      "source": [
        "### Intrinsic Creation\n",
        "\n",
        "We can also make an array from scratch by using the built-in intrinsic methods, like:\n",
        "\n",
        "- `arange()`\n",
        "- `linspace()`\n",
        "- `eye()`\n",
        "- `diag()`\n",
        "\n",
        "We will use them (and look some of them in detail) soon."
      ],
      "metadata": {
        "id": "jZRygB5DIVgm"
      }
    },
    {
      "cell_type": "markdown",
      "source": [
        "### From Existing Arrays\n",
        "\n",
        "Similarly, we can use slicing (as we saw earlier for the primitive Python collections) and other operations. For example:"
      ],
      "metadata": {
        "id": "45EXerbkPAAZ"
      }
    },
    {
      "cell_type": "code",
      "source": [
        "npD = npC[1:4]\n",
        "print(npC)\n",
        "print(npD)"
      ],
      "metadata": {
        "colab": {
          "base_uri": "https://localhost:8080/"
        },
        "id": "TSdGK3VGdK70",
        "outputId": "a7789b34-09fd-45ff-d911-e8e10572dd49"
      },
      "execution_count": 5,
      "outputs": [
        {
          "output_type": "stream",
          "name": "stdout",
          "text": [
            "[ 2  4  8 16 24]\n",
            "[ 4  8 16]\n"
          ]
        }
      ]
    },
    {
      "cell_type": "markdown",
      "source": [
        "Nothing is exceptional here. But try to change `npD` values:"
      ],
      "metadata": {
        "id": "Mk6JSf62frAx"
      }
    },
    {
      "cell_type": "code",
      "source": [
        "npD[0] = -2\n",
        "\n",
        "print(npC)\n",
        "print(npD)"
      ],
      "metadata": {
        "colab": {
          "base_uri": "https://localhost:8080/"
        },
        "id": "5sgeX01hgaYQ",
        "outputId": "7749f1d3-eb2a-4bd0-df54-7e270fbc555d"
      },
      "execution_count": 6,
      "outputs": [
        {
          "output_type": "stream",
          "name": "stdout",
          "text": [
            "[ 2 -2  8 16 24]\n",
            "[-2  8 16]\n"
          ]
        }
      ]
    },
    {
      "cell_type": "markdown",
      "source": [
        "**Ouch!** The change has reflected in the original array (`npC`) as well.\n",
        "\n",
        "\n",
        "\n"
      ],
      "metadata": {
        "id": "ohU8ZXjxgims"
      }
    },
    {
      "cell_type": "markdown",
      "source": [
        "In case you forgot, try to do the same for the Python lists:"
      ],
      "metadata": {
        "id": "ltCofJtiHTVm"
      }
    },
    {
      "cell_type": "code",
      "source": [
        "listA = [1, 2, 3, 4, 5]\n",
        "listB = listA[0:2]\n",
        "\n",
        "print(\"Before changing listB's first value\",listA)\n",
        "print(\"Before changing listB's value, listB is:\", listB)\n",
        "\n",
        "listB[0] = -3\n",
        "\n",
        "print(\"After changing listB's first value, listA is:\",listA)\n",
        "print(\"After changing listB's value, listB is:\", listB)"
      ],
      "metadata": {
        "colab": {
          "base_uri": "https://localhost:8080/"
        },
        "id": "BmTOE4GnhbMV",
        "outputId": "165c1ba5-7b0a-461a-f9ed-ba50126e3f2d"
      },
      "execution_count": 7,
      "outputs": [
        {
          "output_type": "stream",
          "name": "stdout",
          "text": [
            "Before changing listB's first value [1, 2, 3, 4, 5]\n",
            "Before changing listB's value, listB is: [1, 2]\n",
            "After changing listB's first value, listA is: [1, 2, 3, 4, 5]\n",
            "After changing listB's value, listB is: [-3, 2]\n"
          ]
        }
      ]
    },
    {
      "cell_type": "markdown",
      "source": [
        "It requires some attention. Whenever we make a new (NumPy) array from an existing one, three types of copies can happen:\n",
        "\n",
        "- **Aliasing** – The same array gets a new alias. Both names are valid.\n",
        "- **Shallow Copy** – The new array refers to the original array and any change in the new array will reflect in the original one too (as we already saw).\n",
        "- **Deep Copy** – New copy is truly a copy (an independent one) and any changes in it won't reflect in the existing array. It's achieved using the **`copy()`** method.\n",
        "\n",
        "Let's illustrate it a bit with the example:"
      ],
      "metadata": {
        "id": "WaUwUoYFh-Mv"
      }
    },
    {
      "cell_type": "code",
      "source": [
        "npD = npC\n",
        "npE = npC[0:3]\n",
        "npF = npC.copy()\n",
        "\n",
        "print(\"Original array's id is:\",id(npC))\n",
        "print(\"Aliased array's id is:\",id(npD))\n",
        "print(\"Shallow copied array's id is:\",id(npE))\n",
        "print(\"Deep copied array's id is:\",id(npF))"
      ],
      "metadata": {
        "colab": {
          "base_uri": "https://localhost:8080/"
        },
        "id": "VRTitedxHSxl",
        "outputId": "f6edd694-028f-478f-8ed0-2cece73a3e95"
      },
      "execution_count": 8,
      "outputs": [
        {
          "output_type": "stream",
          "name": "stdout",
          "text": [
            "Original array's id is: 132269161430736\n",
            "Aliased array's id is: 132269161430736\n",
            "Shallow copied array's id is: 132269161430544\n",
            "Deep copied array's id is: 132269161828240\n"
          ]
        }
      ]
    },
    {
      "cell_type": "markdown",
      "source": [
        "We have already seen how change in the shallow copied array reflects in the original array. Let's wind it up by checking it for the deep copy."
      ],
      "metadata": {
        "id": "7LWPKlNuItpD"
      }
    },
    {
      "cell_type": "code",
      "source": [
        "print(\"npC before changing the deep copy\",npC)\n",
        "\n",
        "npF[2] = 6\n",
        "\n",
        "print(\"npC after changing the deep copy\",npC)"
      ],
      "metadata": {
        "colab": {
          "base_uri": "https://localhost:8080/"
        },
        "id": "Ana9MApQIshk",
        "outputId": "0688ee11-08a8-458e-91a8-e3353f9fde48"
      },
      "execution_count": 9,
      "outputs": [
        {
          "output_type": "stream",
          "name": "stdout",
          "text": [
            "npC before changing the deep copy [ 2 -2  8 16 24]\n",
            "npC after changing the deep copy [ 2 -2  8 16 24]\n"
          ]
        }
      ]
    },
    {
      "cell_type": "markdown",
      "source": [
        "### From Files\n",
        "\n",
        "CSV etc are common file formats and used for platform independent data sharing. We can easily import a CSV using [**`numpy.loadtxt()`**](https://numpy.org/doc/stable/reference/generated/numpy.loadtxt.html#numpy.loadtxt) as:\n",
        "\n",
        "`np.loadtxt(<csv file name>, delimiter = <>, skiprows = x)`\n",
        "\n",
        "where `delimiter` is `,` for CSV, tab for TSV and so on. While `x` is number of rows (header) to be skipped. If you are unsure about it, set it to 1.\n",
        "\n",
        "> **Note:** Usually, these file handling processes are managed in a better way using the **Pandas** library, something we will see in the following notebook.\n",
        "\n",
        "---\n",
        "\n",
        "Now we will see NumPy's functionalities for a number of applications."
      ],
      "metadata": {
        "id": "4c-ssL3nKDnO"
      }
    },
    {
      "cell_type": "markdown",
      "source": [
        "## Linear Algebra\n",
        "\n",
        "One of the hallmark benefits of NumPy is ease/efficiency of dealing with the matrix (or vector) data. Actually, NumPy has a dedicated module (**`linalg`**) having a number of linear algebra features.\n",
        "\n",
        "Let's cover some of them."
      ],
      "metadata": {
        "id": "Za32jIiSLJsJ"
      }
    },
    {
      "cell_type": "markdown",
      "source": [
        "### Vectors\n",
        "\n",
        "Since NumPy one-dimensional arrays are vectors, they can have some linear algebra functionalities as well. In order to keep things simple, I will talk about vectors first and will only later on generalize it for the matrices.\n",
        "\n",
        "\n",
        "\n"
      ],
      "metadata": {
        "id": "vrZ9IW4ZUeEY"
      }
    },
    {
      "cell_type": "markdown",
      "source": [
        "#### Inner Product\n",
        "\n",
        "The inner product of two vectors is:\n",
        "\n",
        "$$a.b = a^Tb$$\n",
        "\n",
        "It can be calculated in NumPy using 3 different syntax:"
      ],
      "metadata": {
        "id": "-1F4h0qdX98e"
      }
    },
    {
      "cell_type": "code",
      "source": [
        "import numpy as np\n",
        "import numpy.linalg as la #LA as an alias of linear algebra"
      ],
      "metadata": {
        "id": "7xxPW42fWS-k"
      },
      "execution_count": 10,
      "outputs": []
    },
    {
      "cell_type": "code",
      "source": [
        "a = np.array([1,2,3])\n",
        "\n",
        "b = np.array([4,5,6])"
      ],
      "metadata": {
        "id": "ZjbYZSNpV1Sh"
      },
      "execution_count": 11,
      "outputs": []
    },
    {
      "cell_type": "markdown",
      "source": [
        "**Using `inner()`**\n",
        "\n",
        "We can take the inner product using...`inner()` function (no prizes for guessing that, unfortunately).\n"
      ],
      "metadata": {
        "id": "6WCCutckWW5o"
      }
    },
    {
      "cell_type": "code",
      "source": [
        "c = np.inner(a,b)\n",
        "c"
      ],
      "metadata": {
        "colab": {
          "base_uri": "https://localhost:8080/"
        },
        "id": "yLzh4j_eWk4I",
        "outputId": "265f66ee-aa0d-4322-d4a1-06aa371ad7b9"
      },
      "execution_count": 12,
      "outputs": [
        {
          "output_type": "execute_result",
          "data": {
            "text/plain": [
              "32"
            ]
          },
          "metadata": {},
          "execution_count": 12
        }
      ]
    },
    {
      "cell_type": "markdown",
      "source": [
        "**Using `dot()`**\n",
        "\n",
        "We can also take it using the `dot()`. Its just an alias for the same function. Since inner product is commutative, so lets try it for $b.a$"
      ],
      "metadata": {
        "id": "t16-tDkeWxM2"
      }
    },
    {
      "cell_type": "code",
      "source": [
        "d = np.dot(b,a)\n",
        "d"
      ],
      "metadata": {
        "colab": {
          "base_uri": "https://localhost:8080/"
        },
        "id": "gAZ3AxhQXC2X",
        "outputId": "fcf975f8-28fe-4a77-8984-3d9e96a04665"
      },
      "execution_count": 13,
      "outputs": [
        {
          "output_type": "execute_result",
          "data": {
            "text/plain": [
              "32"
            ]
          },
          "metadata": {},
          "execution_count": 13
        }
      ]
    },
    {
      "cell_type": "markdown",
      "source": [
        "**`@`**\n",
        "\n",
        "If you ask my favourite syntax (as you will see onwards), its neither `inner()`, nor `dot()` but the closest to mathematics one:"
      ],
      "metadata": {
        "id": "q2yFRwiEXGqM"
      }
    },
    {
      "cell_type": "code",
      "source": [
        "e = a@b\n",
        "e"
      ],
      "metadata": {
        "colab": {
          "base_uri": "https://localhost:8080/"
        },
        "id": "Vcdz7a_VXZu9",
        "outputId": "1537d3f2-a96b-4530-ddcc-881bef1e09be"
      },
      "execution_count": 14,
      "outputs": [
        {
          "output_type": "execute_result",
          "data": {
            "text/plain": [
              "32"
            ]
          },
          "metadata": {},
          "execution_count": 14
        }
      ]
    },
    {
      "cell_type": "markdown",
      "source": [
        "#### Cross Product\n",
        "\n",
        "Cross product is pretty interesting as it results in a vector itself.\n",
        "\n",
        "$$a \\times b = a \\times b \\sin(\\theta)$$"
      ],
      "metadata": {
        "id": "K0NQogWsjhun"
      }
    },
    {
      "cell_type": "code",
      "source": [
        "crossProd = np.cross(a,b)\n",
        "\n",
        "crossProd"
      ],
      "metadata": {
        "colab": {
          "base_uri": "https://localhost:8080/"
        },
        "id": "Mj-RF57Ok6T8",
        "outputId": "b36c9b08-d17d-470b-ceb1-c6447b61c90a"
      },
      "execution_count": 15,
      "outputs": [
        {
          "output_type": "execute_result",
          "data": {
            "text/plain": [
              "array([-3,  6, -3])"
            ]
          },
          "metadata": {},
          "execution_count": 15
        }
      ]
    },
    {
      "cell_type": "markdown",
      "source": [
        "As we can say, its a vector itself. Its not commutative, as we can see:"
      ],
      "metadata": {
        "id": "eT_9jfSglH17"
      }
    },
    {
      "cell_type": "code",
      "source": [
        "revCrossProd = np.cross(b,a)\n",
        "\n",
        "revCrossProd"
      ],
      "metadata": {
        "colab": {
          "base_uri": "https://localhost:8080/"
        },
        "id": "ecCLSNbjlMlP",
        "outputId": "b04f0d8b-e0dc-4d5b-a81d-6e134bcea973"
      },
      "execution_count": 16,
      "outputs": [
        {
          "output_type": "execute_result",
          "data": {
            "text/plain": [
              "array([ 3, -6,  3])"
            ]
          },
          "metadata": {},
          "execution_count": 16
        }
      ]
    },
    {
      "cell_type": "markdown",
      "source": [
        "They sound like complement of each other (i.e. each element being additive inverse of other)"
      ],
      "metadata": {
        "id": "cDUG1bHulWUT"
      }
    },
    {
      "cell_type": "markdown",
      "source": [
        "#### Linear Functions\n",
        "\n",
        "A linear function can be written in the form of:\n",
        "\n",
        "$$f(x) = a_0x_0+a_1x_1+a_2x_2+\\dots$$\n",
        "\n",
        "There can be a number of ways of defining a linear function.\n",
        "\n"
      ],
      "metadata": {
        "id": "Yp9hLusMYAIn"
      }
    },
    {
      "cell_type": "markdown",
      "source": [
        "**1. Specifying the co-efficient variables**\n",
        "\n",
        "It can be helpful if we have a linear function with just a few terms. For example:"
      ],
      "metadata": {
        "id": "t1opXOnHZhK_"
      }
    },
    {
      "cell_type": "code",
      "source": [
        "linearFunc = lambda x: a*x[0]+b*x[1]+c*x[2]"
      ],
      "metadata": {
        "id": "d87RgxpeZG4N"
      },
      "execution_count": 17,
      "outputs": []
    },
    {
      "cell_type": "markdown",
      "source": [
        "Let's test it with some co-efficients and a vector:\n",
        "\n",
        "\n"
      ],
      "metadata": {
        "id": "_DpFJMJUajIr"
      }
    },
    {
      "cell_type": "code",
      "source": [
        "a = 2\n",
        "b = 12\n",
        "c = 3\n",
        "\n",
        "z = np.array([2,4, 6])\n",
        "\n",
        "linearFunc(z)"
      ],
      "metadata": {
        "colab": {
          "base_uri": "https://localhost:8080/"
        },
        "id": "d_VgGyKVaz93",
        "outputId": "334e5af5-36fc-4e2a-d347-19e5caa1560a"
      },
      "execution_count": 18,
      "outputs": [
        {
          "output_type": "execute_result",
          "data": {
            "text/plain": [
              "70"
            ]
          },
          "metadata": {},
          "execution_count": 18
        }
      ]
    },
    {
      "cell_type": "markdown",
      "source": [
        "**2.Specifying it as an inner product**\n",
        "\n",
        "Previous method is just ok, but I don't find it neat. A better way would be to have it like:\n",
        "\n",
        "$$f(x)=a^Tx = a.b$$\n",
        "\n",
        ">**Side Note:** Usually, we assume vectors in programming as column vectors, hence $a^Tx$. It would be $ax^T$ if it were other way around, i.e, row vectors.\n",
        "\n",
        "Trying the example above, we get the same answer:\n"
      ],
      "metadata": {
        "id": "ePP4nByTa47A"
      }
    },
    {
      "cell_type": "code",
      "source": [
        "linearFunc2 = lambda x:a@x\n",
        "\n",
        "a = np.array([2,12,3])\n",
        "\n",
        "linearFunc2(z)"
      ],
      "metadata": {
        "colab": {
          "base_uri": "https://localhost:8080/"
        },
        "id": "Vn_N83W7dH0L",
        "outputId": "107d4de7-6bee-4919-a38e-4e1519facf9d"
      },
      "execution_count": 19,
      "outputs": [
        {
          "output_type": "execute_result",
          "data": {
            "text/plain": [
              "70"
            ]
          },
          "metadata": {},
          "execution_count": 19
        }
      ]
    },
    {
      "cell_type": "markdown",
      "source": [
        "### Norm\n",
        "\n",
        "A vector contains a number of elements. To get a \"summary\" of the vector, we have norm. It is defined as:\n",
        "\n",
        "$$||x||_p = \\sqrt{x_1^p+x_2^p+x_3^p+…} = ({x_1^p+x_2^p+x_3^p+…})^\\frac{1}{p}$$\n",
        "\n",
        "It has some special instances, like:\n",
        "\n",
        "- **$L_1$ norm** – Putting $p$ as 1, we get:\n",
        "\n",
        "$$|x| = |x_1+x_2+x_3+…|$$\n",
        "\n",
        "- **$L_2$ norm** – The most common form of norm is Euclidean norm and defined as:\n",
        "\n",
        "$$||x|| = \\sqrt{x_1+x_2+x_3+…}$$\n",
        "\n",
        ">**Note:** Norms beyond 1 are convex.\n",
        "\n",
        "For norm calculation in NumPy, we will use **`linalg.norm()`**:\n",
        "\n"
      ],
      "metadata": {
        "id": "W5TGwedQd1p0"
      }
    },
    {
      "cell_type": "code",
      "source": [
        "x = np.arange(1,10)\n",
        "\n",
        "la.norm(x)"
      ],
      "metadata": {
        "colab": {
          "base_uri": "https://localhost:8080/"
        },
        "id": "uT0oa4m_hvP5",
        "outputId": "bd9ce7ee-f98f-4b2a-fb40-f3a8a9617698"
      },
      "execution_count": 20,
      "outputs": [
        {
          "output_type": "execute_result",
          "data": {
            "text/plain": [
              "16.881943016134134"
            ]
          },
          "metadata": {},
          "execution_count": 20
        }
      ]
    },
    {
      "cell_type": "markdown",
      "source": [
        "Lets verify it. I mean why not?!"
      ],
      "metadata": {
        "id": "nMd9icJLiE76"
      }
    },
    {
      "cell_type": "code",
      "source": [
        "import math\n",
        "normLambda = lambda x: math.sqrt(sum(x**2))"
      ],
      "metadata": {
        "id": "EoPImC51iNYx"
      },
      "execution_count": 21,
      "outputs": []
    },
    {
      "cell_type": "code",
      "source": [
        "normLambda(x)"
      ],
      "metadata": {
        "colab": {
          "base_uri": "https://localhost:8080/"
        },
        "id": "VeOqfFevibSI",
        "outputId": "1b995316-4d08-411c-c20f-0942f265ff25"
      },
      "execution_count": 22,
      "outputs": [
        {
          "output_type": "execute_result",
          "data": {
            "text/plain": [
              "16.881943016134134"
            ]
          },
          "metadata": {},
          "execution_count": 22
        }
      ]
    },
    {
      "cell_type": "markdown",
      "source": [
        "## Matrices\n",
        "\n",
        "Now we can use these bulding blocks to learn how to implement and use matrices in NumPy\n",
        "\n",
        "--to be continued--"
      ],
      "metadata": {
        "id": "gZcfpfsSixOe"
      }
    },
    {
      "cell_type": "markdown",
      "source": [
        "## Acknowledgements\n",
        "\n",
        "This notebook wouldn't have been possible without:\n",
        "\n",
        "- NumPy Documentation\n",
        "- Applied Linear Algebra, Stephen Boyd (2018)"
      ],
      "metadata": {
        "id": "n7FxB6PBVfEY"
      }
    }
  ]
}