{
  "nbformat": 4,
  "nbformat_minor": 0,
  "metadata": {
    "colab": {
      "provenance": [],
      "authorship_tag": "ABX9TyPC80toiv5VP9BlfiTHpd0u"
    },
    "kernelspec": {
      "name": "python3",
      "display_name": "Python 3"
    },
    "language_info": {
      "name": "python"
    }
  },
  "cells": [
    {
      "cell_type": "markdown",
      "source": [
        "## Functions\n",
        "\n",
        "Before moving forward, it would be useful to revise functions. In Maths, a function takes an input – say $x$ – and returns an output – say $y$.\n",
        "\n",
        "$$y = f(x)$$\n",
        "\n",
        "We can also have **multivariate functions**, like:\n",
        "\n",
        "$$b = f(x,y,z)$$\n",
        "\n",
        "For example, first equation of motion takes 3 variables:\n",
        "\n",
        "$$v_f = v_i +at$$\n",
        "\n",
        "On the other hand, Newton's 2nd law takes 2 variables:\n",
        "\n",
        "$$F = ma$$\n",
        "\n",
        "---\n",
        "\n",
        "Functions in programming are similar to the mathematical functions which take an (or some) input(s) and return an output.\n",
        "\n",
        "A function is defined as:\n",
        "\n",
        "```\n",
        "def Func(<input variables>):\n",
        "  <Function Body>\n",
        "  return <output variable>\n",
        "```\n",
        "\n",
        "Let's see some examples.\n",
        "\n",
        "> **Note:** Contrary to mathematical functions, a programming function can even have no output.\n"
      ],
      "metadata": {
        "id": "oz8kN1J4eMxa"
      }
    },
    {
      "cell_type": "code",
      "source": [
        "import math\n",
        "\n",
        "def Circumference(radius):\n",
        "  C = 2*math.pi*radius\n",
        "  return C"
      ],
      "metadata": {
        "id": "Bzxlr-fagKhR"
      },
      "execution_count": 1,
      "outputs": []
    },
    {
      "cell_type": "markdown",
      "source": [
        "### Calling Functions\n",
        "\n",
        "So far, we have just defined it. That's similar to a function already defined in the **`math`** library we have already seen in the previous notebook.\n",
        "\n",
        "In order to use a function, we just have to call it with the given input variable and it will work. We can also evaluate a function by directly inputting the numeric value there."
      ],
      "metadata": {
        "id": "8zNZBNyxgmZG"
      }
    },
    {
      "cell_type": "code",
      "source": [
        "y = Circumference(3)\n",
        "print(\"Circumference of circle having radius 3 is: \",y)"
      ],
      "metadata": {
        "colab": {
          "base_uri": "https://localhost:8080/"
        },
        "id": "umoC2kFxhEEQ",
        "outputId": "805464d4-7f30-4612-9b27-4517f3ba3218"
      },
      "execution_count": 3,
      "outputs": [
        {
          "output_type": "stream",
          "name": "stdout",
          "text": [
            "Circumference of circle having radius 3 is:  18.84955592153876\n"
          ]
        }
      ]
    },
    {
      "cell_type": "markdown",
      "source": [
        "Let's try some other examples. Umm.. for example, projectile motion.\n",
        "\n",
        "A projectile's motion is defined in a quite sleek way using a set of equations:\n",
        "\n",
        "$$T = \\frac{2 v_0 \\sin\\theta}{g}$$\n",
        "\n",
        "$$H = \\frac{{v_0}^2 \\sin^2 \\theta}{2g}$$\n",
        "\n",
        "$$R = \\frac{{v_0}^2 \\sin 2\\theta}{g}$$\n",
        "\n",
        "Lets define (and use) them in Python:"
      ],
      "metadata": {
        "id": "r7l0qxw0iqsp"
      }
    },
    {
      "cell_type": "code",
      "source": [
        "def Projectile_Time(v0,𝜃):\n",
        "  t = 2*v0*math.sin(𝜃*math.pi/180)/9.8\n",
        "  return t"
      ],
      "metadata": {
        "id": "CcBPs-uGivNt"
      },
      "execution_count": 26,
      "outputs": []
    },
    {
      "cell_type": "markdown",
      "source": [
        "As you would have seen, Python is much closer to Mathematics than other languages. We can **even define our variables using the Greek alphabets**. Let's test it for some values of different angles and initial velocity."
      ],
      "metadata": {
        "id": "_DOHH-7Lk8TU"
      }
    },
    {
      "cell_type": "code",
      "source": [
        "print(\"Time taken by projectile for 30m/s at 45º is:\", Projectile_Time(30,45))\n",
        "print(\"Time taken by projectile for 30m/s at 60º is:\", Projectile_Time(30,60))\n",
        "print(\"Time taken by projectile for 30m/s at 30º is:\", Projectile_Time(30,30))"
      ],
      "metadata": {
        "colab": {
          "base_uri": "https://localhost:8080/"
        },
        "id": "h__8uLK8lMQ8",
        "outputId": "25d75f4c-5e1a-48d9-b695-1e9eca53a568"
      },
      "execution_count": 7,
      "outputs": [
        {
          "output_type": "stream",
          "name": "stdout",
          "text": [
            "Time taken by projectile for 30m/s at 45º is: 4.329225190938045\n",
            "Time taken by projectile for 30m/s at 60º is: 5.302196349700644\n",
            "Time taken by projectile for 30m/s at 30º is: 3.0612244897959178\n"
          ]
        }
      ]
    },
    {
      "cell_type": "markdown",
      "source": [
        "As we can see, the higher the angle, the longer it stays in the air. Similarly, the other two."
      ],
      "metadata": {
        "id": "li9tVM6ul3PN"
      }
    },
    {
      "cell_type": "code",
      "source": [
        "def Projectile_Height(v0,𝜃):\n",
        "  h = (v0**2)*(math.sin(𝜃*math.pi/180))**2/2*9.8\n",
        "  return h\n",
        "\n",
        "def Projectile_Range(v0,𝜃):\n",
        "  r = (v0**2)*(math.sin(2*𝜃*math.pi/180))/9.8\n",
        "  return r"
      ],
      "metadata": {
        "id": "_ORVz5jbnETB"
      },
      "execution_count": 10,
      "outputs": []
    },
    {
      "cell_type": "code",
      "source": [
        "print(\"Range of a projectile for 30m/s at 45º is:\", Projectile_Range(30,45))\n",
        "print(\"Range of a projectile for 30m/s at 60º is:\", Projectile_Range(30,60))\n",
        "print(\"Range of a projectile for 30m/s at 30º is:\", Projectile_Range(30,30))"
      ],
      "metadata": {
        "colab": {
          "base_uri": "https://localhost:8080/"
        },
        "id": "eksokmG8nsTX",
        "outputId": "b97663ab-94a0-4a4e-ee1a-de7546572f61"
      },
      "execution_count": 11,
      "outputs": [
        {
          "output_type": "stream",
          "name": "stdout",
          "text": [
            "Range of a projectile for 30m/s at 45º is: 91.83673469387755\n",
            "Range of a projectile for 30m/s at 60º is: 79.53294524550967\n",
            "Range of a projectile for 30m/s at 30º is: 79.53294524550965\n"
          ]
        }
      ]
    },
    {
      "cell_type": "markdown",
      "source": [
        "Inevitably, the max range is at 45º and starts decreasing either side of it.\n",
        "\n",
        "Now, we can see that all the projectiles have these common attributes:\n",
        "\n",
        "- $v_0$\n",
        "- $\\theta$\n",
        "and $H$, $R$ and $T$ too.\n",
        "\n",
        "Similarly, the constant **`g`** is common across the functions as well. To simplify them, we can combine them together in a class."
      ],
      "metadata": {
        "id": "UvdfsMQJoBOs"
      }
    },
    {
      "cell_type": "markdown",
      "source": [
        "# Object-Oriented Programming\n",
        "\n",
        "OOP deals with classes and objects and improves the code reusability. A class has attributes (variables) and functionalities."
      ],
      "metadata": {
        "id": "AJMBbsGxdGs2"
      }
    },
    {
      "cell_type": "markdown",
      "source": [
        "## Classes\n",
        "\n",
        "A class can be defined using the **`class`** keyword as:\n",
        "\n",
        "```\n",
        "class <Class name>:\n",
        "  <Class Members>\n",
        "```\n",
        "\n",
        "Class members can be attributes, functions (and some other things, as we will see later on).\n",
        "\n",
        "As a starter, we can simply define a Projectile class as:"
      ],
      "metadata": {
        "id": "p3BhvJC8dZ_o"
      }
    },
    {
      "cell_type": "code",
      "execution_count": 14,
      "metadata": {
        "id": "4_lCA9f1Rn9i"
      },
      "outputs": [],
      "source": [
        "class Projectile:\n",
        "  None"
      ]
    },
    {
      "cell_type": "markdown",
      "source": [
        "**`None`** is a handy keyword here specifying there is nothing here. We can add some attributes too."
      ],
      "metadata": {
        "id": "Gkpb7zD0yUV2"
      }
    },
    {
      "cell_type": "code",
      "source": [
        "class Projectile:\n",
        "  v0,\n",
        "  𝜃"
      ],
      "metadata": {
        "colab": {
          "base_uri": "https://localhost:8080/",
          "height": 309
        },
        "id": "Y24JiEJkyeP6",
        "outputId": "b0858baf-dafc-4ffa-a82d-61400b880b73"
      },
      "execution_count": 15,
      "outputs": [
        {
          "output_type": "error",
          "ename": "NameError",
          "evalue": "ignored",
          "traceback": [
            "\u001b[0;31m---------------------------------------------------------------------------\u001b[0m",
            "\u001b[0;31mNameError\u001b[0m                                 Traceback (most recent call last)",
            "\u001b[0;32m<ipython-input-15-66ca93c9a3fc>\u001b[0m in \u001b[0;36m<cell line: 1>\u001b[0;34m()\u001b[0m\n\u001b[0;32m----> 1\u001b[0;31m \u001b[0;32mclass\u001b[0m \u001b[0mProjectile\u001b[0m\u001b[0;34m:\u001b[0m\u001b[0;34m\u001b[0m\u001b[0;34m\u001b[0m\u001b[0m\n\u001b[0m\u001b[1;32m      2\u001b[0m   \u001b[0mv0\u001b[0m\u001b[0;34m,\u001b[0m\u001b[0;34m\u001b[0m\u001b[0;34m\u001b[0m\u001b[0m\n\u001b[1;32m      3\u001b[0m   \u001b[0m𝜃\u001b[0m\u001b[0;34m\u001b[0m\u001b[0;34m\u001b[0m\u001b[0m\n",
            "\u001b[0;32m<ipython-input-15-66ca93c9a3fc>\u001b[0m in \u001b[0;36mProjectile\u001b[0;34m()\u001b[0m\n\u001b[1;32m      1\u001b[0m \u001b[0;32mclass\u001b[0m \u001b[0mProjectile\u001b[0m\u001b[0;34m:\u001b[0m\u001b[0;34m\u001b[0m\u001b[0;34m\u001b[0m\u001b[0m\n\u001b[0;32m----> 2\u001b[0;31m   \u001b[0mv0\u001b[0m\u001b[0;34m,\u001b[0m\u001b[0;34m\u001b[0m\u001b[0;34m\u001b[0m\u001b[0m\n\u001b[0m\u001b[1;32m      3\u001b[0m   \u001b[0m𝜃\u001b[0m\u001b[0;34m\u001b[0m\u001b[0;34m\u001b[0m\u001b[0m\n",
            "\u001b[0;31mNameError\u001b[0m: name 'v0' is not defined"
          ]
        }
      ]
    },
    {
      "cell_type": "markdown",
      "source": [
        "If you are coming from traditional languages like C++,Java or C#, you are more likely to find it weird as **Python requires attributes to be defined with a default value** in the class.\n",
        "\n",
        "After fixing, the class will become (we can simply set the default values as 0):"
      ],
      "metadata": {
        "id": "oRYYUavhymtb"
      }
    },
    {
      "cell_type": "code",
      "source": [
        "class Projectile:\n",
        "  v0 = 0,\n",
        "  𝜃 = 0"
      ],
      "metadata": {
        "id": "dxYeUQ8wzBzs"
      },
      "execution_count": 16,
      "outputs": []
    },
    {
      "cell_type": "markdown",
      "source": [
        "> \"*The reasonable man adapts himself to the world; the unreasonable one persists in trying to adapt the world to himself. **Therefore all progress depends on the unreasonable man**.* \" – George Bernard Shaw, Man and Superman (1903)\n",
        "\n",
        "Weird doesn't always mean wrong. Python has its own way.\n",
        "\n"
      ],
      "metadata": {
        "id": "I3Qs9Wruzkm4"
      }
    },
    {
      "cell_type": "markdown",
      "source": [
        "## Objects\n",
        "\n",
        "A class is just a concept. In order to use it, we require objects. An object can be instantiated simply as:\n",
        "\n",
        "**`a = <ClassName>()`**\n",
        "\n"
      ],
      "metadata": {
        "id": "XjkdX3up0dky"
      }
    },
    {
      "cell_type": "code",
      "source": [
        "projectile1 = Projectile()\n",
        "projectile2 = Projectile()"
      ],
      "metadata": {
        "id": "48EHdSr9zM-f"
      },
      "execution_count": 18,
      "outputs": []
    },
    {
      "cell_type": "markdown",
      "source": [
        "### Accessing Class Members\n",
        "\n",
        "We have made the two objects. Great! But they don't have any associated data yet. We can verify it by printing their attributes.\n",
        "\n",
        "In order to access any class member, we use **`.`** operator as:\n",
        "\n",
        "**`a = <objectname>.<membername>`**\n",
        "\n"
      ],
      "metadata": {
        "id": "BTWsFiP101ZL"
      }
    },
    {
      "cell_type": "code",
      "source": [
        "print(projectile1.v0)"
      ],
      "metadata": {
        "colab": {
          "base_uri": "https://localhost:8080/"
        },
        "id": "Om8pCFQS01zW",
        "outputId": "3b4e8c8a-9055-479e-e46c-06efc468c6d8"
      },
      "execution_count": 20,
      "outputs": [
        {
          "output_type": "stream",
          "name": "stdout",
          "text": [
            "(0,)\n"
          ]
        }
      ]
    },
    {
      "cell_type": "markdown",
      "source": [
        "Inevitably, its zero. Now time to specify some values to these two projectiles' attributes.\n",
        "\n",
        "**Point to ponder:** What does **,** after the 0 means in the above output?"
      ],
      "metadata": {
        "id": "EGxyvzKI1ppo"
      }
    },
    {
      "cell_type": "code",
      "source": [
        "projectile1.v0 = 30\n",
        "projectile1.θ = 45\n",
        "\n",
        "print(\"Projectile 1's initial velocity is:\", projectile1.v0,\"and its angle is:\",projectile1.θ)"
      ],
      "metadata": {
        "colab": {
          "base_uri": "https://localhost:8080/"
        },
        "id": "Jn0UzWF-14Rn",
        "outputId": "f9a7d820-ac18-4625-946d-a562b65093cf"
      },
      "execution_count": 23,
      "outputs": [
        {
          "output_type": "stream",
          "name": "stdout",
          "text": [
            "Projectile 1's initial velocity is: 30 and its angle is: 45\n"
          ]
        }
      ]
    },
    {
      "cell_type": "markdown",
      "source": [
        "Now **`v0`** and **`θ`** don't exist individually. Their existence is linked with existence of an object."
      ],
      "metadata": {
        "id": "Xgxi8pGP2TI1"
      }
    },
    {
      "cell_type": "code",
      "source": [
        "print(θ)\n",
        "print(v0)"
      ],
      "metadata": {
        "colab": {
          "base_uri": "https://localhost:8080/",
          "height": 199
        },
        "id": "L9yGdX122e2p",
        "outputId": "86da4674-d188-47c5-9bfe-8564b44a0d5c"
      },
      "execution_count": 25,
      "outputs": [
        {
          "output_type": "error",
          "ename": "NameError",
          "evalue": "ignored",
          "traceback": [
            "\u001b[0;31m---------------------------------------------------------------------------\u001b[0m",
            "\u001b[0;31mNameError\u001b[0m                                 Traceback (most recent call last)",
            "\u001b[0;32m<ipython-input-25-28b3b7a5cf14>\u001b[0m in \u001b[0;36m<cell line: 1>\u001b[0;34m()\u001b[0m\n\u001b[0;32m----> 1\u001b[0;31m \u001b[0mprint\u001b[0m\u001b[0;34m(\u001b[0m\u001b[0mθ\u001b[0m\u001b[0;34m)\u001b[0m\u001b[0;34m\u001b[0m\u001b[0;34m\u001b[0m\u001b[0m\n\u001b[0m\u001b[1;32m      2\u001b[0m \u001b[0mprint\u001b[0m\u001b[0;34m(\u001b[0m\u001b[0mv0\u001b[0m\u001b[0;34m)\u001b[0m\u001b[0;34m\u001b[0m\u001b[0;34m\u001b[0m\u001b[0m\n",
            "\u001b[0;31mNameError\u001b[0m: name 'θ' is not defined"
          ]
        }
      ]
    },
    {
      "cell_type": "markdown",
      "source": [
        "## Methods\n",
        "\n",
        "So far, our class has a couple of attributes. But we are yet to add the respective functions as well. A class can have functions inside it and they are known as **Methods**.\n",
        "\n",
        "Coming back to the `Projectile` class, we can add methods as:"
      ],
      "metadata": {
        "id": "NTNJUg4l2qF4"
      }
    },
    {
      "cell_type": "code",
      "source": [
        "class Projectile:\n",
        "  v0 = 0,\n",
        "  𝜃 = 0\n",
        "\n",
        "  def Projectile_Time(v0,𝜃):\n",
        "    t = 2*v0*math.sin(𝜃*math.pi/180)/9.8\n",
        "    return t\n",
        "\n",
        "  def Projectile_Height(v0,𝜃):\n",
        "    h = (v0**2)*(math.sin(𝜃*math.pi/180))**2/2*9.8\n",
        "    return h\n",
        "\n",
        "  def Projectile_Range(v0,𝜃):\n",
        "    r = (v0**2)*(math.sin(2*𝜃*math.pi/180))/9.8\n",
        "    return r"
      ],
      "metadata": {
        "id": "EF4jMHbKT74i"
      },
      "execution_count": 27,
      "outputs": []
    },
    {
      "cell_type": "markdown",
      "source": [
        "Now we can check it by making an object (or two)."
      ],
      "metadata": {
        "id": "KA603e7xUZJK"
      }
    },
    {
      "cell_type": "code",
      "source": [
        "projectile3 = Projectile()\n",
        "\n",
        "projectile3.v0 = 30\n",
        "projectile3.θ = 60\n",
        "\n",
        "r = projectile3.Projectile_Range(30,60)\n",
        "\n",
        "print(r)"
      ],
      "metadata": {
        "colab": {
          "base_uri": "https://localhost:8080/",
          "height": 254
        },
        "id": "6kjstVovUgZE",
        "outputId": "a8f3fd2f-dae1-4e16-f9d8-6811f946d890"
      },
      "execution_count": 29,
      "outputs": [
        {
          "output_type": "error",
          "ename": "TypeError",
          "evalue": "ignored",
          "traceback": [
            "\u001b[0;31m---------------------------------------------------------------------------\u001b[0m",
            "\u001b[0;31mTypeError\u001b[0m                                 Traceback (most recent call last)",
            "\u001b[0;32m<ipython-input-29-1fc63551b237>\u001b[0m in \u001b[0;36m<cell line: 6>\u001b[0;34m()\u001b[0m\n\u001b[1;32m      4\u001b[0m \u001b[0mprojectile3\u001b[0m\u001b[0;34m.\u001b[0m\u001b[0mθ\u001b[0m \u001b[0;34m=\u001b[0m \u001b[0;36m60\u001b[0m\u001b[0;34m\u001b[0m\u001b[0;34m\u001b[0m\u001b[0m\n\u001b[1;32m      5\u001b[0m \u001b[0;34m\u001b[0m\u001b[0m\n\u001b[0;32m----> 6\u001b[0;31m \u001b[0mr\u001b[0m \u001b[0;34m=\u001b[0m \u001b[0mprojectile3\u001b[0m\u001b[0;34m.\u001b[0m\u001b[0mProjectile_Range\u001b[0m\u001b[0;34m(\u001b[0m\u001b[0;36m30\u001b[0m\u001b[0;34m,\u001b[0m\u001b[0;36m60\u001b[0m\u001b[0;34m)\u001b[0m\u001b[0;34m\u001b[0m\u001b[0;34m\u001b[0m\u001b[0m\n\u001b[0m\u001b[1;32m      7\u001b[0m \u001b[0;34m\u001b[0m\u001b[0m\n\u001b[1;32m      8\u001b[0m \u001b[0mprint\u001b[0m\u001b[0;34m(\u001b[0m\u001b[0mr\u001b[0m\u001b[0;34m)\u001b[0m\u001b[0;34m\u001b[0m\u001b[0;34m\u001b[0m\u001b[0m\n",
            "\u001b[0;31mTypeError\u001b[0m: Projectile.Projectile_Range() takes 2 positional arguments but 3 were given"
          ]
        }
      ]
    },
    {
      "cell_type": "markdown",
      "source": [
        "Wait a min! How come this method has three arguments/parameters when we have given only two?\n",
        "\n",
        "### Method Parameters should come from the Class Attributes themselves\n",
        "\n",
        "Before going into the answer of the above question, we need to realize another thing. There's no point in having **`v0`** or **`𝜃`** as function/method parameters anymore as we already have them as the class attributes.\n",
        "\n",
        "So instead we should take these attributes from the respective objects themselves.\n",
        "\n",
        "### Object Reference in the Class\n",
        "\n",
        "An object can be referred in a class by the keyword **`self`**. Lets update the methods accordingly."
      ],
      "metadata": {
        "id": "tJB_SRffVUdY"
      }
    },
    {
      "cell_type": "code",
      "source": [
        "class Projectile:\n",
        "  v0 = 0,\n",
        "  𝜃 = 0\n",
        "\n",
        "  def Projectile_Time():\n",
        "    t = 2*self.v0*math.sin(self.𝜃*math.pi/180)/9.8\n",
        "    return t\n",
        "\n",
        "  def Projectile_Height():\n",
        "    h = (self.v0**2)*(math.sin(self.𝜃*math.pi/180))**2/2*9.8\n",
        "    return h\n",
        "\n",
        "  def Projectile_Range():\n",
        "    r = (self.v0**2)*(math.sin(2*self.𝜃*math.pi/180))/9.8\n",
        "    return r"
      ],
      "metadata": {
        "id": "F6Ttfoh0W_VJ"
      },
      "execution_count": 30,
      "outputs": []
    },
    {
      "cell_type": "markdown",
      "source": [
        "And lets try the above example again:"
      ],
      "metadata": {
        "id": "axCozI8ZXR70"
      }
    },
    {
      "cell_type": "code",
      "source": [
        "projectile3 = Projectile()\n",
        "\n",
        "projectile3.v0 = 30\n",
        "projectile3.θ = 60\n",
        "\n",
        "r = projectile3.Projectile_Range() #No point in inputting the parameters as they are already attributes of the projectile3 object.\n",
        "\n",
        "print(r)"
      ],
      "metadata": {
        "colab": {
          "base_uri": "https://localhost:8080/",
          "height": 254
        },
        "id": "iBcU9CM9XUF6",
        "outputId": "4ebd7273-e34f-47d7-d562-7c12b8469b0c"
      },
      "execution_count": 31,
      "outputs": [
        {
          "output_type": "error",
          "ename": "TypeError",
          "evalue": "ignored",
          "traceback": [
            "\u001b[0;31m---------------------------------------------------------------------------\u001b[0m",
            "\u001b[0;31mTypeError\u001b[0m                                 Traceback (most recent call last)",
            "\u001b[0;32m<ipython-input-31-d118a74a0932>\u001b[0m in \u001b[0;36m<cell line: 6>\u001b[0;34m()\u001b[0m\n\u001b[1;32m      4\u001b[0m \u001b[0mprojectile3\u001b[0m\u001b[0;34m.\u001b[0m\u001b[0mθ\u001b[0m \u001b[0;34m=\u001b[0m \u001b[0;36m60\u001b[0m\u001b[0;34m\u001b[0m\u001b[0;34m\u001b[0m\u001b[0m\n\u001b[1;32m      5\u001b[0m \u001b[0;34m\u001b[0m\u001b[0m\n\u001b[0;32m----> 6\u001b[0;31m \u001b[0mr\u001b[0m \u001b[0;34m=\u001b[0m \u001b[0mprojectile3\u001b[0m\u001b[0;34m.\u001b[0m\u001b[0mProjectile_Range\u001b[0m\u001b[0;34m(\u001b[0m\u001b[0;34m)\u001b[0m \u001b[0;31m#No point in inputting the parameters as they are already attributes of the projectile3 object.\u001b[0m\u001b[0;34m\u001b[0m\u001b[0;34m\u001b[0m\u001b[0m\n\u001b[0m\u001b[1;32m      7\u001b[0m \u001b[0;34m\u001b[0m\u001b[0m\n\u001b[1;32m      8\u001b[0m \u001b[0mprint\u001b[0m\u001b[0;34m(\u001b[0m\u001b[0mr\u001b[0m\u001b[0;34m)\u001b[0m\u001b[0;34m\u001b[0m\u001b[0;34m\u001b[0m\u001b[0m\n",
            "\u001b[0;31mTypeError\u001b[0m: Projectile.Projectile_Range() takes 0 positional arguments but 1 was given"
          ]
        }
      ]
    },
    {
      "cell_type": "markdown",
      "source": [
        "Apparently, the former error is having none of it. The *hidden* variable keeps coming (wearing some magic hat).\n",
        "\n",
        "### Whenever a method is called, `self` is automatically its first/hidden argument\n",
        "\n",
        "So Python has this interesting feature where `self` is implicitly the first argument (whenever an object calls a method).\n",
        "\n",
        ">*See also: [Relevant StackOverflow Post](https://stackoverflow.com/questions/23944657/typeerror-method-takes-1-positional-argument-but-2-were-given-but-i-only-pa)*\n",
        "\n",
        "And the easy solution is to add **`self`** as the first argument of the methods definitions as well. It would ensure that the implicity `self` would also be counted as an argument and everything would start making some sense (before its too late for some of you).\n",
        "\n",
        "Finally, we update the `Projectile` class as:"
      ],
      "metadata": {
        "id": "GvaAQOW_XlTL"
      }
    },
    {
      "cell_type": "code",
      "source": [
        "class Projectile:\n",
        "  v0 = 0,\n",
        "  𝜃 = 0\n",
        "\n",
        "  def Projectile_Time(self):\n",
        "    t = 2*self.v0*math.sin(self.𝜃*math.pi/180)/9.8\n",
        "    return t\n",
        "\n",
        "  def Projectile_Height(self):\n",
        "    h = (self.v0**2)*(math.sin(self.𝜃*math.pi/180))**2/2*9.8\n",
        "    return h\n",
        "\n",
        "  def Projectile_Range(self):\n",
        "    r = (self.v0**2)*(math.sin(2*self.𝜃*math.pi/180))/9.8\n",
        "    return r"
      ],
      "metadata": {
        "id": "NdI-Ji96ZCeJ"
      },
      "execution_count": 33,
      "outputs": []
    },
    {
      "cell_type": "markdown",
      "source": [
        "Let's try to call the method again:"
      ],
      "metadata": {
        "id": "MaOyhZK_ZIKn"
      }
    },
    {
      "cell_type": "code",
      "source": [
        "projectile3 = Projectile()\n",
        "\n",
        "projectile3.v0 = 30\n",
        "projectile3.θ = 60\n",
        "\n",
        "r = projectile3.Projectile_Range() #No point in inputting the parameters as they are already attributes of the projectile3 object.\n",
        "\n",
        "print(r)"
      ],
      "metadata": {
        "colab": {
          "base_uri": "https://localhost:8080/"
        },
        "id": "p_McBT7PZMCi",
        "outputId": "07f62234-cdeb-4b5b-9cbf-4d634fee23d1"
      },
      "execution_count": 34,
      "outputs": [
        {
          "output_type": "stream",
          "name": "stdout",
          "text": [
            "79.53294524550967\n"
          ]
        }
      ]
    },
    {
      "cell_type": "markdown",
      "source": [
        "Life is back to normal. Someone can hear the seagulls in the background.\n",
        "\n",
        "---"
      ],
      "metadata": {
        "id": "WGk3-IduZTmj"
      }
    },
    {
      "cell_type": "markdown",
      "source": [
        "## Inheritance\n",
        "\n",
        "Whenever two classes have some common attributes/functionalities, they can be inherited from a common/parent class. This phenomenon is known as **inheritance** and can be defined as an ***is-a*** relationship between the two classes. Like history book is a book, iPhone is a phone, student is a person, etc.\n",
        "\n",
        "Enough of talking, lets start it by making a base/parent class first:"
      ],
      "metadata": {
        "id": "-P8RCvBtZrlH"
      }
    },
    {
      "cell_type": "code",
      "source": [
        "class MobilePhone:\n",
        "  make = \"\",\n",
        "  model = \"\",\n",
        "  batteryCapacity = 5000\n",
        "  networkCapacity = \"3G\"\n",
        "\n",
        "  def Call(self):\n",
        "    print(\"Dummy function to show that we are calling using the phone object\")\n",
        "\n",
        "  def ReceiveCall(self):\n",
        "    print(\"Dummy function to show that we are receiving the call using the phone object\")"
      ],
      "metadata": {
        "id": "YVfUB0SVc5HZ"
      },
      "execution_count": 35,
      "outputs": []
    },
    {
      "cell_type": "markdown",
      "source": [
        "The purpose of dummy functions here is just to show an abstraction. How phones make or receive a call is a telecome engineer's job, we are just modelling it. If a class has some functionality, which we can understand and implement, we will definitely implement it (like ML models).\n",
        "\n",
        "> **Note:** The casing used for **`batteryCapacity`** and **`networkCapacity`** above is known as **Camel-casing** and widely used for the attributes in a class (even for the normal variables).\n",
        "\n",
        "Lets try to make a couple of phones (i.e, above class' objects):"
      ],
      "metadata": {
        "id": "QHXFcflndaoz"
      }
    },
    {
      "cell_type": "code",
      "source": [
        "phone1 = MobilePhone()\n",
        "phone1.make = \"Samsung\"\n",
        "phone1.model = \"S3\"\n"
      ],
      "metadata": {
        "id": "Yn8GSMi9eGIb"
      },
      "execution_count": 37,
      "outputs": []
    },
    {
      "cell_type": "markdown",
      "source": [
        "Since we had initialized battery and network capacity with the default values, we can override their values to ones for the given object:"
      ],
      "metadata": {
        "id": "ZrHAPxTSeQ6-"
      }
    },
    {
      "cell_type": "code",
      "source": [
        "phone1.batteryCapacity = 20000\n",
        "phone1.networkCapacity = \"5G\"\n",
        "\n",
        "print(\"Phone1 has \",phone1.networkCapacity,\" capacity.\")"
      ],
      "metadata": {
        "colab": {
          "base_uri": "https://localhost:8080/"
        },
        "id": "KWNej9FoeaXk",
        "outputId": "fde35c33-1c51-48a7-88b0-4f6fc2468ae3"
      },
      "execution_count": 38,
      "outputs": [
        {
          "output_type": "stream",
          "name": "stdout",
          "text": [
            "Phone1 has  5G  capacity.\n"
          ]
        }
      ]
    },
    {
      "cell_type": "markdown",
      "source": [
        "So we have defined a base class. We can use it to inherit any class. For inheritance, we use a ridiculously simple syntax of:\n",
        "\n",
        "**`class <child class>(<parent class>)`**\n",
        "\n",
        "For example, we make an **`iPhone`** class as:"
      ],
      "metadata": {
        "id": "fPlLi1-YesyC"
      }
    },
    {
      "cell_type": "code",
      "source": [
        "class iPhone(MobilePhone):\n",
        "  None"
      ],
      "metadata": {
        "id": "r9WZytplfAlA"
      },
      "execution_count": 42,
      "outputs": []
    },
    {
      "cell_type": "markdown",
      "source": [
        "**Note:** Those coming from C++ or Java would find it new as those languages use **`:`** for the inheritance. But inevitably, since `:` is used in Python for other purposes (to begin the class definition, etc.), so we cannot use it here.\n",
        "\n",
        "Since `iPhone` has inherited from `MobilePhone`, so it has inherited all the class members as well. We can verify it:"
      ],
      "metadata": {
        "id": "zzVvbhwaffrB"
      }
    },
    {
      "cell_type": "code",
      "source": [
        "i1 = iPhone()\n",
        "\n",
        "print(i1.networkCapacity)"
      ],
      "metadata": {
        "colab": {
          "base_uri": "https://localhost:8080/"
        },
        "id": "t4oUMwvMgf2Y",
        "outputId": "493db656-8f3b-4285-8441-c981bb25b3d9"
      },
      "execution_count": 41,
      "outputs": [
        {
          "output_type": "stream",
          "name": "stdout",
          "text": [
            "3G\n"
          ]
        }
      ]
    },
    {
      "cell_type": "markdown",
      "source": [
        "Assuming that all the iPhones have 4G or more capacity, we can obviously update the **`iPhone`** class's definition to reflect that:"
      ],
      "metadata": {
        "id": "CxWE4GQ2gnZB"
      }
    },
    {
      "cell_type": "code",
      "source": [
        "class iPhone(MobilePhone):\n",
        "  networkCapacity = \"4G\""
      ],
      "metadata": {
        "id": "3A4LxfudgxTw"
      },
      "execution_count": 44,
      "outputs": []
    },
    {
      "cell_type": "markdown",
      "source": [
        "Now it will show 4G for all the respective objects"
      ],
      "metadata": {
        "id": "BSAHouIsg2n2"
      }
    },
    {
      "cell_type": "code",
      "source": [
        "i1 = iPhone()\n",
        "\n",
        "print(i1.networkCapacity)"
      ],
      "metadata": {
        "colab": {
          "base_uri": "https://localhost:8080/"
        },
        "id": "txSjLIkeg5-a",
        "outputId": "ae2598a3-42cc-42ce-cd7f-53e5c63bbc75"
      },
      "execution_count": 45,
      "outputs": [
        {
          "output_type": "stream",
          "name": "stdout",
          "text": [
            "4G\n"
          ]
        }
      ]
    }
  ]
}
