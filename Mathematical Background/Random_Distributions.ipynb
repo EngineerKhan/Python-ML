{
 "cells": [
  {
   "cell_type": "markdown",
   "metadata": {
    "id": "q5hWNZAZe0Hc"
   },
   "source": [
    "## Variables Revisited\n",
    "\n",
    "In both Algebra and programming, we deal with either constants or variables. Lets check some examples of variables:\n",
    "\n",
    "$$y = x^2-3$$\n",
    "\n",
    "Whenever we will have $x=0$, it will return $-3$. Similarly,\n",
    "\n",
    "$$x = sin(\\theta)$$\n",
    "\n",
    "will always return $1$ for $\\theta = \\pi/2$.\n",
    "\n",
    "Nothing special. Now check a couple of programming examples:\n",
    "\n"
   ]
  },
  {
   "cell_type": "code",
   "execution_count": 20,
   "metadata": {
    "id": "hVTonUfchIVt"
   },
   "outputs": [],
   "source": [
    "y = lambda x: 3*x*x+1"
   ]
  },
  {
   "cell_type": "markdown",
   "metadata": {
    "id": "ZThkkx-YhVPU"
   },
   "source": [
    "Now, regardless of the user, time, OS, Python version, your location or any other parameter, this function will always return the same value for same value of `x`."
   ]
  },
  {
   "cell_type": "code",
   "execution_count": 21,
   "metadata": {
    "colab": {
     "base_uri": "https://localhost:8080/"
    },
    "id": "9FWIJcGjhjIu",
    "outputId": "52c3ab1e-7639-44a3-a822-5d917fa21f7f"
   },
   "outputs": [
    {
     "data": {
      "text/plain": [
       "13"
      ]
     },
     "execution_count": 21,
     "metadata": {},
     "output_type": "execute_result"
    }
   ],
   "source": [
    "y(2)"
   ]
  },
  {
   "cell_type": "markdown",
   "metadata": {
    "id": "cacT59WyhSDD"
   },
   "source": [
    "On the other hand, consider the variable `x`:"
   ]
  },
  {
   "cell_type": "code",
   "execution_count": 22,
   "metadata": {
    "id": "HorkUqhwiPDB"
   },
   "outputs": [],
   "source": [
    "import datetime\n",
    "x = datetime.datetime.now()"
   ]
  },
  {
   "cell_type": "code",
   "execution_count": 23,
   "metadata": {
    "colab": {
     "base_uri": "https://localhost:8080/"
    },
    "id": "lz8jH_tPiSf_",
    "outputId": "101dfdae-c56c-494d-ec4f-1df9e64a1cf5"
   },
   "outputs": [
    {
     "data": {
      "text/plain": [
       "datetime.datetime(2023, 8, 25, 11, 3, 29, 866635)"
      ]
     },
     "execution_count": 23,
     "metadata": {},
     "output_type": "execute_result"
    }
   ],
   "source": [
    "x"
   ]
  },
  {
   "cell_type": "markdown",
   "metadata": {
    "id": "XjxyUx8HiX-x"
   },
   "source": [
    "Its value is not deterministic like the other variables above and depends on the time at which it is called (doesn't depend on the location as it shows UTC time).\n",
    "\n",
    "There can be a number of other examples, for example:\n",
    "\n",
    "- Current temperature\n",
    "- Outcome of a coin toss or a dice roll\n",
    "- Sunset time\n",
    "- Time since last boundary in a cricket (or goal in a football) match\n",
    "- Age (height, gender or any attribute) of the next person we will meet\n",
    "\n",
    "Since these variables are non-deterministic (or simply random), we can't model them making a simple function. Studying/explaining them requires a dedicated field of its own."
   ]
  },
  {
   "cell_type": "markdown",
   "metadata": {
    "id": "w-GsK8UOkhpz"
   },
   "source": [
    "## Random Variables\n",
    "\n",
    "Probability is nothing but study of the events we aren't **absolutely** certain about (in other words, its study of the non-deterministic events). The word probability may scare a number of students (it still scares me at times), but this is something we do everyday, without even realizing it. For example:\n",
    "\n",
    "- It has been a week since petrol price didn't go up, so chances are high that it will be up tonight.\n",
    "- Wearing a helmet would decrease the chances of having an accident (or a fatal one), so I would prefer to wear one.\n",
    "- Since previous lunar month was of 30, so there are high chances of this month being of 29 days.\n",
    "\n",
    "We can come across 2 types of variables:\n",
    "\n",
    "- Deterministic\n",
    "- Stochastic/Random\n",
    "\n",
    "\n",
    "A random variable is just a function of the experimental outcome of these random/probabilistic events.\n",
    "\n",
    "> **Note:** A random variable will always have a real value, and usually denoted in the capital letters."
   ]
  },
  {
   "cell_type": "markdown",
   "metadata": {
    "id": "1ilqi8zTpLKa"
   },
   "source": [
    "### Discrete and Continuous RVs\n",
    "\n",
    "For example, we have a random variable:\n",
    "\n",
    "$$X= Outcome \\space of \\space Coin$$\n",
    "\n",
    "Since coin can take two values. i.e, $x=\\{{0,1}\\}$, so it will be a **discrete** random variable.\n",
    "\n",
    "On the other hand, picking a value from the range of $[0,1]$ (we can pick any fractional number like 0.07, 0.53, 0.192, etc.) leads to infinite values of $x$ and hence its a **continuous** random variable.\n",
    "\n",
    "> **Note:** Please note the difference between the $x$ and $X$ here. $X$ represents the random variable, while $x$ represents any of the value this variable can have."
   ]
  },
  {
   "cell_type": "markdown",
   "metadata": {
    "id": "2yHnj0h9hHoK"
   },
   "source": [
    "### Probability Mass Function\n",
    "\n",
    "In the above coin throw example, we have an equal probability of head or tail. We can write these probabilities for $X$ as:\n",
    "\n",
    "$$p_X(x) = \\begin{cases}1/2 &x= 0, \\\\\n",
    "\\\\1/2 & x=1\\end{cases}$$\n",
    "\n",
    "This function can be used to characterize/observe the probabilities of all the outcomes for a random variable.\n",
    "\n",
    "> **Note:** Sum of all values for a $p_X(x)$ will always be $1$. Pretty inevitable given probabilities of all the possible outcomes of an event always sum to $1$."
   ]
  },
  {
   "cell_type": "markdown",
   "metadata": {
    "id": "nTp2MS7Ruswm"
   },
   "source": [
    "### Expected Value\n",
    "\n",
    "Expected value of a random variable, $E[X]$ is defined as the sum of all the possible outcomes, multiplied by the respective probabilities:\n",
    "\n",
    "$$E[X] = \\sum _x x p_X(x)$$\n",
    "\n",
    "In the above case, it will be $1/2 \\times 0 + 1/2 \\times 1 = 1/2$.\n",
    "\n",
    "Lets consider another example of a dice roll. Assuming its a fair dice, we will have:\n",
    "\n",
    "$$p_X(x) = \\begin{cases}\n",
    "1/6 &x= 1 \\\\\n",
    "1/6 & x=2 \\\\\n",
    "1/6 & x =3 \\\\\n",
    "1/6 &x= 4 \\\\\n",
    "1/6 & x=5 \\\\\n",
    "1/6 & x =6 \\\\\n",
    "\\end{cases}$$\n",
    "\n",
    "\n",
    "\n",
    "Its expected value will be:\n",
    "\n",
    "$$E[X] = \\sum _x x p_X(x)$$\n",
    "\n",
    "$$= \\frac{1}{6}+\\frac{2}{6}+\\frac{3}{6}+\\frac{4}{6}+\\frac{5}{6}+1$$\n",
    "\n",
    "$$=\\frac{1+2+3+4+5+6}{6} = \\frac{21}{6}$$\n",
    "\n",
    "$$=3.5$$\n"
   ]
  },
  {
   "cell_type": "markdown",
   "metadata": {
    "id": "zRgx5YK6BvYx"
   },
   "source": [
    "### Variance\n",
    "\n",
    "Similarly, we have another important attribute of random variables, known as variance.\n",
    "\n",
    "Its defined as:\n",
    "\n",
    "$$Var(X) = E[(X-E(X)^2)]$$\n",
    "\n",
    "\n",
    "Lets calculate it for the previous example:\n",
    "\n",
    "$$Var(X)=\\sum _x (x-E[X])^2 p_X(x)$$\n",
    "\n",
    "$$=\\frac{1}{6}\\sum _x (x-3.5)^2 $$\n",
    "\n",
    "$$=\\frac{1}{6} (2\\times2.5^2 + 2\\times1.5^2 + 2\\times0.5^2)$$\n",
    "\n",
    "$$= 2.917$$\n",
    "\n",
    "We can verify it:\n"
   ]
  },
  {
   "cell_type": "code",
   "execution_count": 24,
   "metadata": {
    "colab": {
     "base_uri": "https://localhost:8080/"
    },
    "id": "x2glo2MXEYdO",
    "outputId": "12fbb457-4c18-4056-ded7-740a24192cdc"
   },
   "outputs": [
    {
     "name": "stdout",
     "output_type": "stream",
     "text": [
      "2.9166666666666665\n"
     ]
    }
   ],
   "source": [
    "sum = 0\n",
    "for x in range(1,7):\n",
    "  sum = sum+((x-3.5)**2)\n",
    "\n",
    "print(sum/6)"
   ]
  },
  {
   "cell_type": "markdown",
   "metadata": {
    "id": "hGm_YDcnGghC"
   },
   "source": [
    "### Variance as Sum of Expected Values\n",
    "\n",
    "We can rewrite Variance as combination of expected values too:\n",
    "\n",
    "$$Var(X)=\\sum _x (x-E[X])^2 p_X(x)$$\n",
    "\n",
    "$$=\\sum _x (x^2 + (E[X])^2 - 2xE[X])p_X(x)$$\n",
    "\n",
    "$$=\\sum_x x^2 p_X(x)+\\sum _x (E[X])^2 p_X(x) -\\sum _x2xE[X]p_X(x)$$\n",
    "\n",
    "Since $E[X]$ (or $E[X^2]$) is independent of $x$, we can take it out of the summation.\n",
    "\n",
    "$$=\\sum_x x^2 p_X(x)+(E[X])^2 \\sum _x p_X(x) -2 E[X]\\sum _x xp_X(x)$$\n",
    "\n",
    "Since sum of probabilities is $1$, and re-applying the definition of expected value:\n",
    "\n",
    "$$=E[X^2]+(E[X])^2  -2 (E[X])^2$$\n",
    "\n",
    "$$=E[X^2]-E[X]^2$$"
   ]
  },
  {
   "cell_type": "markdown",
   "metadata": {
    "id": "d1ChWQOiK5AL"
   },
   "source": [
    "## Continuous Random Variables\n",
    "\n",
    "As mentioned above, if number of possible outcomes is infinite, it is a continuous RV. And since summation isn't possible, we replace it by integration.\n",
    "\n"
   ]
  },
  {
   "cell_type": "markdown",
   "metadata": {
    "id": "d09cgLI-LXpe"
   },
   "source": [
    "### CDF/PDF\n",
    "\n",
    "PMF is replaced by CDF for continuous variables as:\n",
    "\n",
    "$$F_X(x) = {P}(X\\leq x) = \\int_{-\\infty}^x f_X(x) \\, dx$$\n",
    "\n",
    "While PDF is calculated by taking the derivative:\n",
    "\n",
    "$$f_X(x) = \\frac{d}{dx} F_X(x)$$"
   ]
  },
  {
   "cell_type": "code",
   "execution_count": 25,
   "metadata": {
    "id": "-gBYXlYvOIqK"
   },
   "outputs": [],
   "source": [
    "import jax\n",
    "import jax.numpy as jnp\n",
    "import numpy as np\n",
    "import pandas as pd"
   ]
  },
  {
   "cell_type": "code",
   "execution_count": 26,
   "metadata": {
    "colab": {
     "base_uri": "https://localhost:8080/",
     "height": 363
    },
    "id": "Xe_s1u9ONxxN",
    "outputId": "e3b6eb07-a98f-45ff-eb06-7563e69ed5aa"
   },
   "outputs": [
    {
     "data": {
      "text/html": [
       "<div>\n",
       "<style scoped>\n",
       "    .dataframe tbody tr th:only-of-type {\n",
       "        vertical-align: middle;\n",
       "    }\n",
       "\n",
       "    .dataframe tbody tr th {\n",
       "        vertical-align: top;\n",
       "    }\n",
       "\n",
       "    .dataframe thead th {\n",
       "        text-align: right;\n",
       "    }\n",
       "</style>\n",
       "<table border=\"1\" class=\"dataframe\">\n",
       "  <thead>\n",
       "    <tr style=\"text-align: right;\">\n",
       "      <th></th>\n",
       "      <th>0</th>\n",
       "      <th>1</th>\n",
       "      <th>2</th>\n",
       "      <th>3</th>\n",
       "      <th>4</th>\n",
       "      <th>5</th>\n",
       "      <th>6</th>\n",
       "      <th>7</th>\n",
       "      <th>8</th>\n",
       "      <th>9</th>\n",
       "    </tr>\n",
       "  </thead>\n",
       "  <tbody>\n",
       "    <tr>\n",
       "      <th>0</th>\n",
       "      <td>0.662322</td>\n",
       "      <td>0.247780</td>\n",
       "      <td>0.309497</td>\n",
       "      <td>0.763998</td>\n",
       "      <td>0.776863</td>\n",
       "      <td>0.356946</td>\n",
       "      <td>0.259577</td>\n",
       "      <td>0.926105</td>\n",
       "      <td>0.943642</td>\n",
       "      <td>0.988306</td>\n",
       "    </tr>\n",
       "    <tr>\n",
       "      <th>1</th>\n",
       "      <td>0.913841</td>\n",
       "      <td>0.948413</td>\n",
       "      <td>0.263725</td>\n",
       "      <td>0.157475</td>\n",
       "      <td>0.884221</td>\n",
       "      <td>0.401372</td>\n",
       "      <td>0.881749</td>\n",
       "      <td>0.842141</td>\n",
       "      <td>0.180091</td>\n",
       "      <td>0.616033</td>\n",
       "    </tr>\n",
       "    <tr>\n",
       "      <th>2</th>\n",
       "      <td>0.963035</td>\n",
       "      <td>0.430902</td>\n",
       "      <td>0.588554</td>\n",
       "      <td>0.554370</td>\n",
       "      <td>0.200740</td>\n",
       "      <td>0.003950</td>\n",
       "      <td>0.990952</td>\n",
       "      <td>0.431816</td>\n",
       "      <td>0.207736</td>\n",
       "      <td>0.246427</td>\n",
       "    </tr>\n",
       "    <tr>\n",
       "      <th>3</th>\n",
       "      <td>0.310136</td>\n",
       "      <td>0.036988</td>\n",
       "      <td>0.812652</td>\n",
       "      <td>0.866788</td>\n",
       "      <td>0.878779</td>\n",
       "      <td>0.655576</td>\n",
       "      <td>0.642211</td>\n",
       "      <td>0.083570</td>\n",
       "      <td>0.692070</td>\n",
       "      <td>0.055851</td>\n",
       "    </tr>\n",
       "    <tr>\n",
       "      <th>4</th>\n",
       "      <td>0.167152</td>\n",
       "      <td>0.690268</td>\n",
       "      <td>0.321561</td>\n",
       "      <td>0.492160</td>\n",
       "      <td>0.619961</td>\n",
       "      <td>0.888054</td>\n",
       "      <td>0.185492</td>\n",
       "      <td>0.454043</td>\n",
       "      <td>0.941841</td>\n",
       "      <td>0.841417</td>\n",
       "    </tr>\n",
       "    <tr>\n",
       "      <th>5</th>\n",
       "      <td>0.484752</td>\n",
       "      <td>0.693271</td>\n",
       "      <td>0.872197</td>\n",
       "      <td>0.054192</td>\n",
       "      <td>0.483206</td>\n",
       "      <td>0.540771</td>\n",
       "      <td>0.075209</td>\n",
       "      <td>0.661416</td>\n",
       "      <td>0.929001</td>\n",
       "      <td>0.830085</td>\n",
       "    </tr>\n",
       "    <tr>\n",
       "      <th>6</th>\n",
       "      <td>0.667519</td>\n",
       "      <td>0.717925</td>\n",
       "      <td>0.398796</td>\n",
       "      <td>0.875562</td>\n",
       "      <td>0.643998</td>\n",
       "      <td>0.274507</td>\n",
       "      <td>0.981851</td>\n",
       "      <td>0.162394</td>\n",
       "      <td>0.188140</td>\n",
       "      <td>0.243973</td>\n",
       "    </tr>\n",
       "    <tr>\n",
       "      <th>7</th>\n",
       "      <td>0.330432</td>\n",
       "      <td>0.423985</td>\n",
       "      <td>0.503593</td>\n",
       "      <td>0.964605</td>\n",
       "      <td>0.422909</td>\n",
       "      <td>0.969034</td>\n",
       "      <td>0.679695</td>\n",
       "      <td>0.901093</td>\n",
       "      <td>0.286674</td>\n",
       "      <td>0.493251</td>\n",
       "    </tr>\n",
       "    <tr>\n",
       "      <th>8</th>\n",
       "      <td>0.335038</td>\n",
       "      <td>0.710813</td>\n",
       "      <td>0.627063</td>\n",
       "      <td>0.529150</td>\n",
       "      <td>0.614734</td>\n",
       "      <td>0.468689</td>\n",
       "      <td>0.946301</td>\n",
       "      <td>0.835914</td>\n",
       "      <td>0.176824</td>\n",
       "      <td>0.721712</td>\n",
       "    </tr>\n",
       "    <tr>\n",
       "      <th>9</th>\n",
       "      <td>0.529390</td>\n",
       "      <td>0.259844</td>\n",
       "      <td>0.246039</td>\n",
       "      <td>0.336727</td>\n",
       "      <td>0.962108</td>\n",
       "      <td>0.105224</td>\n",
       "      <td>0.401813</td>\n",
       "      <td>0.940434</td>\n",
       "      <td>0.415794</td>\n",
       "      <td>0.246386</td>\n",
       "    </tr>\n",
       "  </tbody>\n",
       "</table>\n",
       "</div>"
      ],
      "text/plain": [
       "          0         1         2         3         4         5         6  \\\n",
       "0  0.662322  0.247780  0.309497  0.763998  0.776863  0.356946  0.259577   \n",
       "1  0.913841  0.948413  0.263725  0.157475  0.884221  0.401372  0.881749   \n",
       "2  0.963035  0.430902  0.588554  0.554370  0.200740  0.003950  0.990952   \n",
       "3  0.310136  0.036988  0.812652  0.866788  0.878779  0.655576  0.642211   \n",
       "4  0.167152  0.690268  0.321561  0.492160  0.619961  0.888054  0.185492   \n",
       "5  0.484752  0.693271  0.872197  0.054192  0.483206  0.540771  0.075209   \n",
       "6  0.667519  0.717925  0.398796  0.875562  0.643998  0.274507  0.981851   \n",
       "7  0.330432  0.423985  0.503593  0.964605  0.422909  0.969034  0.679695   \n",
       "8  0.335038  0.710813  0.627063  0.529150  0.614734  0.468689  0.946301   \n",
       "9  0.529390  0.259844  0.246039  0.336727  0.962108  0.105224  0.401813   \n",
       "\n",
       "          7         8         9  \n",
       "0  0.926105  0.943642  0.988306  \n",
       "1  0.842141  0.180091  0.616033  \n",
       "2  0.431816  0.207736  0.246427  \n",
       "3  0.083570  0.692070  0.055851  \n",
       "4  0.454043  0.941841  0.841417  \n",
       "5  0.661416  0.929001  0.830085  \n",
       "6  0.162394  0.188140  0.243973  \n",
       "7  0.901093  0.286674  0.493251  \n",
       "8  0.835914  0.176824  0.721712  \n",
       "9  0.940434  0.415794  0.246386  "
      ]
     },
     "execution_count": 26,
     "metadata": {},
     "output_type": "execute_result"
    }
   ],
   "source": [
    "X = np.random.rand(10,10)\n",
    "df6 = pd.DataFrame(X)\n",
    "\n",
    "df6"
   ]
  },
  {
   "cell_type": "code",
   "execution_count": 27,
   "metadata": {
    "colab": {
     "base_uri": "https://localhost:8080/"
    },
    "id": "KAZqD8b1N-yu",
    "outputId": "8fdb7ad6-c172-400f-998a-fa8ee05b273b"
   },
   "outputs": [
    {
     "name": "stdout",
     "output_type": "stream",
     "text": [
      "0.55\n",
      "0.08\n"
     ]
    }
   ],
   "source": [
    "print(round(np.mean(X),2))\n",
    "\n",
    "print(round(np.var(X),2))"
   ]
  },
  {
   "cell_type": "code",
   "execution_count": 28,
   "metadata": {
    "colab": {
     "base_uri": "https://localhost:8080/"
    },
    "id": "2uEkddTUOCoy",
    "outputId": "8c6a2f93-e220-4aba-f043-0c96399e742b"
   },
   "outputs": [
    {
     "name": "stdout",
     "output_type": "stream",
     "text": [
      "0.5\n",
      "0.08\n"
     ]
    }
   ],
   "source": [
    "Y = np.random.rand(10000,10000)\n",
    "\n",
    "print(round(np.mean(Y),2))\n",
    "\n",
    "print(round(np.var(Y),2))"
   ]
  },
  {
   "cell_type": "markdown",
   "metadata": {
    "id": "HhJHZHGcONfV"
   },
   "source": [
    "## Normal Distribution\n",
    "\n",
    "Normal/Gaussian distribution is defined as:\n",
    "\n",
    "$$ f(x)={\\frac {1}{\\sigma {\\sqrt {2\\pi }}}}e^{-{\\frac {1}{2}}\\left({\\frac {x-\\mu }{\\sigma }}\\right)^{2}} $$\n",
    "\n",
    "This apparently nightmarish equation is one of the fundamental equations finding applications in a number of things from filters for blurring images to SVMs.\n",
    "\n",
    "Irrespective of the equation above, normal distribution finds its application in a number of fields. Traffic on the road throughout the 24 hours, sum of two dices rolled together, heights of students in a class, incomes... you can model any of them and it would find a nice bell curve.\n",
    "\n",
    "![](https://upload.wikimedia.org/wikipedia/commons/3/3a/Standard_deviation_diagram_micro.svg)\n",
    "\n",
    "We refer to Normal distribution as $\\mathcal{N}(\\mu,\\sigma)$, where $\\mu$ is the mean and $\\sigma$ is the square root of variance (also known as the Standard Deviation)."
   ]
  },
  {
   "cell_type": "markdown",
   "metadata": {
    "id": "X4FEQPp-O9GU"
   },
   "source": [
    "### Standard Normal Distribution\n",
    "\n",
    "Standard Normal Distribution has variance of 1 and mean of 0 (i.e, spread around $[-0.5,+0.5]$). In other words, it can be represented as $\\mathcal{N}(0,1)$.\n",
    "\n",
    "Standard Normal Distribution has been extensively studied and finds a number of applications. For example, [Batch Normalization](https://arxiv.org/abs/1502.03167) is nothing but converting the data distribution to standard normal. Its CDF is represented as $\\phi$ and is available as [a table](https://en.wikipedia.org/wiki/Standard_normal_table).\n",
    "\n",
    "We can make any other distribution, $\\mathcal{N}(\\mu,\\sigma)$ using standard normal as:\n",
    "\n",
    "$$\\mathcal{N}(\\mu,\\sigma) = \\sigma X+\\mu$$\n",
    "\n",
    "Where $X$ is $\\mathcal{N}(0,1)$.\n",
    "\n",
    "In all the libraries, Normal Distribution is provided as the Standard Normal. Enough of talking, lets start working:"
   ]
  },
  {
   "cell_type": "markdown",
   "metadata": {
    "id": "XQKikh1wOw5r"
   },
   "source": [
    "### In NumPy\n",
    "\n",
    "Its syntax is:\n",
    "\n",
    "`np.random.normal(<mean>,<var>,<dimensions>)`"
   ]
  },
  {
   "cell_type": "code",
   "execution_count": 29,
   "metadata": {
    "colab": {
     "base_uri": "https://localhost:8080/"
    },
    "id": "HCSofosdO0wK",
    "outputId": "4ff1e725-c8a3-4d48-a0c8-edaba27f0e00"
   },
   "outputs": [
    {
     "data": {
      "text/plain": [
       "array([[-0.37529053,  1.95463159,  0.25520342, ..., -0.82509029,\n",
       "        -1.10124242, -2.11138761],\n",
       "       [ 0.00892951,  1.36967162,  0.86245275, ..., -0.69618752,\n",
       "        -0.98141952, -0.75326658],\n",
       "       [ 1.13484989,  0.74348579, -0.4645234 , ...,  0.30638949,\n",
       "         1.37514697,  1.2531738 ],\n",
       "       ...,\n",
       "       [ 0.40095472,  1.4349091 , -0.41887036, ...,  0.54683223,\n",
       "        -0.97306452, -0.32107951],\n",
       "       [ 0.97419496,  0.17061086,  1.00972606, ...,  0.09280233,\n",
       "         0.65994512,  1.90256928],\n",
       "       [ 1.17085317, -0.06712288,  0.1789978 , ...,  0.45193875,\n",
       "         0.47666872, -2.62714285]])"
      ]
     },
     "execution_count": 29,
     "metadata": {},
     "output_type": "execute_result"
    }
   ],
   "source": [
    "X = np.random.normal(0,1,(100,100))\n",
    "X"
   ]
  },
  {
   "cell_type": "markdown",
   "metadata": {
    "id": "i0jRIxdUO6Kt"
   },
   "source": [
    "We can also check its (statistical) properties:"
   ]
  },
  {
   "cell_type": "code",
   "execution_count": 30,
   "metadata": {
    "colab": {
     "base_uri": "https://localhost:8080/"
    },
    "id": "a3QW-SB6O-3c",
    "outputId": "3986a52f-b490-485f-95c7-a30c2c1251f0"
   },
   "outputs": [
    {
     "name": "stdout",
     "output_type": "stream",
     "text": [
      "-0.00021173461498912475\n",
      "0.997393340414016\n"
     ]
    }
   ],
   "source": [
    "print(np.mean(X))\n",
    "print(np.var(X))"
   ]
  },
  {
   "cell_type": "markdown",
   "metadata": {
    "id": "rlMfzIxvPcE3"
   },
   "source": [
    "### In JAX\n",
    "\n",
    "We can also implement it in JAX as:\n",
    "\n",
    "`jax.random.normal(<random number key>,<dimensions of the matrix>)`\n",
    "\n",
    "In order to make the random number's key, we can simply declare it as:\n",
    "\n",
    "`jax.random.PRNGKey(<seed>)`"
   ]
  },
  {
   "cell_type": "code",
   "execution_count": 31,
   "metadata": {
    "colab": {
     "base_uri": "https://localhost:8080/"
    },
    "id": "WijlwlidP8IQ",
    "outputId": "ecd6c010-dee3-4b3b-a358-796ab6a18daa"
   },
   "outputs": [
    {
     "name": "stderr",
     "output_type": "stream",
     "text": [
      "No GPU/TPU found, falling back to CPU. (Set TF_CPP_MIN_LOG_LEVEL=0 and rerun for more info.)\n"
     ]
    }
   ],
   "source": [
    "Z = jax.random.normal(jax.random.PRNGKey(0),(100,100))"
   ]
  },
  {
   "cell_type": "markdown",
   "metadata": {
    "id": "cJLHzi9RQoOg"
   },
   "source": [
    "Lets check its properties:"
   ]
  },
  {
   "cell_type": "code",
   "execution_count": 32,
   "metadata": {
    "colab": {
     "base_uri": "https://localhost:8080/"
    },
    "id": "Fsyw9hwzQqKz",
    "outputId": "ebc45cae-0d1f-454a-8a6c-41946ff81a0d"
   },
   "outputs": [
    {
     "name": "stdout",
     "output_type": "stream",
     "text": [
      "0.010327662\n",
      "1.022222\n"
     ]
    }
   ],
   "source": [
    "print(jnp.mean(Z))\n",
    "print(jnp.var(Z))"
   ]
  },
  {
   "cell_type": "markdown",
   "metadata": {
    "id": "xYSy2mUhQxm1"
   },
   "source": [
    "They are almost (0,1) as we can see. We can also check other properties CDF/PDF etc from Scipy Stats."
   ]
  },
  {
   "cell_type": "code",
   "execution_count": 33,
   "metadata": {
    "colab": {
     "base_uri": "https://localhost:8080/",
     "height": 444
    },
    "id": "lUIiqdvlRCpC",
    "outputId": "63f6b936-3401-463d-f2b5-5ee0345984d9"
   },
   "outputs": [
    {
     "data": {
      "text/html": [
       "<div>\n",
       "<style scoped>\n",
       "    .dataframe tbody tr th:only-of-type {\n",
       "        vertical-align: middle;\n",
       "    }\n",
       "\n",
       "    .dataframe tbody tr th {\n",
       "        vertical-align: top;\n",
       "    }\n",
       "\n",
       "    .dataframe thead th {\n",
       "        text-align: right;\n",
       "    }\n",
       "</style>\n",
       "<table border=\"1\" class=\"dataframe\">\n",
       "  <thead>\n",
       "    <tr style=\"text-align: right;\">\n",
       "      <th></th>\n",
       "      <th>0</th>\n",
       "      <th>1</th>\n",
       "      <th>2</th>\n",
       "      <th>3</th>\n",
       "      <th>4</th>\n",
       "      <th>5</th>\n",
       "      <th>6</th>\n",
       "      <th>7</th>\n",
       "      <th>8</th>\n",
       "      <th>9</th>\n",
       "      <th>...</th>\n",
       "      <th>90</th>\n",
       "      <th>91</th>\n",
       "      <th>92</th>\n",
       "      <th>93</th>\n",
       "      <th>94</th>\n",
       "      <th>95</th>\n",
       "      <th>96</th>\n",
       "      <th>97</th>\n",
       "      <th>98</th>\n",
       "      <th>99</th>\n",
       "    </tr>\n",
       "  </thead>\n",
       "  <tbody>\n",
       "    <tr>\n",
       "      <th>0</th>\n",
       "      <td>0.150373</td>\n",
       "      <td>0.386625</td>\n",
       "      <td>0.040435</td>\n",
       "      <td>0.382287</td>\n",
       "      <td>0.206837</td>\n",
       "      <td>0.325382</td>\n",
       "      <td>0.098942</td>\n",
       "      <td>0.216099</td>\n",
       "      <td>0.273841</td>\n",
       "      <td>0.378409</td>\n",
       "      <td>...</td>\n",
       "      <td>0.143647</td>\n",
       "      <td>0.386948</td>\n",
       "      <td>0.368169</td>\n",
       "      <td>0.361709</td>\n",
       "      <td>0.313341</td>\n",
       "      <td>0.289468</td>\n",
       "      <td>0.354952</td>\n",
       "      <td>0.379687</td>\n",
       "      <td>0.146643</td>\n",
       "      <td>0.263947</td>\n",
       "    </tr>\n",
       "    <tr>\n",
       "      <th>1</th>\n",
       "      <td>0.308301</td>\n",
       "      <td>0.342649</td>\n",
       "      <td>0.343162</td>\n",
       "      <td>0.187371</td>\n",
       "      <td>0.350835</td>\n",
       "      <td>0.196011</td>\n",
       "      <td>0.382772</td>\n",
       "      <td>0.344328</td>\n",
       "      <td>0.279763</td>\n",
       "      <td>0.318749</td>\n",
       "      <td>...</td>\n",
       "      <td>0.171622</td>\n",
       "      <td>0.398022</td>\n",
       "      <td>0.366110</td>\n",
       "      <td>0.179201</td>\n",
       "      <td>0.313117</td>\n",
       "      <td>0.107915</td>\n",
       "      <td>0.155022</td>\n",
       "      <td>0.232558</td>\n",
       "      <td>0.326796</td>\n",
       "      <td>0.192233</td>\n",
       "    </tr>\n",
       "    <tr>\n",
       "      <th>2</th>\n",
       "      <td>0.396582</td>\n",
       "      <td>0.365379</td>\n",
       "      <td>0.330414</td>\n",
       "      <td>0.330271</td>\n",
       "      <td>0.395009</td>\n",
       "      <td>0.375503</td>\n",
       "      <td>0.224348</td>\n",
       "      <td>0.346247</td>\n",
       "      <td>0.271714</td>\n",
       "      <td>0.371488</td>\n",
       "      <td>...</td>\n",
       "      <td>0.064787</td>\n",
       "      <td>0.356239</td>\n",
       "      <td>0.152272</td>\n",
       "      <td>0.354122</td>\n",
       "      <td>0.142169</td>\n",
       "      <td>0.262439</td>\n",
       "      <td>0.196124</td>\n",
       "      <td>0.385827</td>\n",
       "      <td>0.051142</td>\n",
       "      <td>0.280252</td>\n",
       "    </tr>\n",
       "    <tr>\n",
       "      <th>3</th>\n",
       "      <td>0.221008</td>\n",
       "      <td>0.299264</td>\n",
       "      <td>0.317785</td>\n",
       "      <td>0.398915</td>\n",
       "      <td>0.189120</td>\n",
       "      <td>0.324169</td>\n",
       "      <td>0.259959</td>\n",
       "      <td>0.133391</td>\n",
       "      <td>0.110097</td>\n",
       "      <td>0.047714</td>\n",
       "      <td>...</td>\n",
       "      <td>0.369123</td>\n",
       "      <td>0.233550</td>\n",
       "      <td>0.312136</td>\n",
       "      <td>0.267702</td>\n",
       "      <td>0.364227</td>\n",
       "      <td>0.398814</td>\n",
       "      <td>0.398860</td>\n",
       "      <td>0.368230</td>\n",
       "      <td>0.395512</td>\n",
       "      <td>0.397764</td>\n",
       "    </tr>\n",
       "    <tr>\n",
       "      <th>4</th>\n",
       "      <td>0.268160</td>\n",
       "      <td>0.391057</td>\n",
       "      <td>0.014478</td>\n",
       "      <td>0.346148</td>\n",
       "      <td>0.284845</td>\n",
       "      <td>0.102752</td>\n",
       "      <td>0.322483</td>\n",
       "      <td>0.398314</td>\n",
       "      <td>0.384148</td>\n",
       "      <td>0.331561</td>\n",
       "      <td>...</td>\n",
       "      <td>0.346670</td>\n",
       "      <td>0.301405</td>\n",
       "      <td>0.242761</td>\n",
       "      <td>0.345458</td>\n",
       "      <td>0.130136</td>\n",
       "      <td>0.237126</td>\n",
       "      <td>0.273768</td>\n",
       "      <td>0.082443</td>\n",
       "      <td>0.394132</td>\n",
       "      <td>0.377010</td>\n",
       "    </tr>\n",
       "    <tr>\n",
       "      <th>...</th>\n",
       "      <td>...</td>\n",
       "      <td>...</td>\n",
       "      <td>...</td>\n",
       "      <td>...</td>\n",
       "      <td>...</td>\n",
       "      <td>...</td>\n",
       "      <td>...</td>\n",
       "      <td>...</td>\n",
       "      <td>...</td>\n",
       "      <td>...</td>\n",
       "      <td>...</td>\n",
       "      <td>...</td>\n",
       "      <td>...</td>\n",
       "      <td>...</td>\n",
       "      <td>...</td>\n",
       "      <td>...</td>\n",
       "      <td>...</td>\n",
       "      <td>...</td>\n",
       "      <td>...</td>\n",
       "      <td>...</td>\n",
       "      <td>...</td>\n",
       "    </tr>\n",
       "    <tr>\n",
       "      <th>95</th>\n",
       "      <td>0.259236</td>\n",
       "      <td>0.310335</td>\n",
       "      <td>0.305832</td>\n",
       "      <td>0.241717</td>\n",
       "      <td>0.398861</td>\n",
       "      <td>0.390511</td>\n",
       "      <td>0.362696</td>\n",
       "      <td>0.392487</td>\n",
       "      <td>0.388968</td>\n",
       "      <td>0.398247</td>\n",
       "      <td>...</td>\n",
       "      <td>0.378569</td>\n",
       "      <td>0.232027</td>\n",
       "      <td>0.395025</td>\n",
       "      <td>0.398233</td>\n",
       "      <td>0.398147</td>\n",
       "      <td>0.075706</td>\n",
       "      <td>0.398857</td>\n",
       "      <td>0.392260</td>\n",
       "      <td>0.374216</td>\n",
       "      <td>0.372041</td>\n",
       "    </tr>\n",
       "    <tr>\n",
       "      <th>96</th>\n",
       "      <td>0.157414</td>\n",
       "      <td>0.371091</td>\n",
       "      <td>0.100652</td>\n",
       "      <td>0.321527</td>\n",
       "      <td>0.354816</td>\n",
       "      <td>0.180333</td>\n",
       "      <td>0.309888</td>\n",
       "      <td>0.081874</td>\n",
       "      <td>0.226672</td>\n",
       "      <td>0.214478</td>\n",
       "      <td>...</td>\n",
       "      <td>0.284266</td>\n",
       "      <td>0.393407</td>\n",
       "      <td>0.103511</td>\n",
       "      <td>0.265950</td>\n",
       "      <td>0.312548</td>\n",
       "      <td>0.013244</td>\n",
       "      <td>0.051005</td>\n",
       "      <td>0.351218</td>\n",
       "      <td>0.276693</td>\n",
       "      <td>0.255068</td>\n",
       "    </tr>\n",
       "    <tr>\n",
       "      <th>97</th>\n",
       "      <td>0.082502</td>\n",
       "      <td>0.356899</td>\n",
       "      <td>0.225867</td>\n",
       "      <td>0.185499</td>\n",
       "      <td>0.320309</td>\n",
       "      <td>0.379213</td>\n",
       "      <td>0.328434</td>\n",
       "      <td>0.380694</td>\n",
       "      <td>0.081927</td>\n",
       "      <td>0.315630</td>\n",
       "      <td>...</td>\n",
       "      <td>0.240335</td>\n",
       "      <td>0.139198</td>\n",
       "      <td>0.391023</td>\n",
       "      <td>0.236771</td>\n",
       "      <td>0.160850</td>\n",
       "      <td>0.371936</td>\n",
       "      <td>0.387986</td>\n",
       "      <td>0.398327</td>\n",
       "      <td>0.080311</td>\n",
       "      <td>0.370431</td>\n",
       "    </tr>\n",
       "    <tr>\n",
       "      <th>98</th>\n",
       "      <td>0.206434</td>\n",
       "      <td>0.287175</td>\n",
       "      <td>0.394590</td>\n",
       "      <td>0.387262</td>\n",
       "      <td>0.386569</td>\n",
       "      <td>0.176613</td>\n",
       "      <td>0.383673</td>\n",
       "      <td>0.328879</td>\n",
       "      <td>0.009558</td>\n",
       "      <td>0.297351</td>\n",
       "      <td>...</td>\n",
       "      <td>0.340089</td>\n",
       "      <td>0.241375</td>\n",
       "      <td>0.135995</td>\n",
       "      <td>0.142881</td>\n",
       "      <td>0.352852</td>\n",
       "      <td>0.131493</td>\n",
       "      <td>0.207132</td>\n",
       "      <td>0.381917</td>\n",
       "      <td>0.390560</td>\n",
       "      <td>0.368089</td>\n",
       "    </tr>\n",
       "    <tr>\n",
       "      <th>99</th>\n",
       "      <td>0.283802</td>\n",
       "      <td>0.332290</td>\n",
       "      <td>0.015213</td>\n",
       "      <td>0.161048</td>\n",
       "      <td>0.110538</td>\n",
       "      <td>0.389214</td>\n",
       "      <td>0.224171</td>\n",
       "      <td>0.344282</td>\n",
       "      <td>0.391790</td>\n",
       "      <td>0.374931</td>\n",
       "      <td>...</td>\n",
       "      <td>0.362773</td>\n",
       "      <td>0.374200</td>\n",
       "      <td>0.337992</td>\n",
       "      <td>0.394823</td>\n",
       "      <td>0.390804</td>\n",
       "      <td>0.398552</td>\n",
       "      <td>0.339138</td>\n",
       "      <td>0.397802</td>\n",
       "      <td>0.154467</td>\n",
       "      <td>0.311416</td>\n",
       "    </tr>\n",
       "  </tbody>\n",
       "</table>\n",
       "<p>100 rows × 100 columns</p>\n",
       "</div>"
      ],
      "text/plain": [
       "          0         1         2         3         4         5         6   \\\n",
       "0   0.150373  0.386625  0.040435  0.382287  0.206837  0.325382  0.098942   \n",
       "1   0.308301  0.342649  0.343162  0.187371  0.350835  0.196011  0.382772   \n",
       "2   0.396582  0.365379  0.330414  0.330271  0.395009  0.375503  0.224348   \n",
       "3   0.221008  0.299264  0.317785  0.398915  0.189120  0.324169  0.259959   \n",
       "4   0.268160  0.391057  0.014478  0.346148  0.284845  0.102752  0.322483   \n",
       "..       ...       ...       ...       ...       ...       ...       ...   \n",
       "95  0.259236  0.310335  0.305832  0.241717  0.398861  0.390511  0.362696   \n",
       "96  0.157414  0.371091  0.100652  0.321527  0.354816  0.180333  0.309888   \n",
       "97  0.082502  0.356899  0.225867  0.185499  0.320309  0.379213  0.328434   \n",
       "98  0.206434  0.287175  0.394590  0.387262  0.386569  0.176613  0.383673   \n",
       "99  0.283802  0.332290  0.015213  0.161048  0.110538  0.389214  0.224171   \n",
       "\n",
       "          7         8         9   ...        90        91        92        93  \\\n",
       "0   0.216099  0.273841  0.378409  ...  0.143647  0.386948  0.368169  0.361709   \n",
       "1   0.344328  0.279763  0.318749  ...  0.171622  0.398022  0.366110  0.179201   \n",
       "2   0.346247  0.271714  0.371488  ...  0.064787  0.356239  0.152272  0.354122   \n",
       "3   0.133391  0.110097  0.047714  ...  0.369123  0.233550  0.312136  0.267702   \n",
       "4   0.398314  0.384148  0.331561  ...  0.346670  0.301405  0.242761  0.345458   \n",
       "..       ...       ...       ...  ...       ...       ...       ...       ...   \n",
       "95  0.392487  0.388968  0.398247  ...  0.378569  0.232027  0.395025  0.398233   \n",
       "96  0.081874  0.226672  0.214478  ...  0.284266  0.393407  0.103511  0.265950   \n",
       "97  0.380694  0.081927  0.315630  ...  0.240335  0.139198  0.391023  0.236771   \n",
       "98  0.328879  0.009558  0.297351  ...  0.340089  0.241375  0.135995  0.142881   \n",
       "99  0.344282  0.391790  0.374931  ...  0.362773  0.374200  0.337992  0.394823   \n",
       "\n",
       "          94        95        96        97        98        99  \n",
       "0   0.313341  0.289468  0.354952  0.379687  0.146643  0.263947  \n",
       "1   0.313117  0.107915  0.155022  0.232558  0.326796  0.192233  \n",
       "2   0.142169  0.262439  0.196124  0.385827  0.051142  0.280252  \n",
       "3   0.364227  0.398814  0.398860  0.368230  0.395512  0.397764  \n",
       "4   0.130136  0.237126  0.273768  0.082443  0.394132  0.377010  \n",
       "..       ...       ...       ...       ...       ...       ...  \n",
       "95  0.398147  0.075706  0.398857  0.392260  0.374216  0.372041  \n",
       "96  0.312548  0.013244  0.051005  0.351218  0.276693  0.255068  \n",
       "97  0.160850  0.371936  0.387986  0.398327  0.080311  0.370431  \n",
       "98  0.352852  0.131493  0.207132  0.381917  0.390560  0.368089  \n",
       "99  0.390804  0.398552  0.339138  0.397802  0.154467  0.311416  \n",
       "\n",
       "[100 rows x 100 columns]"
      ]
     },
     "execution_count": 33,
     "metadata": {},
     "output_type": "execute_result"
    }
   ],
   "source": [
    "import jax.scipy.stats as stats\n",
    "Z_Pdf = stats.norm.pdf(Z)\n",
    "df5 = pd.DataFrame(Z_Pdf)\n",
    "\n",
    "df5"
   ]
  },
  {
   "cell_type": "code",
   "execution_count": 34,
   "metadata": {
    "colab": {
     "base_uri": "https://localhost:8080/"
    },
    "id": "9_VS7XNORWTa",
    "outputId": "7869e894-e477-4810-ce7f-9e0b644e4b1f"
   },
   "outputs": [
    {
     "name": "stdout",
     "output_type": "stream",
     "text": [
      "0.2802959\n",
      "0.012561914\n"
     ]
    }
   ],
   "source": [
    "print(jnp.mean(Z_Pdf))\n",
    "print(jnp.var(Z_Pdf))"
   ]
  },
  {
   "cell_type": "markdown",
   "metadata": {
    "id": "EutRVz7aPGEO"
   },
   "source": [
    "### Translation Properties of Normal Distribution\n",
    "\n",
    "As mentioned above, we can make any other normal distribution as well from the standard distribution using the linear properties of Normal Distribution to get:\n",
    "\n",
    "$$Y = \\sigma X + \\mu $$\n",
    "\n",
    "Where $\\sigma$ is variance and $\\mu$ is mean.\n",
    "\n",
    "For example:"
   ]
  },
  {
   "cell_type": "code",
   "execution_count": 35,
   "metadata": {
    "colab": {
     "base_uri": "https://localhost:8080/",
     "height": 444
    },
    "id": "m35Iem8LPPsE",
    "outputId": "9cb621f4-805b-4b69-e85a-4c25c7f53808"
   },
   "outputs": [
    {
     "data": {
      "text/html": [
       "<div>\n",
       "<style scoped>\n",
       "    .dataframe tbody tr th:only-of-type {\n",
       "        vertical-align: middle;\n",
       "    }\n",
       "\n",
       "    .dataframe tbody tr th {\n",
       "        vertical-align: top;\n",
       "    }\n",
       "\n",
       "    .dataframe thead th {\n",
       "        text-align: right;\n",
       "    }\n",
       "</style>\n",
       "<table border=\"1\" class=\"dataframe\">\n",
       "  <thead>\n",
       "    <tr style=\"text-align: right;\">\n",
       "      <th></th>\n",
       "      <th>0</th>\n",
       "      <th>1</th>\n",
       "      <th>2</th>\n",
       "      <th>3</th>\n",
       "      <th>4</th>\n",
       "      <th>5</th>\n",
       "      <th>6</th>\n",
       "      <th>7</th>\n",
       "      <th>8</th>\n",
       "      <th>9</th>\n",
       "      <th>...</th>\n",
       "      <th>90</th>\n",
       "      <th>91</th>\n",
       "      <th>92</th>\n",
       "      <th>93</th>\n",
       "      <th>94</th>\n",
       "      <th>95</th>\n",
       "      <th>96</th>\n",
       "      <th>97</th>\n",
       "      <th>98</th>\n",
       "      <th>99</th>\n",
       "    </tr>\n",
       "  </thead>\n",
       "  <tbody>\n",
       "    <tr>\n",
       "      <th>0</th>\n",
       "      <td>4.249419</td>\n",
       "      <td>8.909263</td>\n",
       "      <td>5.510407</td>\n",
       "      <td>5.669047</td>\n",
       "      <td>2.833022</td>\n",
       "      <td>2.271997</td>\n",
       "      <td>7.096772</td>\n",
       "      <td>5.053940</td>\n",
       "      <td>2.347655</td>\n",
       "      <td>3.424820</td>\n",
       "      <td>...</td>\n",
       "      <td>4.525950</td>\n",
       "      <td>3.052605</td>\n",
       "      <td>5.335541</td>\n",
       "      <td>6.117855</td>\n",
       "      <td>6.733153</td>\n",
       "      <td>7.080659</td>\n",
       "      <td>4.800466</td>\n",
       "      <td>3.349819</td>\n",
       "      <td>2.797515</td>\n",
       "      <td>0.777225</td>\n",
       "    </tr>\n",
       "    <tr>\n",
       "      <th>1</th>\n",
       "      <td>5.017859</td>\n",
       "      <td>7.739343</td>\n",
       "      <td>6.724905</td>\n",
       "      <td>9.477735</td>\n",
       "      <td>7.427137</td>\n",
       "      <td>4.907944</td>\n",
       "      <td>6.167716</td>\n",
       "      <td>6.459439</td>\n",
       "      <td>1.746238</td>\n",
       "      <td>4.520806</td>\n",
       "      <td>...</td>\n",
       "      <td>7.956862</td>\n",
       "      <td>4.386196</td>\n",
       "      <td>5.573839</td>\n",
       "      <td>8.199242</td>\n",
       "      <td>4.537235</td>\n",
       "      <td>7.155252</td>\n",
       "      <td>7.294679</td>\n",
       "      <td>3.607625</td>\n",
       "      <td>3.037161</td>\n",
       "      <td>3.493467</td>\n",
       "    </tr>\n",
       "    <tr>\n",
       "      <th>2</th>\n",
       "      <td>7.269700</td>\n",
       "      <td>6.486972</td>\n",
       "      <td>4.070953</td>\n",
       "      <td>3.229985</td>\n",
       "      <td>5.893409</td>\n",
       "      <td>8.232425</td>\n",
       "      <td>-0.622005</td>\n",
       "      <td>4.006899</td>\n",
       "      <td>6.309834</td>\n",
       "      <td>3.426512</td>\n",
       "      <td>...</td>\n",
       "      <td>2.658960</td>\n",
       "      <td>5.852320</td>\n",
       "      <td>2.744379</td>\n",
       "      <td>4.517478</td>\n",
       "      <td>5.209117</td>\n",
       "      <td>3.871169</td>\n",
       "      <td>6.226866</td>\n",
       "      <td>5.612779</td>\n",
       "      <td>7.750294</td>\n",
       "      <td>7.506348</td>\n",
       "    </tr>\n",
       "    <tr>\n",
       "      <th>3</th>\n",
       "      <td>5.323220</td>\n",
       "      <td>2.321833</td>\n",
       "      <td>5.670238</td>\n",
       "      <td>4.238907</td>\n",
       "      <td>2.074906</td>\n",
       "      <td>4.664439</td>\n",
       "      <td>3.083395</td>\n",
       "      <td>1.990803</td>\n",
       "      <td>5.480241</td>\n",
       "      <td>4.122071</td>\n",
       "      <td>...</td>\n",
       "      <td>9.442264</td>\n",
       "      <td>5.567185</td>\n",
       "      <td>3.968422</td>\n",
       "      <td>6.532430</td>\n",
       "      <td>4.530657</td>\n",
       "      <td>6.155069</td>\n",
       "      <td>8.165006</td>\n",
       "      <td>3.436934</td>\n",
       "      <td>5.110260</td>\n",
       "      <td>3.577320</td>\n",
       "    </tr>\n",
       "    <tr>\n",
       "      <th>4</th>\n",
       "      <td>2.715365</td>\n",
       "      <td>5.622785</td>\n",
       "      <td>5.459821</td>\n",
       "      <td>4.081591</td>\n",
       "      <td>5.091358</td>\n",
       "      <td>5.376593</td>\n",
       "      <td>6.798765</td>\n",
       "      <td>0.867249</td>\n",
       "      <td>3.955865</td>\n",
       "      <td>4.265766</td>\n",
       "      <td>...</td>\n",
       "      <td>8.886169</td>\n",
       "      <td>3.927435</td>\n",
       "      <td>4.245460</td>\n",
       "      <td>5.000148</td>\n",
       "      <td>4.517903</td>\n",
       "      <td>5.622684</td>\n",
       "      <td>6.067121</td>\n",
       "      <td>7.646622</td>\n",
       "      <td>6.822633</td>\n",
       "      <td>2.636562</td>\n",
       "    </tr>\n",
       "    <tr>\n",
       "      <th>...</th>\n",
       "      <td>...</td>\n",
       "      <td>...</td>\n",
       "      <td>...</td>\n",
       "      <td>...</td>\n",
       "      <td>...</td>\n",
       "      <td>...</td>\n",
       "      <td>...</td>\n",
       "      <td>...</td>\n",
       "      <td>...</td>\n",
       "      <td>...</td>\n",
       "      <td>...</td>\n",
       "      <td>...</td>\n",
       "      <td>...</td>\n",
       "      <td>...</td>\n",
       "      <td>...</td>\n",
       "      <td>...</td>\n",
       "      <td>...</td>\n",
       "      <td>...</td>\n",
       "      <td>...</td>\n",
       "      <td>...</td>\n",
       "      <td>...</td>\n",
       "    </tr>\n",
       "    <tr>\n",
       "      <th>95</th>\n",
       "      <td>6.035124</td>\n",
       "      <td>7.128514</td>\n",
       "      <td>8.037067</td>\n",
       "      <td>5.950916</td>\n",
       "      <td>3.567542</td>\n",
       "      <td>8.019034</td>\n",
       "      <td>5.439658</td>\n",
       "      <td>2.164359</td>\n",
       "      <td>3.260082</td>\n",
       "      <td>3.994672</td>\n",
       "      <td>...</td>\n",
       "      <td>3.695499</td>\n",
       "      <td>6.663088</td>\n",
       "      <td>3.349434</td>\n",
       "      <td>3.596808</td>\n",
       "      <td>6.058551</td>\n",
       "      <td>3.634740</td>\n",
       "      <td>6.751325</td>\n",
       "      <td>8.050938</td>\n",
       "      <td>4.810546</td>\n",
       "      <td>2.780790</td>\n",
       "    </tr>\n",
       "    <tr>\n",
       "      <th>96</th>\n",
       "      <td>3.227817</td>\n",
       "      <td>6.507091</td>\n",
       "      <td>3.483558</td>\n",
       "      <td>3.354654</td>\n",
       "      <td>5.901924</td>\n",
       "      <td>1.595084</td>\n",
       "      <td>5.169292</td>\n",
       "      <td>4.312330</td>\n",
       "      <td>5.022827</td>\n",
       "      <td>4.397750</td>\n",
       "      <td>...</td>\n",
       "      <td>0.164087</td>\n",
       "      <td>7.226954</td>\n",
       "      <td>5.756932</td>\n",
       "      <td>3.093642</td>\n",
       "      <td>3.427934</td>\n",
       "      <td>4.155643</td>\n",
       "      <td>5.534247</td>\n",
       "      <td>5.759712</td>\n",
       "      <td>6.114005</td>\n",
       "      <td>5.333700</td>\n",
       "    </tr>\n",
       "    <tr>\n",
       "      <th>97</th>\n",
       "      <td>5.801909</td>\n",
       "      <td>7.869818</td>\n",
       "      <td>4.162259</td>\n",
       "      <td>4.108160</td>\n",
       "      <td>-0.948522</td>\n",
       "      <td>6.513542</td>\n",
       "      <td>4.970445</td>\n",
       "      <td>3.336809</td>\n",
       "      <td>5.723129</td>\n",
       "      <td>1.997632</td>\n",
       "      <td>...</td>\n",
       "      <td>7.113189</td>\n",
       "      <td>3.135776</td>\n",
       "      <td>3.326022</td>\n",
       "      <td>4.360317</td>\n",
       "      <td>7.791597</td>\n",
       "      <td>3.514390</td>\n",
       "      <td>7.724584</td>\n",
       "      <td>6.093664</td>\n",
       "      <td>3.053871</td>\n",
       "      <td>4.357841</td>\n",
       "    </tr>\n",
       "    <tr>\n",
       "      <th>98</th>\n",
       "      <td>6.948390</td>\n",
       "      <td>5.341222</td>\n",
       "      <td>7.019452</td>\n",
       "      <td>5.744390</td>\n",
       "      <td>3.858426</td>\n",
       "      <td>6.534206</td>\n",
       "      <td>5.074567</td>\n",
       "      <td>3.509284</td>\n",
       "      <td>5.022102</td>\n",
       "      <td>-0.059305</td>\n",
       "      <td>...</td>\n",
       "      <td>5.375569</td>\n",
       "      <td>4.228264</td>\n",
       "      <td>5.559098</td>\n",
       "      <td>3.742513</td>\n",
       "      <td>7.050334</td>\n",
       "      <td>4.680031</td>\n",
       "      <td>4.161560</td>\n",
       "      <td>5.185605</td>\n",
       "      <td>6.319890</td>\n",
       "      <td>8.805139</td>\n",
       "    </tr>\n",
       "    <tr>\n",
       "      <th>99</th>\n",
       "      <td>7.341706</td>\n",
       "      <td>4.865754</td>\n",
       "      <td>5.357996</td>\n",
       "      <td>5.156697</td>\n",
       "      <td>5.979918</td>\n",
       "      <td>5.961547</td>\n",
       "      <td>8.309242</td>\n",
       "      <td>6.479069</td>\n",
       "      <td>6.969863</td>\n",
       "      <td>3.008112</td>\n",
       "      <td>...</td>\n",
       "      <td>3.619134</td>\n",
       "      <td>4.430466</td>\n",
       "      <td>5.143453</td>\n",
       "      <td>4.454262</td>\n",
       "      <td>4.367974</td>\n",
       "      <td>3.627333</td>\n",
       "      <td>1.550582</td>\n",
       "      <td>5.903878</td>\n",
       "      <td>5.953337</td>\n",
       "      <td>-0.254286</td>\n",
       "    </tr>\n",
       "  </tbody>\n",
       "</table>\n",
       "<p>100 rows × 100 columns</p>\n",
       "</div>"
      ],
      "text/plain": [
       "          0         1         2         3         4         5         6   \\\n",
       "0   4.249419  8.909263  5.510407  5.669047  2.833022  2.271997  7.096772   \n",
       "1   5.017859  7.739343  6.724905  9.477735  7.427137  4.907944  6.167716   \n",
       "2   7.269700  6.486972  4.070953  3.229985  5.893409  8.232425 -0.622005   \n",
       "3   5.323220  2.321833  5.670238  4.238907  2.074906  4.664439  3.083395   \n",
       "4   2.715365  5.622785  5.459821  4.081591  5.091358  5.376593  6.798765   \n",
       "..       ...       ...       ...       ...       ...       ...       ...   \n",
       "95  6.035124  7.128514  8.037067  5.950916  3.567542  8.019034  5.439658   \n",
       "96  3.227817  6.507091  3.483558  3.354654  5.901924  1.595084  5.169292   \n",
       "97  5.801909  7.869818  4.162259  4.108160 -0.948522  6.513542  4.970445   \n",
       "98  6.948390  5.341222  7.019452  5.744390  3.858426  6.534206  5.074567   \n",
       "99  7.341706  4.865754  5.357996  5.156697  5.979918  5.961547  8.309242   \n",
       "\n",
       "          7         8         9   ...        90        91        92        93  \\\n",
       "0   5.053940  2.347655  3.424820  ...  4.525950  3.052605  5.335541  6.117855   \n",
       "1   6.459439  1.746238  4.520806  ...  7.956862  4.386196  5.573839  8.199242   \n",
       "2   4.006899  6.309834  3.426512  ...  2.658960  5.852320  2.744379  4.517478   \n",
       "3   1.990803  5.480241  4.122071  ...  9.442264  5.567185  3.968422  6.532430   \n",
       "4   0.867249  3.955865  4.265766  ...  8.886169  3.927435  4.245460  5.000148   \n",
       "..       ...       ...       ...  ...       ...       ...       ...       ...   \n",
       "95  2.164359  3.260082  3.994672  ...  3.695499  6.663088  3.349434  3.596808   \n",
       "96  4.312330  5.022827  4.397750  ...  0.164087  7.226954  5.756932  3.093642   \n",
       "97  3.336809  5.723129  1.997632  ...  7.113189  3.135776  3.326022  4.360317   \n",
       "98  3.509284  5.022102 -0.059305  ...  5.375569  4.228264  5.559098  3.742513   \n",
       "99  6.479069  6.969863  3.008112  ...  3.619134  4.430466  5.143453  4.454262   \n",
       "\n",
       "          94        95        96        97        98        99  \n",
       "0   6.733153  7.080659  4.800466  3.349819  2.797515  0.777225  \n",
       "1   4.537235  7.155252  7.294679  3.607625  3.037161  3.493467  \n",
       "2   5.209117  3.871169  6.226866  5.612779  7.750294  7.506348  \n",
       "3   4.530657  6.155069  8.165006  3.436934  5.110260  3.577320  \n",
       "4   4.517903  5.622684  6.067121  7.646622  6.822633  2.636562  \n",
       "..       ...       ...       ...       ...       ...       ...  \n",
       "95  6.058551  3.634740  6.751325  8.050938  4.810546  2.780790  \n",
       "96  3.427934  4.155643  5.534247  5.759712  6.114005  5.333700  \n",
       "97  7.791597  3.514390  7.724584  6.093664  3.053871  4.357841  \n",
       "98  7.050334  4.680031  4.161560  5.185605  6.319890  8.805139  \n",
       "99  4.367974  3.627333  1.550582  5.903878  5.953337 -0.254286  \n",
       "\n",
       "[100 rows x 100 columns]"
      ]
     },
     "execution_count": 35,
     "metadata": {},
     "output_type": "execute_result"
    }
   ],
   "source": [
    "Y = 2*X+5\n",
    "df7 = pd.DataFrame(Y)\n",
    "\n",
    "df7"
   ]
  },
  {
   "cell_type": "code",
   "execution_count": 36,
   "metadata": {
    "colab": {
     "base_uri": "https://localhost:8080/"
    },
    "id": "TtBA3QZOPWLB",
    "outputId": "6d5a7771-7575-48cf-cf1f-4a18543f9ee2"
   },
   "outputs": [
    {
     "name": "stdout",
     "output_type": "stream",
     "text": [
      "4.999576530770022\n",
      "3.989573361656064\n"
     ]
    }
   ],
   "source": [
    "print(np.mean(Y))\n",
    "print(np.var(Y))"
   ]
  },
  {
   "cell_type": "markdown",
   "metadata": {
    "id": "OghE8IesRFJ-"
   },
   "source": [
    "## Uniform Distribution\n",
    "\n",
    "While Normal distribution can model a number of real-world problems, there are some scenarios where we need some other distributions as well. For example, we want to keep things simple and want evenly spaced numbers between $a$ and $b$. In such a scenarios, we can use Uniform distribution.\n",
    "\n",
    "Its PDF is:\n",
    "\n",
    "$$\n",
    "f(x) = \\begin{cases}\n",
    "  \\frac{1}{b-a} & \\text{for } a \\le x \\le b, \\\\[8pt]\n",
    "  0 & \\text{else }\n",
    "  \\end{cases}\n",
    "$$\n",
    "\n",
    "Its represented as $\\mathcal U (a,b)$ and its mean and variance are defined as:\n",
    "\n",
    "$$\\sigma(X) = \\frac{a+b}{2}$$\n",
    "\n",
    "$$Var(X) = \\frac{a+b}{12}$$\n",
    "\n",
    ">**Note:** Apparently, Uniform distribution sounds quite similar to the `linspace()` function in NumPy/JAX and yes it is. The only difference is that `linspace()` works with the integers only, while Uniform distribution can take any real value."
   ]
  },
  {
   "cell_type": "markdown",
   "metadata": {},
   "source": [
    "### JAX Implementation\n",
    "\n",
    "Its also provided in all numerical computing libraries. We can sample from Uniform distribution as:\n",
    "\n",
    "`"
   ]
  },
  {
   "cell_type": "code",
   "execution_count": 37,
   "metadata": {
    "id": "JPT4CEdPRE6s"
   },
   "outputs": [
    {
     "data": {
      "text/plain": [
       "Array([[0.135782  , 0.8054502 , 0.34972322, 0.31671536, 0.4659462 ,\n",
       "        0.1358118 , 0.28977072, 0.6001446 , 0.5793271 , 0.50028276,\n",
       "        0.07537627, 0.16775274, 0.70918393, 0.64529526, 0.61780894,\n",
       "        0.47586024, 0.29939163, 0.5360943 , 0.12123454, 0.19173431,\n",
       "        0.24298811, 0.5144229 , 0.9119023 , 0.52567923, 0.8117422 ,\n",
       "        0.06818879, 0.97613776, 0.8851491 , 0.19259703, 0.5278493 ,\n",
       "        0.8302579 , 0.83680856, 0.3619182 , 0.741122  , 0.47197282,\n",
       "        0.5574049 , 0.11807811, 0.7000779 , 0.75200284, 0.43683994,\n",
       "        0.5089122 , 0.05460227, 0.54496515, 0.3569013 , 0.03997386,\n",
       "        0.59746957, 0.3002249 , 0.20396924, 0.685223  , 0.66098833,\n",
       "        0.28954458, 0.20489669, 0.8871467 , 0.08411002, 0.41029394,\n",
       "        0.43963313, 0.9699341 , 0.5563878 , 0.15509117, 0.9355521 ,\n",
       "        0.13684642, 0.5180836 , 0.09811914, 0.82724285, 0.12814164,\n",
       "        0.77433825, 0.36741984, 0.27361977, 0.14178288, 0.6273705 ,\n",
       "        0.96565807, 0.27617788, 0.40702486, 0.7282679 , 0.4760157 ,\n",
       "        0.4659015 , 0.75762737, 0.64097214, 0.9076104 , 0.69609916,\n",
       "        0.6154909 , 0.30913448, 0.5544082 , 0.7538694 , 0.11749721,\n",
       "        0.21448469, 0.7413615 , 0.28279114, 0.7627301 , 0.0762856 ,\n",
       "        0.9560536 , 0.7645613 , 0.45561135, 0.9188578 , 0.06597698,\n",
       "        0.6954838 , 0.0762955 , 0.5370225 , 0.9931247 , 0.7474452 ]],      dtype=float32)"
      ]
     },
     "execution_count": 37,
     "metadata": {},
     "output_type": "execute_result"
    }
   ],
   "source": [
    "Z2 = jax.random.uniform(jax.random.PRNGKey(12),(1,100))\n",
    "Z2"
   ]
  },
  {
   "cell_type": "markdown",
   "metadata": {},
   "source": [
    "## Other Distributions\n",
    "\n",
    "As many of you may have noticed, we can switch across distributions in `jax.random`, so do we need to cover all these distributions? \n",
    "\n",
    "Luckily, the answer is no. If you know these distributions, they are more than good enough for you:\n",
    "\n",
    "- Gaussian/Normal\n",
    "- Uniform\n",
    "- Exponential\n",
    "- Rayleigh"
   ]
  },
  {
   "cell_type": "code",
   "execution_count": null,
   "metadata": {},
   "outputs": [],
   "source": []
  }
 ],
 "metadata": {
  "colab": {
   "authorship_tag": "ABX9TyOsA1whsktNuU+6rH1IIBn+",
   "provenance": [],
   "toc_visible": true
  },
  "kernelspec": {
   "display_name": "Python 3 (ipykernel)",
   "language": "python",
   "name": "python3"
  },
  "language_info": {
   "codemirror_mode": {
    "name": "ipython",
    "version": 3
   },
   "file_extension": ".py",
   "mimetype": "text/x-python",
   "name": "python",
   "nbconvert_exporter": "python",
   "pygments_lexer": "ipython3",
   "version": "3.11.4"
  }
 },
 "nbformat": 4,
 "nbformat_minor": 1
}
