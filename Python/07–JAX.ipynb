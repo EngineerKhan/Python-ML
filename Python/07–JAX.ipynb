{
  "nbformat": 4,
  "nbformat_minor": 0,
  "metadata": {
    "colab": {
      "provenance": [],
      "authorship_tag": "ABX9TyMKO+c3tAeiEFlz73aBaYw2"
    },
    "kernelspec": {
      "name": "python3",
      "display_name": "Python 3"
    },
    "language_info": {
      "name": "python"
    }
  },
  "cells": [
    {
      "cell_type": "markdown",
      "source": [
        "Just After eXecution (JAX) is library made by DeepMind for numerical computations. Its quite similar to NumPy, but yet has a number of advantages over traditional NumPy, like:\n",
        "\n",
        "- JIT Compilation\n",
        "- Automatic Differentation\n",
        "- GPU/TPU support\n",
        "- Auto-vectorization\n",
        "- Better Random Numbers\n",
        "- Supported by Keras (3.0)\n",
        "\n",
        "and so on.\n",
        "\n",
        "JAX has a world of its own and can nowhere be presented/covered properly here. So its really an introduction only here. Lets begin by importing it:"
      ],
      "metadata": {
        "id": "_FTkzgITVMtX"
      }
    },
    {
      "cell_type": "code",
      "source": [
        "import jax"
      ],
      "metadata": {
        "id": "Z3J6OGp3Zyhh"
      },
      "execution_count": 7,
      "outputs": []
    },
    {
      "cell_type": "markdown",
      "source": [
        "## JAX's NumPy\n",
        "\n",
        "JAX uses it's own version of NumPy. It can be imported as:"
      ],
      "metadata": {
        "id": "Q7BoSLExXUWG"
      }
    },
    {
      "cell_type": "code",
      "execution_count": 8,
      "metadata": {
        "id": "izF1kfHdVJ7F"
      },
      "outputs": [],
      "source": [
        "import jax.numpy as jnp"
      ]
    },
    {
      "cell_type": "markdown",
      "source": [
        "Luckily, most of the syntax is same, meaning we don't have to re-learn the NumPy. For example:"
      ],
      "metadata": {
        "id": "pzS7oZC7Yphb"
      }
    },
    {
      "cell_type": "code",
      "source": [
        "a = jnp.ones((1,10))\n",
        "a"
      ],
      "metadata": {
        "colab": {
          "base_uri": "https://localhost:8080/"
        },
        "id": "ZQVKuw4wZC_w",
        "outputId": "a11897c1-ef5d-4d0c-f72f-6b17914c6d71"
      },
      "execution_count": 9,
      "outputs": [
        {
          "output_type": "execute_result",
          "data": {
            "text/plain": [
              "Array([[1., 1., 1., 1., 1., 1., 1., 1., 1., 1.]], dtype=float32)"
            ]
          },
          "metadata": {},
          "execution_count": 9
        }
      ]
    },
    {
      "cell_type": "markdown",
      "source": [
        "Now this warning is weird, but it just means that JAX is unable to find the GPU/TPU it expects by default. This warning can be suppressed as:\n",
        "\n",
        "`jax.config.update('jax_platform_name','cpu')`"
      ],
      "metadata": {
        "id": "kQQYJmaUZNBM"
      }
    },
    {
      "cell_type": "code",
      "source": [
        "jax.config.update('jax_platform_name','cpu')"
      ],
      "metadata": {
        "id": "r-5sPyF1Zsvi"
      },
      "execution_count": 10,
      "outputs": []
    },
    {
      "cell_type": "markdown",
      "source": [
        "Coming back to our NumPy and JAX's NumPy equivalence, we can see a few other examples too:"
      ],
      "metadata": {
        "id": "Ggme8K6LZ2az"
      }
    },
    {
      "cell_type": "code",
      "source": [
        "b = jnp.zeros((2,3))\n",
        "b"
      ],
      "metadata": {
        "colab": {
          "base_uri": "https://localhost:8080/"
        },
        "id": "wYhIJovXZ8n0",
        "outputId": "080642c0-6386-4f6b-9b32-0a80a8a4a563"
      },
      "execution_count": 11,
      "outputs": [
        {
          "output_type": "execute_result",
          "data": {
            "text/plain": [
              "Array([[0., 0., 0.],\n",
              "       [0., 0., 0.]], dtype=float32)"
            ]
          },
          "metadata": {},
          "execution_count": 11
        }
      ]
    },
    {
      "cell_type": "code",
      "source": [
        "c = jnp.arange(1,20,2)\n",
        "c"
      ],
      "metadata": {
        "colab": {
          "base_uri": "https://localhost:8080/"
        },
        "id": "hRIbTPCtaO_2",
        "outputId": "13c19f7a-e1c0-477c-b2fe-9dc9b9b62215"
      },
      "execution_count": 12,
      "outputs": [
        {
          "output_type": "execute_result",
          "data": {
            "text/plain": [
              "Array([ 1,  3,  5,  7,  9, 11, 13, 15, 17, 19], dtype=int32)"
            ]
          },
          "metadata": {},
          "execution_count": 12
        }
      ]
    },
    {
      "cell_type": "markdown",
      "source": [
        "### Differences\n",
        "\n",
        "So luckily the syntax is same. Now lets see where lies the difference between the two?"
      ],
      "metadata": {
        "id": "BY7v2RyRaWo8"
      }
    },
    {
      "cell_type": "markdown",
      "source": [
        "#### 1. Datatype\n",
        "\n",
        "Obviously, JAX and NumPy arrays will have different data types as we can verify here:"
      ],
      "metadata": {
        "id": "ar5DnSB6a4eY"
      }
    },
    {
      "cell_type": "code",
      "source": [
        "type(a)"
      ],
      "metadata": {
        "colab": {
          "base_uri": "https://localhost:8080/"
        },
        "id": "w3Qj1WX9bEKT",
        "outputId": "95758f43-89f8-4524-cd38-ce2a82569106"
      },
      "execution_count": 13,
      "outputs": [
        {
          "output_type": "execute_result",
          "data": {
            "text/plain": [
              "jaxlib.xla_extension.ArrayImpl"
            ]
          },
          "metadata": {},
          "execution_count": 13
        }
      ]
    },
    {
      "cell_type": "markdown",
      "source": [
        "While NumPy arrays are simply `ndarray`."
      ],
      "metadata": {
        "id": "jAr5wFVRbNqu"
      }
    },
    {
      "cell_type": "code",
      "source": [
        "import numpy\n",
        "d = numpy.array([1,3,4])\n",
        "\n",
        "type(d)"
      ],
      "metadata": {
        "colab": {
          "base_uri": "https://localhost:8080/"
        },
        "id": "YlzTOqz5bSsP",
        "outputId": "f6000a24-f1ac-4df4-835b-d92c5e476bc1"
      },
      "execution_count": 14,
      "outputs": [
        {
          "output_type": "execute_result",
          "data": {
            "text/plain": [
              "numpy.ndarray"
            ]
          },
          "metadata": {},
          "execution_count": 14
        }
      ]
    },
    {
      "cell_type": "markdown",
      "source": [
        "#### 2. Mutability\n",
        "\n",
        "If you recall, NumPy arrays are mutable. For example,"
      ],
      "metadata": {
        "id": "jdzVdjDmbiFm"
      }
    },
    {
      "cell_type": "code",
      "source": [
        "d[2] = 5\n",
        "\n",
        "d"
      ],
      "metadata": {
        "colab": {
          "base_uri": "https://localhost:8080/"
        },
        "id": "hVdKKhiYbrz_",
        "outputId": "f1ee6849-cfa5-4280-ef81-ed3f0fb22691"
      },
      "execution_count": 15,
      "outputs": [
        {
          "output_type": "execute_result",
          "data": {
            "text/plain": [
              "array([1, 3, 5])"
            ]
          },
          "metadata": {},
          "execution_count": 15
        }
      ]
    },
    {
      "cell_type": "markdown",
      "source": [
        "Whereas, try to do the same for the JAX array."
      ],
      "metadata": {
        "id": "-bCoHm7pb0G7"
      }
    },
    {
      "cell_type": "code",
      "source": [
        "c[4] = -1\n",
        "\n",
        "c"
      ],
      "metadata": {
        "colab": {
          "base_uri": "https://localhost:8080/",
          "height": 364
        },
        "id": "nv8ft2fPb3Or",
        "outputId": "8a5b82eb-921e-46b9-e47b-0b94c932f162"
      },
      "execution_count": 16,
      "outputs": [
        {
          "output_type": "error",
          "ename": "TypeError",
          "evalue": "ignored",
          "traceback": [
            "\u001b[0;31m---------------------------------------------------------------------------\u001b[0m",
            "\u001b[0;31mTypeError\u001b[0m                                 Traceback (most recent call last)",
            "\u001b[0;32m<ipython-input-16-558a4491b87a>\u001b[0m in \u001b[0;36m<cell line: 1>\u001b[0;34m()\u001b[0m\n\u001b[0;32m----> 1\u001b[0;31m \u001b[0mc\u001b[0m\u001b[0;34m[\u001b[0m\u001b[0;36m4\u001b[0m\u001b[0;34m]\u001b[0m \u001b[0;34m=\u001b[0m \u001b[0;34m-\u001b[0m\u001b[0;36m1\u001b[0m\u001b[0;34m\u001b[0m\u001b[0;34m\u001b[0m\u001b[0m\n\u001b[0m\u001b[1;32m      2\u001b[0m \u001b[0;34m\u001b[0m\u001b[0m\n\u001b[1;32m      3\u001b[0m \u001b[0mc\u001b[0m\u001b[0;34m\u001b[0m\u001b[0;34m\u001b[0m\u001b[0m\n",
            "\u001b[0;32m/usr/local/lib/python3.10/dist-packages/jax/_src/numpy/array_methods.py\u001b[0m in \u001b[0;36m_unimplemented_setitem\u001b[0;34m(self, i, x)\u001b[0m\n\u001b[1;32m    266\u001b[0m          \u001b[0;34m\"or another .at[] method: \"\u001b[0m\u001b[0;34m\u001b[0m\u001b[0;34m\u001b[0m\u001b[0m\n\u001b[1;32m    267\u001b[0m          \"https://jax.readthedocs.io/en/latest/_autosummary/jax.numpy.ndarray.at.html\")\n\u001b[0;32m--> 268\u001b[0;31m   \u001b[0;32mraise\u001b[0m \u001b[0mTypeError\u001b[0m\u001b[0;34m(\u001b[0m\u001b[0mmsg\u001b[0m\u001b[0;34m.\u001b[0m\u001b[0mformat\u001b[0m\u001b[0;34m(\u001b[0m\u001b[0mtype\u001b[0m\u001b[0;34m(\u001b[0m\u001b[0mself\u001b[0m\u001b[0;34m)\u001b[0m\u001b[0;34m)\u001b[0m\u001b[0;34m)\u001b[0m\u001b[0;34m\u001b[0m\u001b[0;34m\u001b[0m\u001b[0m\n\u001b[0m\u001b[1;32m    269\u001b[0m \u001b[0;34m\u001b[0m\u001b[0m\n\u001b[1;32m    270\u001b[0m \u001b[0;32mdef\u001b[0m \u001b[0m_operator_round\u001b[0m\u001b[0;34m(\u001b[0m\u001b[0mnumber\u001b[0m\u001b[0;34m:\u001b[0m \u001b[0mArrayLike\u001b[0m\u001b[0;34m,\u001b[0m \u001b[0mndigits\u001b[0m\u001b[0;34m:\u001b[0m \u001b[0mOptional\u001b[0m\u001b[0;34m[\u001b[0m\u001b[0mint\u001b[0m\u001b[0;34m]\u001b[0m \u001b[0;34m=\u001b[0m \u001b[0;32mNone\u001b[0m\u001b[0;34m)\u001b[0m \u001b[0;34m->\u001b[0m \u001b[0mArray\u001b[0m\u001b[0;34m:\u001b[0m\u001b[0;34m\u001b[0m\u001b[0;34m\u001b[0m\u001b[0m\n",
            "\u001b[0;31mTypeError\u001b[0m: '<class 'jaxlib.xla_extension.ArrayImpl'>' object does not support item assignment. JAX arrays are immutable. Instead of ``x[idx] = y``, use ``x = x.at[idx].set(y)`` or another .at[] method: https://jax.readthedocs.io/en/latest/_autosummary/jax.numpy.ndarray.at.html"
          ]
        }
      ]
    },
    {
      "cell_type": "markdown",
      "source": [
        "> **Note:** Don't let the error mislead you. While we can use `x = x.at[idx].set(y)`, it makes a new (modified) copy of the array. Mutation is not allowed in JAX arrays. Period!\n",
        "\n",
        "#### 3. Initialization from Python Collections\n",
        "\n",
        "NumPy and JAX differ in the way they are initialized from Python collections. As a revision, please check the NumPy's behaviour:"
      ],
      "metadata": {
        "id": "LUiAZtdhca7u"
      }
    },
    {
      "cell_type": "code",
      "source": [
        "listA = [1, 2, 3]\n",
        "setB = {2,3,5}\n",
        "tupleC = (1,3,5)"
      ],
      "metadata": {
        "id": "3KDht2kSdhZa"
      },
      "execution_count": 18,
      "outputs": []
    },
    {
      "cell_type": "code",
      "source": [
        "a = numpy.array(listA)\n",
        "b = numpy.array(setB)\n",
        "c = numpy.array(tupleC)\n",
        "\n",
        "print(a, type(a))\n",
        "print(b, type(b))\n",
        "print(c, type(c))"
      ],
      "metadata": {
        "colab": {
          "base_uri": "https://localhost:8080/"
        },
        "id": "TenCJF1SdvBU",
        "outputId": "473b29ea-e264-4b19-80aa-4a8c6f124725"
      },
      "execution_count": 19,
      "outputs": [
        {
          "output_type": "stream",
          "name": "stdout",
          "text": [
            "[1 2 3] <class 'numpy.ndarray'>\n",
            "{2, 3, 5} <class 'numpy.ndarray'>\n",
            "[1 3 5] <class 'numpy.ndarray'>\n"
          ]
        }
      ]
    },
    {
      "cell_type": "markdown",
      "source": [
        "They all are permissible and all of them are normal `ndarray`(s). Now observe the JAX's behaviour:"
      ],
      "metadata": {
        "id": "oFcKuMlfeItF"
      }
    },
    {
      "cell_type": "code",
      "source": [
        "a = jnp.array(listA)\n",
        "b = jnp.array(setB)\n",
        "c = jnp.array(tupleC)\n",
        "\n",
        "print(a, type(a))\n",
        "print(b, type(b))\n",
        "print(c, type(c))"
      ],
      "metadata": {
        "colab": {
          "base_uri": "https://localhost:8080/",
          "height": 554
        },
        "id": "Na58nThdeX42",
        "outputId": "707a9b6f-1724-4356-9815-26118d005bd1"
      },
      "execution_count": 21,
      "outputs": [
        {
          "output_type": "error",
          "ename": "TypeError",
          "evalue": "ignored",
          "traceback": [
            "\u001b[0;31m---------------------------------------------------------------------------\u001b[0m",
            "\u001b[0;31mTypeError\u001b[0m                                 Traceback (most recent call last)",
            "\u001b[0;32m/usr/local/lib/python3.10/dist-packages/jax/_src/dtypes.py\u001b[0m in \u001b[0;36mdtype\u001b[0;34m(x, canonicalize)\u001b[0m\n\u001b[1;32m    581\u001b[0m     \u001b[0;32mtry\u001b[0m\u001b[0;34m:\u001b[0m\u001b[0;34m\u001b[0m\u001b[0;34m\u001b[0m\u001b[0m\n\u001b[0;32m--> 582\u001b[0;31m       \u001b[0mdt\u001b[0m \u001b[0;34m=\u001b[0m \u001b[0mnp\u001b[0m\u001b[0;34m.\u001b[0m\u001b[0mresult_type\u001b[0m\u001b[0;34m(\u001b[0m\u001b[0mx\u001b[0m\u001b[0;34m)\u001b[0m\u001b[0;34m\u001b[0m\u001b[0;34m\u001b[0m\u001b[0m\n\u001b[0m\u001b[1;32m    583\u001b[0m     \u001b[0;32mexcept\u001b[0m \u001b[0mTypeError\u001b[0m \u001b[0;32mas\u001b[0m \u001b[0merr\u001b[0m\u001b[0;34m:\u001b[0m\u001b[0;34m\u001b[0m\u001b[0;34m\u001b[0m\u001b[0m\n",
            "\u001b[0;32m/usr/local/lib/python3.10/dist-packages/numpy/core/overrides.py\u001b[0m in \u001b[0;36mresult_type\u001b[0;34m(*args, **kwargs)\u001b[0m\n",
            "\u001b[0;31mTypeError\u001b[0m: Cannot interpret '{2, 3, 5}' as a data type",
            "\nThe above exception was the direct cause of the following exception:\n",
            "\u001b[0;31mTypeError\u001b[0m                                 Traceback (most recent call last)",
            "\u001b[0;32m/usr/local/lib/python3.10/dist-packages/jax/_src/numpy/lax_numpy.py\u001b[0m in \u001b[0;36marray\u001b[0;34m(object, dtype, copy, order, ndmin)\u001b[0m\n\u001b[1;32m   2033\u001b[0m     \u001b[0;32mtry\u001b[0m\u001b[0;34m:\u001b[0m\u001b[0;34m\u001b[0m\u001b[0;34m\u001b[0m\u001b[0m\n\u001b[0;32m-> 2034\u001b[0;31m       \u001b[0mdtype\u001b[0m \u001b[0;34m=\u001b[0m \u001b[0mdtypes\u001b[0m\u001b[0;34m.\u001b[0m\u001b[0m_lattice_result_type\u001b[0m\u001b[0;34m(\u001b[0m\u001b[0;34m*\u001b[0m\u001b[0mleaves\u001b[0m\u001b[0;34m)\u001b[0m\u001b[0;34m[\u001b[0m\u001b[0;36m0\u001b[0m\u001b[0;34m]\u001b[0m \u001b[0;32mif\u001b[0m \u001b[0mleaves\u001b[0m \u001b[0;32melse\u001b[0m \u001b[0mdtypes\u001b[0m\u001b[0;34m.\u001b[0m\u001b[0mfloat_\u001b[0m\u001b[0;34m\u001b[0m\u001b[0;34m\u001b[0m\u001b[0m\n\u001b[0m\u001b[1;32m   2035\u001b[0m     \u001b[0;32mexcept\u001b[0m \u001b[0mTypeError\u001b[0m\u001b[0;34m:\u001b[0m\u001b[0;34m\u001b[0m\u001b[0;34m\u001b[0m\u001b[0m\n",
            "\u001b[0;32m/usr/local/lib/python3.10/dist-packages/jax/_src/dtypes.py\u001b[0m in \u001b[0;36m_lattice_result_type\u001b[0;34m(*args)\u001b[0m\n\u001b[1;32m    591\u001b[0m \u001b[0;32mdef\u001b[0m \u001b[0m_lattice_result_type\u001b[0m\u001b[0;34m(\u001b[0m\u001b[0;34m*\u001b[0m\u001b[0margs\u001b[0m\u001b[0;34m:\u001b[0m \u001b[0mAny\u001b[0m\u001b[0;34m)\u001b[0m \u001b[0;34m->\u001b[0m \u001b[0mtuple\u001b[0m\u001b[0;34m[\u001b[0m\u001b[0mDType\u001b[0m\u001b[0;34m,\u001b[0m \u001b[0mbool\u001b[0m\u001b[0;34m]\u001b[0m\u001b[0;34m:\u001b[0m\u001b[0;34m\u001b[0m\u001b[0;34m\u001b[0m\u001b[0m\n\u001b[0;32m--> 592\u001b[0;31m   \u001b[0mdtypes\u001b[0m\u001b[0;34m,\u001b[0m \u001b[0mweak_types\u001b[0m \u001b[0;34m=\u001b[0m \u001b[0mzip\u001b[0m\u001b[0;34m(\u001b[0m\u001b[0;34m*\u001b[0m\u001b[0;34m(\u001b[0m\u001b[0m_dtype_and_weaktype\u001b[0m\u001b[0;34m(\u001b[0m\u001b[0marg\u001b[0m\u001b[0;34m)\u001b[0m \u001b[0;32mfor\u001b[0m \u001b[0marg\u001b[0m \u001b[0;32min\u001b[0m \u001b[0margs\u001b[0m\u001b[0;34m)\u001b[0m\u001b[0;34m)\u001b[0m\u001b[0;34m\u001b[0m\u001b[0;34m\u001b[0m\u001b[0m\n\u001b[0m\u001b[1;32m    593\u001b[0m   \u001b[0;32mif\u001b[0m \u001b[0mlen\u001b[0m\u001b[0;34m(\u001b[0m\u001b[0mdtypes\u001b[0m\u001b[0;34m)\u001b[0m \u001b[0;34m==\u001b[0m \u001b[0;36m1\u001b[0m\u001b[0;34m:\u001b[0m\u001b[0;34m\u001b[0m\u001b[0;34m\u001b[0m\u001b[0m\n",
            "\u001b[0;32m/usr/local/lib/python3.10/dist-packages/jax/_src/dtypes.py\u001b[0m in \u001b[0;36m<genexpr>\u001b[0;34m(.0)\u001b[0m\n\u001b[1;32m    591\u001b[0m \u001b[0;32mdef\u001b[0m \u001b[0m_lattice_result_type\u001b[0m\u001b[0;34m(\u001b[0m\u001b[0;34m*\u001b[0m\u001b[0margs\u001b[0m\u001b[0;34m:\u001b[0m \u001b[0mAny\u001b[0m\u001b[0;34m)\u001b[0m \u001b[0;34m->\u001b[0m \u001b[0mtuple\u001b[0m\u001b[0;34m[\u001b[0m\u001b[0mDType\u001b[0m\u001b[0;34m,\u001b[0m \u001b[0mbool\u001b[0m\u001b[0;34m]\u001b[0m\u001b[0;34m:\u001b[0m\u001b[0;34m\u001b[0m\u001b[0;34m\u001b[0m\u001b[0m\n\u001b[0;32m--> 592\u001b[0;31m   \u001b[0mdtypes\u001b[0m\u001b[0;34m,\u001b[0m \u001b[0mweak_types\u001b[0m \u001b[0;34m=\u001b[0m \u001b[0mzip\u001b[0m\u001b[0;34m(\u001b[0m\u001b[0;34m*\u001b[0m\u001b[0;34m(\u001b[0m\u001b[0m_dtype_and_weaktype\u001b[0m\u001b[0;34m(\u001b[0m\u001b[0marg\u001b[0m\u001b[0;34m)\u001b[0m \u001b[0;32mfor\u001b[0m \u001b[0marg\u001b[0m \u001b[0;32min\u001b[0m \u001b[0margs\u001b[0m\u001b[0;34m)\u001b[0m\u001b[0;34m)\u001b[0m\u001b[0;34m\u001b[0m\u001b[0;34m\u001b[0m\u001b[0m\n\u001b[0m\u001b[1;32m    593\u001b[0m   \u001b[0;32mif\u001b[0m \u001b[0mlen\u001b[0m\u001b[0;34m(\u001b[0m\u001b[0mdtypes\u001b[0m\u001b[0;34m)\u001b[0m \u001b[0;34m==\u001b[0m \u001b[0;36m1\u001b[0m\u001b[0;34m:\u001b[0m\u001b[0;34m\u001b[0m\u001b[0;34m\u001b[0m\u001b[0m\n",
            "\u001b[0;32m/usr/local/lib/python3.10/dist-packages/jax/_src/dtypes.py\u001b[0m in \u001b[0;36m_dtype_and_weaktype\u001b[0;34m(value)\u001b[0m\n\u001b[1;32m    401\u001b[0m   \u001b[0;34m\"\"\"Return a (dtype, weak_type) tuple for the given input.\"\"\"\u001b[0m\u001b[0;34m\u001b[0m\u001b[0;34m\u001b[0m\u001b[0m\n\u001b[0;32m--> 402\u001b[0;31m   \u001b[0;32mreturn\u001b[0m \u001b[0mdtype\u001b[0m\u001b[0;34m(\u001b[0m\u001b[0mvalue\u001b[0m\u001b[0;34m)\u001b[0m\u001b[0;34m,\u001b[0m \u001b[0many\u001b[0m\u001b[0;34m(\u001b[0m\u001b[0mvalue\u001b[0m \u001b[0;32mis\u001b[0m \u001b[0mtyp\u001b[0m \u001b[0;32mfor\u001b[0m \u001b[0mtyp\u001b[0m \u001b[0;32min\u001b[0m \u001b[0m_weak_types\u001b[0m\u001b[0;34m)\u001b[0m \u001b[0;32mor\u001b[0m \u001b[0mis_weakly_typed\u001b[0m\u001b[0;34m(\u001b[0m\u001b[0mvalue\u001b[0m\u001b[0;34m)\u001b[0m\u001b[0;34m\u001b[0m\u001b[0;34m\u001b[0m\u001b[0m\n\u001b[0m\u001b[1;32m    403\u001b[0m \u001b[0;34m\u001b[0m\u001b[0m\n",
            "\u001b[0;32m/usr/local/lib/python3.10/dist-packages/jax/_src/dtypes.py\u001b[0m in \u001b[0;36mdtype\u001b[0;34m(x, canonicalize)\u001b[0m\n\u001b[1;32m    583\u001b[0m     \u001b[0;32mexcept\u001b[0m \u001b[0mTypeError\u001b[0m \u001b[0;32mas\u001b[0m \u001b[0merr\u001b[0m\u001b[0;34m:\u001b[0m\u001b[0;34m\u001b[0m\u001b[0;34m\u001b[0m\u001b[0m\n\u001b[0;32m--> 584\u001b[0;31m       \u001b[0;32mraise\u001b[0m \u001b[0mTypeError\u001b[0m\u001b[0;34m(\u001b[0m\u001b[0;34mf\"Cannot determine dtype of {x}\"\u001b[0m\u001b[0;34m)\u001b[0m \u001b[0;32mfrom\u001b[0m \u001b[0merr\u001b[0m\u001b[0;34m\u001b[0m\u001b[0;34m\u001b[0m\u001b[0m\n\u001b[0m\u001b[1;32m    585\u001b[0m   \u001b[0;32mif\u001b[0m \u001b[0mdt\u001b[0m \u001b[0;32mnot\u001b[0m \u001b[0;32min\u001b[0m \u001b[0m_jax_dtype_set\u001b[0m \u001b[0;32mand\u001b[0m \u001b[0;32mnot\u001b[0m \u001b[0missubdtype\u001b[0m\u001b[0;34m(\u001b[0m\u001b[0mdt\u001b[0m\u001b[0;34m,\u001b[0m \u001b[0mextended\u001b[0m\u001b[0;34m)\u001b[0m\u001b[0;34m:\u001b[0m\u001b[0;34m\u001b[0m\u001b[0;34m\u001b[0m\u001b[0m\n",
            "\u001b[0;31mTypeError\u001b[0m: Cannot determine dtype of {2, 3, 5}",
            "\nDuring handling of the above exception, another exception occurred:\n",
            "\u001b[0;31mTypeError\u001b[0m                                 Traceback (most recent call last)",
            "\u001b[0;32m<ipython-input-21-f99afbfb967b>\u001b[0m in \u001b[0;36m<cell line: 2>\u001b[0;34m()\u001b[0m\n\u001b[1;32m      1\u001b[0m \u001b[0ma\u001b[0m \u001b[0;34m=\u001b[0m \u001b[0mjnp\u001b[0m\u001b[0;34m.\u001b[0m\u001b[0marray\u001b[0m\u001b[0;34m(\u001b[0m\u001b[0mlistA\u001b[0m\u001b[0;34m)\u001b[0m\u001b[0;34m\u001b[0m\u001b[0;34m\u001b[0m\u001b[0m\n\u001b[0;32m----> 2\u001b[0;31m \u001b[0mb\u001b[0m \u001b[0;34m=\u001b[0m \u001b[0mjnp\u001b[0m\u001b[0;34m.\u001b[0m\u001b[0marray\u001b[0m\u001b[0;34m(\u001b[0m\u001b[0msetB\u001b[0m\u001b[0;34m)\u001b[0m\u001b[0;34m\u001b[0m\u001b[0;34m\u001b[0m\u001b[0m\n\u001b[0m\u001b[1;32m      3\u001b[0m \u001b[0mc\u001b[0m \u001b[0;34m=\u001b[0m \u001b[0mjnp\u001b[0m\u001b[0;34m.\u001b[0m\u001b[0marray\u001b[0m\u001b[0;34m(\u001b[0m\u001b[0mtupleC\u001b[0m\u001b[0;34m)\u001b[0m\u001b[0;34m\u001b[0m\u001b[0;34m\u001b[0m\u001b[0m\n\u001b[1;32m      4\u001b[0m \u001b[0;34m\u001b[0m\u001b[0m\n\u001b[1;32m      5\u001b[0m \u001b[0mprint\u001b[0m\u001b[0;34m(\u001b[0m\u001b[0ma\u001b[0m\u001b[0;34m,\u001b[0m \u001b[0mtype\u001b[0m\u001b[0;34m(\u001b[0m\u001b[0ma\u001b[0m\u001b[0;34m)\u001b[0m\u001b[0;34m)\u001b[0m\u001b[0;34m\u001b[0m\u001b[0;34m\u001b[0m\u001b[0m\n",
            "\u001b[0;32m/usr/local/lib/python3.10/dist-packages/jax/_src/numpy/lax_numpy.py\u001b[0m in \u001b[0;36marray\u001b[0;34m(object, dtype, copy, order, ndmin)\u001b[0m\n\u001b[1;32m   2037\u001b[0m       \u001b[0;31m# This is rare, so we only handle it if the normal path fails.\u001b[0m\u001b[0;34m\u001b[0m\u001b[0;34m\u001b[0m\u001b[0m\n\u001b[1;32m   2038\u001b[0m       \u001b[0mleaves\u001b[0m \u001b[0;34m=\u001b[0m \u001b[0;34m[\u001b[0m\u001b[0m_convert_to_array_if_dtype_fails\u001b[0m\u001b[0;34m(\u001b[0m\u001b[0mleaf\u001b[0m\u001b[0;34m)\u001b[0m \u001b[0;32mfor\u001b[0m \u001b[0mleaf\u001b[0m \u001b[0;32min\u001b[0m \u001b[0mleaves\u001b[0m\u001b[0;34m]\u001b[0m\u001b[0;34m\u001b[0m\u001b[0;34m\u001b[0m\u001b[0m\n\u001b[0;32m-> 2039\u001b[0;31m       \u001b[0mdtype\u001b[0m \u001b[0;34m=\u001b[0m \u001b[0mdtypes\u001b[0m\u001b[0;34m.\u001b[0m\u001b[0m_lattice_result_type\u001b[0m\u001b[0;34m(\u001b[0m\u001b[0;34m*\u001b[0m\u001b[0mleaves\u001b[0m\u001b[0;34m)\u001b[0m\u001b[0;34m[\u001b[0m\u001b[0;36m0\u001b[0m\u001b[0;34m]\u001b[0m\u001b[0;34m\u001b[0m\u001b[0;34m\u001b[0m\u001b[0m\n\u001b[0m\u001b[1;32m   2040\u001b[0m \u001b[0;34m\u001b[0m\u001b[0m\n\u001b[1;32m   2041\u001b[0m   \u001b[0;32mif\u001b[0m \u001b[0;32mnot\u001b[0m \u001b[0mweak_type\u001b[0m\u001b[0;34m:\u001b[0m\u001b[0;34m\u001b[0m\u001b[0;34m\u001b[0m\u001b[0m\n",
            "\u001b[0;32m/usr/local/lib/python3.10/dist-packages/jax/_src/dtypes.py\u001b[0m in \u001b[0;36m_lattice_result_type\u001b[0;34m(*args)\u001b[0m\n\u001b[1;32m    590\u001b[0m \u001b[0;34m\u001b[0m\u001b[0m\n\u001b[1;32m    591\u001b[0m \u001b[0;32mdef\u001b[0m \u001b[0m_lattice_result_type\u001b[0m\u001b[0;34m(\u001b[0m\u001b[0;34m*\u001b[0m\u001b[0margs\u001b[0m\u001b[0;34m:\u001b[0m \u001b[0mAny\u001b[0m\u001b[0;34m)\u001b[0m \u001b[0;34m->\u001b[0m \u001b[0mtuple\u001b[0m\u001b[0;34m[\u001b[0m\u001b[0mDType\u001b[0m\u001b[0;34m,\u001b[0m \u001b[0mbool\u001b[0m\u001b[0;34m]\u001b[0m\u001b[0;34m:\u001b[0m\u001b[0;34m\u001b[0m\u001b[0;34m\u001b[0m\u001b[0m\n\u001b[0;32m--> 592\u001b[0;31m   \u001b[0mdtypes\u001b[0m\u001b[0;34m,\u001b[0m \u001b[0mweak_types\u001b[0m \u001b[0;34m=\u001b[0m \u001b[0mzip\u001b[0m\u001b[0;34m(\u001b[0m\u001b[0;34m*\u001b[0m\u001b[0;34m(\u001b[0m\u001b[0m_dtype_and_weaktype\u001b[0m\u001b[0;34m(\u001b[0m\u001b[0marg\u001b[0m\u001b[0;34m)\u001b[0m \u001b[0;32mfor\u001b[0m \u001b[0marg\u001b[0m \u001b[0;32min\u001b[0m \u001b[0margs\u001b[0m\u001b[0;34m)\u001b[0m\u001b[0;34m)\u001b[0m\u001b[0;34m\u001b[0m\u001b[0;34m\u001b[0m\u001b[0m\n\u001b[0m\u001b[1;32m    593\u001b[0m   \u001b[0;32mif\u001b[0m \u001b[0mlen\u001b[0m\u001b[0;34m(\u001b[0m\u001b[0mdtypes\u001b[0m\u001b[0;34m)\u001b[0m \u001b[0;34m==\u001b[0m \u001b[0;36m1\u001b[0m\u001b[0;34m:\u001b[0m\u001b[0;34m\u001b[0m\u001b[0;34m\u001b[0m\u001b[0m\n\u001b[1;32m    594\u001b[0m     \u001b[0mout_dtype\u001b[0m \u001b[0;34m=\u001b[0m \u001b[0mdtypes\u001b[0m\u001b[0;34m[\u001b[0m\u001b[0;36m0\u001b[0m\u001b[0;34m]\u001b[0m\u001b[0;34m\u001b[0m\u001b[0;34m\u001b[0m\u001b[0m\n",
            "\u001b[0;32m/usr/local/lib/python3.10/dist-packages/jax/_src/dtypes.py\u001b[0m in \u001b[0;36m<genexpr>\u001b[0;34m(.0)\u001b[0m\n\u001b[1;32m    590\u001b[0m \u001b[0;34m\u001b[0m\u001b[0m\n\u001b[1;32m    591\u001b[0m \u001b[0;32mdef\u001b[0m \u001b[0m_lattice_result_type\u001b[0m\u001b[0;34m(\u001b[0m\u001b[0;34m*\u001b[0m\u001b[0margs\u001b[0m\u001b[0;34m:\u001b[0m \u001b[0mAny\u001b[0m\u001b[0;34m)\u001b[0m \u001b[0;34m->\u001b[0m \u001b[0mtuple\u001b[0m\u001b[0;34m[\u001b[0m\u001b[0mDType\u001b[0m\u001b[0;34m,\u001b[0m \u001b[0mbool\u001b[0m\u001b[0;34m]\u001b[0m\u001b[0;34m:\u001b[0m\u001b[0;34m\u001b[0m\u001b[0;34m\u001b[0m\u001b[0m\n\u001b[0;32m--> 592\u001b[0;31m   \u001b[0mdtypes\u001b[0m\u001b[0;34m,\u001b[0m \u001b[0mweak_types\u001b[0m \u001b[0;34m=\u001b[0m \u001b[0mzip\u001b[0m\u001b[0;34m(\u001b[0m\u001b[0;34m*\u001b[0m\u001b[0;34m(\u001b[0m\u001b[0m_dtype_and_weaktype\u001b[0m\u001b[0;34m(\u001b[0m\u001b[0marg\u001b[0m\u001b[0;34m)\u001b[0m \u001b[0;32mfor\u001b[0m \u001b[0marg\u001b[0m \u001b[0;32min\u001b[0m \u001b[0margs\u001b[0m\u001b[0;34m)\u001b[0m\u001b[0;34m)\u001b[0m\u001b[0;34m\u001b[0m\u001b[0;34m\u001b[0m\u001b[0m\n\u001b[0m\u001b[1;32m    593\u001b[0m   \u001b[0;32mif\u001b[0m \u001b[0mlen\u001b[0m\u001b[0;34m(\u001b[0m\u001b[0mdtypes\u001b[0m\u001b[0;34m)\u001b[0m \u001b[0;34m==\u001b[0m \u001b[0;36m1\u001b[0m\u001b[0;34m:\u001b[0m\u001b[0;34m\u001b[0m\u001b[0;34m\u001b[0m\u001b[0m\n\u001b[1;32m    594\u001b[0m     \u001b[0mout_dtype\u001b[0m \u001b[0;34m=\u001b[0m \u001b[0mdtypes\u001b[0m\u001b[0;34m[\u001b[0m\u001b[0;36m0\u001b[0m\u001b[0;34m]\u001b[0m\u001b[0;34m\u001b[0m\u001b[0;34m\u001b[0m\u001b[0m\n",
            "\u001b[0;32m/usr/local/lib/python3.10/dist-packages/jax/_src/dtypes.py\u001b[0m in \u001b[0;36m_dtype_and_weaktype\u001b[0;34m(value)\u001b[0m\n\u001b[1;32m    400\u001b[0m \u001b[0;32mdef\u001b[0m \u001b[0m_dtype_and_weaktype\u001b[0m\u001b[0;34m(\u001b[0m\u001b[0mvalue\u001b[0m\u001b[0;34m:\u001b[0m \u001b[0mAny\u001b[0m\u001b[0;34m)\u001b[0m \u001b[0;34m->\u001b[0m \u001b[0mtuple\u001b[0m\u001b[0;34m[\u001b[0m\u001b[0mDType\u001b[0m\u001b[0;34m,\u001b[0m \u001b[0mbool\u001b[0m\u001b[0;34m]\u001b[0m\u001b[0;34m:\u001b[0m\u001b[0;34m\u001b[0m\u001b[0;34m\u001b[0m\u001b[0m\n\u001b[1;32m    401\u001b[0m   \u001b[0;34m\"\"\"Return a (dtype, weak_type) tuple for the given input.\"\"\"\u001b[0m\u001b[0;34m\u001b[0m\u001b[0;34m\u001b[0m\u001b[0m\n\u001b[0;32m--> 402\u001b[0;31m   \u001b[0;32mreturn\u001b[0m \u001b[0mdtype\u001b[0m\u001b[0;34m(\u001b[0m\u001b[0mvalue\u001b[0m\u001b[0;34m)\u001b[0m\u001b[0;34m,\u001b[0m \u001b[0many\u001b[0m\u001b[0;34m(\u001b[0m\u001b[0mvalue\u001b[0m \u001b[0;32mis\u001b[0m \u001b[0mtyp\u001b[0m \u001b[0;32mfor\u001b[0m \u001b[0mtyp\u001b[0m \u001b[0;32min\u001b[0m \u001b[0m_weak_types\u001b[0m\u001b[0;34m)\u001b[0m \u001b[0;32mor\u001b[0m \u001b[0mis_weakly_typed\u001b[0m\u001b[0;34m(\u001b[0m\u001b[0mvalue\u001b[0m\u001b[0;34m)\u001b[0m\u001b[0;34m\u001b[0m\u001b[0;34m\u001b[0m\u001b[0m\n\u001b[0m\u001b[1;32m    403\u001b[0m \u001b[0;34m\u001b[0m\u001b[0m\n\u001b[1;32m    404\u001b[0m \u001b[0;32mdef\u001b[0m \u001b[0m_type_promotion_lattice\u001b[0m\u001b[0;34m(\u001b[0m\u001b[0mjax_numpy_dtype_promotion\u001b[0m\u001b[0;34m:\u001b[0m \u001b[0mstr\u001b[0m\u001b[0;34m)\u001b[0m \u001b[0;34m->\u001b[0m \u001b[0mdict\u001b[0m\u001b[0;34m[\u001b[0m\u001b[0mJAXType\u001b[0m\u001b[0;34m,\u001b[0m \u001b[0mlist\u001b[0m\u001b[0;34m[\u001b[0m\u001b[0mJAXType\u001b[0m\u001b[0;34m]\u001b[0m\u001b[0;34m]\u001b[0m\u001b[0;34m:\u001b[0m\u001b[0;34m\u001b[0m\u001b[0;34m\u001b[0m\u001b[0m\n",
            "\u001b[0;32m/usr/local/lib/python3.10/dist-packages/jax/_src/dtypes.py\u001b[0m in \u001b[0;36mdtype\u001b[0;34m(x, canonicalize)\u001b[0m\n\u001b[1;32m    584\u001b[0m       \u001b[0;32mraise\u001b[0m \u001b[0mTypeError\u001b[0m\u001b[0;34m(\u001b[0m\u001b[0;34mf\"Cannot determine dtype of {x}\"\u001b[0m\u001b[0;34m)\u001b[0m \u001b[0;32mfrom\u001b[0m \u001b[0merr\u001b[0m\u001b[0;34m\u001b[0m\u001b[0;34m\u001b[0m\u001b[0m\n\u001b[1;32m    585\u001b[0m   \u001b[0;32mif\u001b[0m \u001b[0mdt\u001b[0m \u001b[0;32mnot\u001b[0m \u001b[0;32min\u001b[0m \u001b[0m_jax_dtype_set\u001b[0m \u001b[0;32mand\u001b[0m \u001b[0;32mnot\u001b[0m \u001b[0missubdtype\u001b[0m\u001b[0;34m(\u001b[0m\u001b[0mdt\u001b[0m\u001b[0;34m,\u001b[0m \u001b[0mextended\u001b[0m\u001b[0;34m)\u001b[0m\u001b[0;34m:\u001b[0m\u001b[0;34m\u001b[0m\u001b[0;34m\u001b[0m\u001b[0m\n\u001b[0;32m--> 586\u001b[0;31m     raise TypeError(f\"Value '{x}' with dtype {dt} is not a valid JAX array \"\n\u001b[0m\u001b[1;32m    587\u001b[0m                     \"type. Only arrays of numeric types are supported by JAX.\")\n\u001b[1;32m    588\u001b[0m   \u001b[0;31m# TODO(jakevdp): fix return type annotation and remove this ignore.\u001b[0m\u001b[0;34m\u001b[0m\u001b[0;34m\u001b[0m\u001b[0m\n",
            "\u001b[0;31mTypeError\u001b[0m: Value '{2, 3, 5}' with dtype object is not a valid JAX array type. Only arrays of numeric types are supported by JAX."
          ]
        }
      ]
    },
    {
      "cell_type": "markdown",
      "source": [
        "**Conclusion:** JAX doesn't allow array creation from a set. And it sounds intuitive."
      ],
      "metadata": {
        "id": "trEaYrJKfG6h"
      }
    },
    {
      "cell_type": "markdown",
      "source": [
        "---\n",
        "## Autograd\n",
        "\n",
        "The growing use/application of gradient-based optimizers (especially SGD family) means we need a proper framework for calculating derivatives. While NumPy uses [finite-difference methods only](https://numpy.org/doc/stable/reference/generated/numpy.gradient.html), JAX has a proper automatic differentiation method.\n",
        "\n",
        "Let's start by importing it."
      ],
      "metadata": {
        "id": "6-CWXmfgfe7G"
      }
    },
    {
      "cell_type": "code",
      "source": [
        "from jax import grad"
      ],
      "metadata": {
        "id": "P0kVz-jtHLeU"
      },
      "execution_count": 22,
      "outputs": []
    },
    {
      "cell_type": "markdown",
      "source": [
        "### `grad()`\n",
        "\n",
        "First thing first. In order to calculate the derivative of any function, we use `grad()` method.\n",
        "\n",
        "Its syntax is:\n",
        "\n",
        "**`<gradFunc> = grad(<function>)`**"
      ],
      "metadata": {
        "id": "LR6Lr33tGj0D"
      }
    },
    {
      "cell_type": "markdown",
      "source": [
        "#### First/Normal Derivatives\n",
        "\n",
        "Let's test it for a function – say, $f(x) = e^x$.\n",
        "\n",
        "Since $e^x$ is our stubborn guy (derivative is also same), we can quickly test it."
      ],
      "metadata": {
        "id": "tWZ9DGJ_ewsK"
      }
    },
    {
      "cell_type": "code",
      "source": [
        "gradientExp = grad(jnp.exp)"
      ],
      "metadata": {
        "id": "R0-yPrcXHwjs"
      },
      "execution_count": 23,
      "outputs": []
    },
    {
      "cell_type": "markdown",
      "source": [
        "Having made the gradient (itself a function), we can now test it. Lets suppose for $x=2$."
      ],
      "metadata": {
        "id": "9yUHlOJBXfvA"
      }
    },
    {
      "cell_type": "code",
      "source": [
        "gradientExp(2.0)"
      ],
      "metadata": {
        "colab": {
          "base_uri": "https://localhost:8080/"
        },
        "id": "VGSTG6tdZqd7",
        "outputId": "4d5bf14b-1109-4136-925a-c2566f4ecb1f"
      },
      "execution_count": 24,
      "outputs": [
        {
          "output_type": "execute_result",
          "data": {
            "text/plain": [
              "Array(7.389056, dtype=float32, weak_type=True)"
            ]
          },
          "metadata": {},
          "execution_count": 24
        }
      ]
    },
    {
      "cell_type": "markdown",
      "source": [
        "We can check it side by side to further confirm it."
      ],
      "metadata": {
        "id": "__G60A4AaxV7"
      }
    },
    {
      "cell_type": "code",
      "source": [
        "for x in jnp.linspace(-2.0,2.0,10):\n",
        "  print(\"Exponential of \", x, \" is: \", jnp.exp(x), \" and its derivative's value (for x) is: \", gradientExp(x))"
      ],
      "metadata": {
        "colab": {
          "base_uri": "https://localhost:8080/"
        },
        "id": "DMQTM5W7XpFV",
        "outputId": "245958be-5b64-43fa-e5f9-cae3595b9969"
      },
      "execution_count": 25,
      "outputs": [
        {
          "output_type": "stream",
          "name": "stdout",
          "text": [
            "Exponential of  -2.0  is:  0.13533528  and its derivative's value (for x) is:  0.13533528\n",
            "Exponential of  -1.5555556  is:  0.21107209  and its derivative's value (for x) is:  0.21107209\n",
            "Exponential of  -1.1111112  is:  0.32919297  and its derivative's value (for x) is:  0.32919297\n",
            "Exponential of  -0.6666667  is:  0.5134171  and its derivative's value (for x) is:  0.5134171\n",
            "Exponential of  -0.22222227  is:  0.8007374  and its derivative's value (for x) is:  0.8007374\n",
            "Exponential of  0.22222227  is:  1.2488489  and its derivative's value (for x) is:  1.2488489\n",
            "Exponential of  0.66666675  is:  1.9477342  and its derivative's value (for x) is:  1.9477342\n",
            "Exponential of  1.1111112  is:  3.037732  and its derivative's value (for x) is:  3.037732\n",
            "Exponential of  1.5555556  is:  4.737718  and its derivative's value (for x) is:  4.737718\n",
            "Exponential of  2.0  is:  7.389056  and its derivative's value (for x) is:  7.389056\n"
          ]
        }
      ]
    },
    {
      "cell_type": "markdown",
      "source": [
        "Lets try another example:\n",
        "\n",
        "$$f(x) = 3x^2+9$$\n",
        "\n",
        "$$f'(x) = 6x$$"
      ],
      "metadata": {
        "id": "kzLqEV2tbuDm"
      }
    },
    {
      "cell_type": "code",
      "source": [
        "func = lambda x: 3*x*x+9\n",
        "\n",
        "gradFunc = grad(func)"
      ],
      "metadata": {
        "id": "ONjFHhFMb0eI"
      },
      "execution_count": 26,
      "outputs": []
    },
    {
      "cell_type": "markdown",
      "source": [
        "**Note:** If we use integer values with `grad()`, it will throw an error as it expects float inputs. For example:"
      ],
      "metadata": {
        "id": "uZpVkgAAcF01"
      }
    },
    {
      "cell_type": "code",
      "source": [
        "gradFunc(2)"
      ],
      "metadata": {
        "colab": {
          "base_uri": "https://localhost:8080/",
          "height": 364
        },
        "id": "-3EKEgcYcVTw",
        "outputId": "b75b70c2-832c-4521-c8c6-7469be05ecfd"
      },
      "execution_count": 27,
      "outputs": [
        {
          "output_type": "error",
          "ename": "TypeError",
          "evalue": "ignored",
          "traceback": [
            "\u001b[0;31m---------------------------------------------------------------------------\u001b[0m",
            "\u001b[0;31mTypeError\u001b[0m                                 Traceback (most recent call last)",
            "\u001b[0;32m<ipython-input-27-99777bc479c9>\u001b[0m in \u001b[0;36m<cell line: 1>\u001b[0;34m()\u001b[0m\n\u001b[0;32m----> 1\u001b[0;31m \u001b[0mgradFunc\u001b[0m\u001b[0;34m(\u001b[0m\u001b[0;36m2\u001b[0m\u001b[0;34m)\u001b[0m\u001b[0;34m\u001b[0m\u001b[0;34m\u001b[0m\u001b[0m\n\u001b[0m",
            "    \u001b[0;31m[... skipping hidden 4 frame]\u001b[0m\n",
            "\u001b[0;32m/usr/local/lib/python3.10/dist-packages/jax/_src/api.py\u001b[0m in \u001b[0;36m_check_input_dtype_revderiv\u001b[0;34m(name, holomorphic, allow_int, x)\u001b[0m\n\u001b[1;32m    778\u001b[0m       dtypes.issubdtype(aval.dtype, np.bool_)):\n\u001b[1;32m    779\u001b[0m     \u001b[0;32mif\u001b[0m \u001b[0;32mnot\u001b[0m \u001b[0mallow_int\u001b[0m\u001b[0;34m:\u001b[0m\u001b[0;34m\u001b[0m\u001b[0;34m\u001b[0m\u001b[0m\n\u001b[0;32m--> 780\u001b[0;31m       raise TypeError(f\"{name} requires real- or complex-valued inputs (input dtype \"\n\u001b[0m\u001b[1;32m    781\u001b[0m                       \u001b[0;34mf\"that is a sub-dtype of np.inexact), but got {aval.dtype.name}. \"\u001b[0m\u001b[0;34m\u001b[0m\u001b[0;34m\u001b[0m\u001b[0m\n\u001b[1;32m    782\u001b[0m                       \u001b[0;34m\"If you want to use Boolean- or integer-valued inputs, use vjp \"\u001b[0m\u001b[0;34m\u001b[0m\u001b[0;34m\u001b[0m\u001b[0m\n",
            "\u001b[0;31mTypeError\u001b[0m: grad requires real- or complex-valued inputs (input dtype that is a sub-dtype of np.inexact), but got int32. If you want to use Boolean- or integer-valued inputs, use vjp or set allow_int to True."
          ]
        }
      ]
    },
    {
      "cell_type": "markdown",
      "source": [
        "The correct way to do it would be to pass it as a float."
      ],
      "metadata": {
        "id": "XjQ3MMYNcxGz"
      }
    },
    {
      "cell_type": "code",
      "source": [
        "gradFunc(2.0)"
      ],
      "metadata": {
        "colab": {
          "base_uri": "https://localhost:8080/"
        },
        "id": "1VZGPU-bct1z",
        "outputId": "4098293e-2200-4d17-f292-2853d5330a4f"
      },
      "execution_count": 29,
      "outputs": [
        {
          "output_type": "execute_result",
          "data": {
            "text/plain": [
              "Array(12., dtype=float32, weak_type=True)"
            ]
          },
          "metadata": {},
          "execution_count": 29
        }
      ]
    },
    {
      "cell_type": "markdown",
      "source": [
        "#### Higher Derivatives\n",
        "\n",
        "Similarly, we can calculate higher derivatives as well. For example, 2nd derivative of above function would be $6$ always. We can verify it too:"
      ],
      "metadata": {
        "id": "j-0noAZhbQ87"
      }
    },
    {
      "cell_type": "code",
      "source": [
        "doubleDerivativeFunc = grad(gradFunc)\n",
        "\n",
        "doubleDerivativeFunc(20.0)"
      ],
      "metadata": {
        "colab": {
          "base_uri": "https://localhost:8080/"
        },
        "id": "bTPwcQuCdAue",
        "outputId": "b7c789e0-f73c-467a-a4c3-8721ef59c8b8"
      },
      "execution_count": 30,
      "outputs": [
        {
          "output_type": "execute_result",
          "data": {
            "text/plain": [
              "Array(6., dtype=float32, weak_type=True)"
            ]
          },
          "metadata": {},
          "execution_count": 30
        }
      ]
    },
    {
      "cell_type": "markdown",
      "source": [
        "So we can simply call `grad()` recursively to calculate higher derivatives."
      ],
      "metadata": {
        "id": "BfcQ2HMUegIH"
      }
    },
    {
      "cell_type": "markdown",
      "source": [
        "#### Multivariate Functions\n",
        "\n",
        "Similarly, we can extend it to calculate the derivatives for multivariate functions as well. Lets revise it quickly.\n",
        "\n",
        "Suppose we have a function,\n",
        "\n",
        "$$f(a,b) = sin(a) + cos(b)$$\n",
        "\n",
        "To take its derivative, we have to specify the differentiation variable as well. Hence, we call them partial derivatives:\n",
        "\n",
        "$$\\frac{\\partial f}{\\partial a} = cos(a)$$\n",
        "\n",
        "Since $b$ is independent to the change in $a$, hence its derivative will be $0$.\n",
        "\n",
        "$$\\frac{\\partial f}{\\partial b} = -sin(b)$$\n",
        "\n",
        "---\n",
        "Now lets try to calculate it in JAX:"
      ],
      "metadata": {
        "id": "LNzJ0FIMezNg"
      }
    },
    {
      "cell_type": "code",
      "source": [
        "func_ab = lambda a,b: jnp.sin(a)+jnp.cos(b)  #For the ease, we can assume both a and b are already in Radians.\n",
        "\n",
        "df_da = grad(func_ab)"
      ],
      "metadata": {
        "id": "EzstfbHNhzDJ"
      },
      "execution_count": 31,
      "outputs": []
    },
    {
      "cell_type": "markdown",
      "source": [
        "Since it takes two values, we have to specify both $a$ and $b$ in the arguments as well.\n",
        "\n",
        "Lets test it for a value say $(\\pi,2\\pi)$"
      ],
      "metadata": {
        "id": "mZ0_jxAijCVF"
      }
    },
    {
      "cell_type": "code",
      "source": [
        "df_da(jnp.pi, 2*jnp.pi)"
      ],
      "metadata": {
        "colab": {
          "base_uri": "https://localhost:8080/"
        },
        "id": "DMzewX7Hi41o",
        "outputId": "6e5ddc53-2182-4d1e-8192-c7b40c2c158b"
      },
      "execution_count": 32,
      "outputs": [
        {
          "output_type": "execute_result",
          "data": {
            "text/plain": [
              "Array(-1., dtype=float32, weak_type=True)"
            ]
          },
          "metadata": {},
          "execution_count": 32
        }
      ]
    },
    {
      "cell_type": "markdown",
      "source": [
        "As we can confirm that $cos(\\pi) = -1$. But, how come did JAX realize that?\n",
        "\n",
        "Whenever we take derivative of a multivariate function (i.e, pass it through the `grad()`), it implicitly assumes the differentiation variable as the first one. In case we want to take the partial derivative with respect to other variable (like $b$), we can do it by specifying `argnums=<x>`.\n",
        "\n",
        "> **Note:** Here `x` specifies the variable's order (since it uses 0-based ordering, so 2nd variable will have `1` order, nth will have `n-1` and so on.)\n",
        "\n",
        "Lets calculate the $\\frac{\\partial f}{\\partial b}$."
      ],
      "metadata": {
        "id": "mv6Ns8hvj6Kx"
      }
    },
    {
      "cell_type": "code",
      "source": [
        "df_db = grad(func_ab,argnums=1)\n",
        "df_db(jnp.pi, 2*jnp.pi)"
      ],
      "metadata": {
        "colab": {
          "base_uri": "https://localhost:8080/"
        },
        "id": "hCJh5qldr2bx",
        "outputId": "22fab1be-ddc1-4da1-bd54-fcc4ff21b9fd"
      },
      "execution_count": 33,
      "outputs": [
        {
          "output_type": "execute_result",
          "data": {
            "text/plain": [
              "Array(-1.7484555e-07, dtype=float32, weak_type=True)"
            ]
          },
          "metadata": {},
          "execution_count": 33
        }
      ]
    },
    {
      "cell_type": "markdown",
      "source": [
        "The answer may sound weird but its just an outcome of the weird world of floating-point numbers. If we round it to even 5 or 6 floating points, the answer will be $0$."
      ],
      "metadata": {
        "id": "9Hc4tMNXsit3"
      }
    },
    {
      "cell_type": "code",
      "source": [
        "round(df_db(jnp.pi, 2*jnp.pi),6)"
      ],
      "metadata": {
        "colab": {
          "base_uri": "https://localhost:8080/"
        },
        "id": "FFoVSkc8tGuJ",
        "outputId": "ed838006-d4aa-4570-812a-4e9c00fc9fd1"
      },
      "execution_count": 34,
      "outputs": [
        {
          "output_type": "execute_result",
          "data": {
            "text/plain": [
              "Array(-0., dtype=float32, weak_type=True)"
            ]
          },
          "metadata": {},
          "execution_count": 34
        }
      ]
    },
    {
      "cell_type": "markdown",
      "source": [
        "---\n",
        "\n",
        "### Multivariate Differentiation\n",
        "\n",
        "So far, we have considered scalar functions and differentiated them wrt scalar variables as well. But their application is limited. If the job of autodiff was only to calculate the derivatives of scalar functions, it could easily have been done using a small set of functions. Even you can write it yourselves on some bored weekend, I am sure.\n",
        "\n",
        "The real application of autograd lies in the multivariate and vector output functions. For that, we need to revise a little bit (a very tiny bit). Please don't run away with the mention of Linear Algebra. I will make sure we go through it before moving to coding."
      ],
      "metadata": {
        "id": "cyXokAKHtTvM"
      }
    },
    {
      "cell_type": "markdown",
      "source": [
        "#### Gradient\n",
        "\n",
        "In the previous example, we had to make two separate partial derivatives. That's not a smart approach. For example, consider the case of multivariate regression here.\n",
        "\n",
        "$$y' = b +a_1x_1+a_2x_2+\\dots$$\n",
        "\n",
        "\n",
        "\n",
        "Now, its partial derivatives will be:\n",
        "\n",
        "$$\\frac{\\partial y'}{\\partial a_1} = \\dots$$\n",
        "$$\\frac{\\partial y'}{\\partial a_2} = \\dots$$\n",
        "$$ \\vdots $$\n",
        "$$\\frac{\\partial y'}{\\partial a_n} = \\dots$$\n",
        "\n",
        "**Note:** We are just skipping the $\\frac{\\partial y'}{\\partial b}$ here for simplicity, but its also calculated.\n",
        "\n",
        "...\n",
        "\n",
        "Since we have no idea about the number of parameters, so we can also write the above problem in the simple, vectorized form as:\n",
        "\n",
        "$$y' = a.x+b$$\n",
        "\n",
        "**Shouldn't there be a way of doing the same for the partial derivatives as well?**\n",
        "\n",
        "Well luckily, we have one. We can combine all the partial derivatives in a vector, known as **Gradient**. It is represented by nabla ($\\nabla$) sign.\n",
        "\n",
        "$$ \\nabla y' = \\begin{bmatrix}\n",
        " \\frac{\\partial y'}{\\partial a_1} \\\\\n",
        " \\frac{\\partial y'}{\\partial a_2} \\\\\n",
        " \\vdots \\\\\n",
        " \\frac{\\partial f}{\\partial a_n}\n",
        "\\end{bmatrix}\n",
        "$$\n",
        "\n",
        "> **Gradient** Descent is called so for the same reasons as we are using the Gradient vector here.\n",
        "\n",
        "---\n",
        "\n",
        "Coming back to JAX, we don't need to do anything special as it automatically assumes functions to take vector inputs. Hence the name **`grad()`**.\n",
        "\n",
        "In order to evaluate the gradient, we can specify the vector the same way we evaluate it for the scalar values. For example:\n"
      ],
      "metadata": {
        "id": "iBpfSZLTymd3"
      }
    },
    {
      "cell_type": "markdown",
      "source": [
        "We have a function (its not multivariate regression):\n",
        "\n",
        "$$y' = x_0-2cos(x_1)+4x_2^2$$"
      ],
      "metadata": {
        "id": "hSKP6LAHbgiJ"
      }
    },
    {
      "cell_type": "code",
      "source": [
        "def FuncA(x):\n",
        "  return x[0]-2*jnp.cos(x[1])+4*x[2]*x[2]"
      ],
      "metadata": {
        "id": "jMEq-BEEbH1y"
      },
      "execution_count": 74,
      "outputs": []
    },
    {
      "cell_type": "code",
      "source": [
        "gradientVec = grad(FuncA)"
      ],
      "metadata": {
        "colab": {
          "base_uri": "https://localhost:8080/"
        },
        "id": "uHGTL5hIispd",
        "outputId": "bad30fe7-66f5-4060-d6e8-e05c19e2fab6"
      },
      "execution_count": 75,
      "outputs": [
        {
          "output_type": "execute_result",
          "data": {
            "text/plain": [
              "<function __main__.FuncA(x)>"
            ]
          },
          "metadata": {},
          "execution_count": 75
        }
      ]
    },
    {
      "cell_type": "markdown",
      "source": [
        "We can evaluate it any point in the 3D space. Say, on $(1,1,-1)$:"
      ],
      "metadata": {
        "id": "kXkPzuqAfZdP"
      }
    },
    {
      "cell_type": "code",
      "source": [
        "x = jnp.array((1.0,0.5*jnp.pi,-1.0))\n",
        "gradientVec(x)"
      ],
      "metadata": {
        "colab": {
          "base_uri": "https://localhost:8080/"
        },
        "id": "4XPa-KU9f6YU",
        "outputId": "e3aa77f3-6bc8-493c-f849-72ca0b94033f"
      },
      "execution_count": 83,
      "outputs": [
        {
          "output_type": "execute_result",
          "data": {
            "text/plain": [
              "Array([ 1.,  2., -8.], dtype=float32)"
            ]
          },
          "metadata": {},
          "execution_count": 83
        }
      ]
    },
    {
      "cell_type": "markdown",
      "source": [
        "Similarly, we can test it on other values too. A gradient can be computed on any point in the $\\mathcal R^n$ space.\n",
        "\n",
        "Interestingly, **it works on Python primitive collections too** (sets are not allowed. So let's try them to round it off."
      ],
      "metadata": {
        "id": "8MU2S_TskEt5"
      }
    },
    {
      "cell_type": "code",
      "source": [
        "tupleD = (1.0,2.0,0.0)\n",
        "gradientVec(tupleD)"
      ],
      "metadata": {
        "colab": {
          "base_uri": "https://localhost:8080/"
        },
        "id": "-I1kSn-McQTF",
        "outputId": "8c50cc70-6456-473c-e97b-9ca9eac4d3c4"
      },
      "execution_count": 85,
      "outputs": [
        {
          "output_type": "execute_result",
          "data": {
            "text/plain": [
              "(Array(1., dtype=float32, weak_type=True),\n",
              " Array(1.8185948, dtype=float32, weak_type=True),\n",
              " Array(0., dtype=float32, weak_type=True))"
            ]
          },
          "metadata": {},
          "execution_count": 85
        }
      ]
    },
    {
      "cell_type": "code",
      "source": [
        "listE = [0.0,jnp.pi,0.0]\n",
        "gradientVec(listE)"
      ],
      "metadata": {
        "colab": {
          "base_uri": "https://localhost:8080/"
        },
        "id": "mCroEn5hkuR8",
        "outputId": "15057df5-8562-4a40-8270-3e9cade63fb5"
      },
      "execution_count": 87,
      "outputs": [
        {
          "output_type": "execute_result",
          "data": {
            "text/plain": [
              "[Array(1., dtype=float32, weak_type=True),\n",
              " Array(-1.7484555e-07, dtype=float32, weak_type=True),\n",
              " Array(0., dtype=float32, weak_type=True)]"
            ]
          },
          "metadata": {},
          "execution_count": 87
        }
      ]
    },
    {
      "cell_type": "markdown",
      "source": [
        "**Caution for Dictionaries:** It can run on dictionaries too, but we will have to update the main function accordingly."
      ],
      "metadata": {
        "id": "xSjxLhISleQN"
      }
    },
    {
      "cell_type": "code",
      "source": [
        "dictionaryF = {\"x0\":0.5,\"x1\":-jnp.pi,\"x2\":0.5}\n",
        "gradientVec(dictionaryF)"
      ],
      "metadata": {
        "colab": {
          "base_uri": "https://localhost:8080/",
          "height": 309
        },
        "id": "r1g_tSnclELQ",
        "outputId": "74a984d9-73b0-4f64-dd2d-0b793685e78b"
      },
      "execution_count": 88,
      "outputs": [
        {
          "output_type": "error",
          "ename": "KeyError",
          "evalue": "ignored",
          "traceback": [
            "\u001b[0;31m---------------------------------------------------------------------------\u001b[0m",
            "\u001b[0;31mKeyError\u001b[0m                                  Traceback (most recent call last)",
            "\u001b[0;32m<ipython-input-88-a67a0b89324f>\u001b[0m in \u001b[0;36m<cell line: 2>\u001b[0;34m()\u001b[0m\n\u001b[1;32m      1\u001b[0m \u001b[0mdictionaryF\u001b[0m \u001b[0;34m=\u001b[0m \u001b[0;34m{\u001b[0m\u001b[0;34m\"x0\"\u001b[0m\u001b[0;34m:\u001b[0m\u001b[0;36m0.5\u001b[0m\u001b[0;34m,\u001b[0m\u001b[0;34m\"x1\"\u001b[0m\u001b[0;34m:\u001b[0m\u001b[0;34m-\u001b[0m\u001b[0mjnp\u001b[0m\u001b[0;34m.\u001b[0m\u001b[0mpi\u001b[0m\u001b[0;34m,\u001b[0m\u001b[0;34m\"x2\"\u001b[0m\u001b[0;34m:\u001b[0m\u001b[0;36m0.5\u001b[0m\u001b[0;34m}\u001b[0m\u001b[0;34m\u001b[0m\u001b[0;34m\u001b[0m\u001b[0m\n\u001b[0;32m----> 2\u001b[0;31m \u001b[0mgradientVec\u001b[0m\u001b[0;34m(\u001b[0m\u001b[0mdictionaryF\u001b[0m\u001b[0;34m)\u001b[0m\u001b[0;34m\u001b[0m\u001b[0;34m\u001b[0m\u001b[0m\n\u001b[0m",
            "    \u001b[0;31m[... skipping hidden 10 frame]\u001b[0m\n",
            "\u001b[0;32m<ipython-input-74-25fa30f4559c>\u001b[0m in \u001b[0;36mFuncA\u001b[0;34m(x)\u001b[0m\n\u001b[1;32m      1\u001b[0m \u001b[0;32mdef\u001b[0m \u001b[0mFuncA\u001b[0m\u001b[0;34m(\u001b[0m\u001b[0mx\u001b[0m\u001b[0;34m)\u001b[0m\u001b[0;34m:\u001b[0m\u001b[0;34m\u001b[0m\u001b[0;34m\u001b[0m\u001b[0m\n\u001b[0;32m----> 2\u001b[0;31m   \u001b[0;32mreturn\u001b[0m \u001b[0mx\u001b[0m\u001b[0;34m[\u001b[0m\u001b[0;36m0\u001b[0m\u001b[0;34m]\u001b[0m\u001b[0;34m-\u001b[0m\u001b[0;36m2\u001b[0m\u001b[0;34m*\u001b[0m\u001b[0mjnp\u001b[0m\u001b[0;34m.\u001b[0m\u001b[0mcos\u001b[0m\u001b[0;34m(\u001b[0m\u001b[0mx\u001b[0m\u001b[0;34m[\u001b[0m\u001b[0;36m1\u001b[0m\u001b[0;34m]\u001b[0m\u001b[0;34m)\u001b[0m\u001b[0;34m+\u001b[0m\u001b[0;36m4\u001b[0m\u001b[0;34m*\u001b[0m\u001b[0mx\u001b[0m\u001b[0;34m[\u001b[0m\u001b[0;36m2\u001b[0m\u001b[0;34m]\u001b[0m\u001b[0;34m*\u001b[0m\u001b[0mx\u001b[0m\u001b[0;34m[\u001b[0m\u001b[0;36m2\u001b[0m\u001b[0;34m]\u001b[0m\u001b[0;34m\u001b[0m\u001b[0;34m\u001b[0m\u001b[0m\n\u001b[0m",
            "\u001b[0;31mKeyError\u001b[0m: 0"
          ]
        }
      ]
    },
    {
      "cell_type": "markdown",
      "source": [
        "#### Jacobian\n",
        "\n",
        "Gradient maps $\\mathcal R^n \\to \\mathcal R$.\n",
        "\n",
        "There can also be scenarios where a function mapping $\\mathcal R^n \\to \\mathcal R^m$. For such a functions, we generalize gradients to the whole matrices.\n",
        "\n",
        "--To be continued--"
      ],
      "metadata": {
        "id": "FbjiuoK9xjQU"
      }
    }
  ]
}
