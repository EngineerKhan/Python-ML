{
  "nbformat": 4,
  "nbformat_minor": 0,
  "metadata": {
    "colab": {
      "provenance": [],
      "collapsed_sections": [
        "LaeP0Bvd3peB",
        "1lUkjHL432ur",
        "ccF_xNaYF_Hg"
      ],
      "authorship_tag": "ABX9TyOOVztd/0npLW7ipfV3PRTF"
    },
    "kernelspec": {
      "name": "python3",
      "display_name": "Python 3"
    },
    "language_info": {
      "name": "python"
    }
  },
  "cells": [
    {
      "cell_type": "markdown",
      "source": [
        "## Python Basics\n",
        "\n",
        "### Variables\n",
        "\n",
        "Let's start with variables"
      ],
      "metadata": {
        "id": "LaeP0Bvd3peB"
      }
    },
    {
      "cell_type": "code",
      "source": [
        "a = 10\n",
        "b = 15\n",
        "\n",
        "c = a - b\n",
        "\n",
        "print(c)"
      ],
      "metadata": {
        "id": "Sy5S5tCx3lxI"
      },
      "execution_count": null,
      "outputs": []
    },
    {
      "cell_type": "markdown",
      "source": [
        "### Elementary Arithmetic Operations\n",
        "\n",
        "Similarly, we can perform some other arithemtic operations too:"
      ],
      "metadata": {
        "id": "1lUkjHL432ur"
      }
    },
    {
      "cell_type": "code",
      "source": [
        "d = a*5\n",
        "print(d)"
      ],
      "metadata": {
        "colab": {
          "base_uri": "https://localhost:8080/"
        },
        "id": "hRTYeFqm4B4j",
        "outputId": "9455945b-bff6-42ae-d4cb-427ec497839b"
      },
      "execution_count": 2,
      "outputs": [
        {
          "output_type": "stream",
          "name": "stdout",
          "text": [
            "50\n"
          ]
        }
      ]
    },
    {
      "cell_type": "markdown",
      "source": [
        "#### Exponent\n",
        "For power, we can use the ****** operator."
      ],
      "metadata": {
        "id": "ytKeMJI64Gry"
      }
    },
    {
      "cell_type": "code",
      "source": [
        "kb = 2**10\n",
        "print(kb)"
      ],
      "metadata": {
        "colab": {
          "base_uri": "https://localhost:8080/"
        },
        "id": "P_BiY0mT4P-w",
        "outputId": "b44c9ef8-4d67-484d-e1f1-58c888626ecf"
      },
      "execution_count": 3,
      "outputs": [
        {
          "output_type": "stream",
          "name": "stdout",
          "text": [
            "1024\n"
          ]
        }
      ]
    },
    {
      "cell_type": "markdown",
      "source": [
        "#### Example: Wheat and Checkerboard Problem\n",
        "As the famous legend states that the chess inventor was asked by the king for the prize and he asked one grain of rice in the first chess cell, followed by two in the other and 4 in the 3rd and so on.\n",
        "\n",
        "It results in a Geometric series, having the form of:\n",
        "\n",
        "$$S_{64} = 2^{64}-1$$"
      ],
      "metadata": {
        "id": "Uxl8_nqy4vig"
      }
    },
    {
      "cell_type": "code",
      "source": [
        "chessCombinations = (2**64)-(1)\n",
        "print(chessCombinations)"
      ],
      "metadata": {
        "colab": {
          "base_uri": "https://localhost:8080/"
        },
        "id": "zlwprdkN4jt3",
        "outputId": "749b92d6-eac0-47df-e61c-613531188b00"
      },
      "execution_count": 4,
      "outputs": [
        {
          "output_type": "stream",
          "name": "stdout",
          "text": [
            "18446744073709551615\n"
          ]
        }
      ]
    },
    {
      "cell_type": "markdown",
      "source": [
        "### Advanced Mathematical Features\n",
        "\n",
        "For advanced mathematical functions, we can take advantage of the **`math`** library.\n",
        "\n",
        "It can simply be imported as:"
      ],
      "metadata": {
        "id": "b30wgnGt6yr_"
      }
    },
    {
      "cell_type": "code",
      "source": [
        "import math"
      ],
      "metadata": {
        "id": "9ImBx6OB6_1p"
      },
      "execution_count": 5,
      "outputs": []
    },
    {
      "cell_type": "markdown",
      "source": [
        "We can use it for a number of features, like:"
      ],
      "metadata": {
        "id": "DqOXcNqm7FuJ"
      }
    },
    {
      "cell_type": "code",
      "source": [
        "b = math.cos(30)\n",
        "print(b)"
      ],
      "metadata": {
        "colab": {
          "base_uri": "https://localhost:8080/"
        },
        "id": "34Emy-F_7I5S",
        "outputId": "a82446da-363c-4b8d-cc6c-798b3db3dee2"
      },
      "execution_count": 6,
      "outputs": [
        {
          "output_type": "stream",
          "name": "stdout",
          "text": [
            "0.15425144988758405\n"
          ]
        }
      ]
    },
    {
      "cell_type": "markdown",
      "source": [
        "The answer is not what we were expecting it to be. Actually, every computational software uses SI units, and hence Radians are used. We can easily convert Radians to Degrees using the formula:\n",
        "\n",
        "$$Degree = \\frac{Radians \\times \\pi}{180}$$\n",
        "\n",
        "So,\n",
        "\n",
        "30º = 30/180*pi"
      ],
      "metadata": {
        "id": "rS9IzBxx7SbQ"
      }
    },
    {
      "cell_type": "code",
      "source": [
        "b = math.cos(30/180*math.pi)\n",
        "print(b)"
      ],
      "metadata": {
        "colab": {
          "base_uri": "https://localhost:8080/"
        },
        "id": "_eDxMUZ88GQy",
        "outputId": "ac1e8cc7-b433-4d73-e269-b58e714740e1"
      },
      "execution_count": 7,
      "outputs": [
        {
          "output_type": "stream",
          "name": "stdout",
          "text": [
            "0.8660254037844387\n"
          ]
        }
      ]
    },
    {
      "cell_type": "markdown",
      "source": [
        "Similarly, we can use it for plenty of other mathematical functions, like:"
      ],
      "metadata": {
        "id": "grcR5ZON_Lfi"
      }
    },
    {
      "cell_type": "markdown",
      "source": [
        "#### Exponential Function"
      ],
      "metadata": {
        "id": "zDOlw_sN_w96"
      }
    },
    {
      "cell_type": "code",
      "source": [
        "a = math.exp(4)\n",
        "print(a)"
      ],
      "metadata": {
        "colab": {
          "base_uri": "https://localhost:8080/"
        },
        "id": "oHZpR6G8_Ped",
        "outputId": "102fa3bb-522f-45b5-9656-10bd2781b603"
      },
      "execution_count": 8,
      "outputs": [
        {
          "output_type": "stream",
          "name": "stdout",
          "text": [
            "54.598150033144236\n"
          ]
        }
      ]
    },
    {
      "cell_type": "markdown",
      "source": [
        "#### Factorial and Permutations/Combinations\n",
        "\n",
        "Remember from FSc Mathematics (ch 7?). We have built-in functions for them."
      ],
      "metadata": {
        "id": "gesMvoDbAG2u"
      }
    },
    {
      "cell_type": "code",
      "source": [
        "a = math.factorial(5)\n",
        "print(a)"
      ],
      "metadata": {
        "colab": {
          "base_uri": "https://localhost:8080/"
        },
        "id": "UlA-8aH2AT2j",
        "outputId": "923af074-8df3-4a14-dcf4-0b6d0409083c"
      },
      "execution_count": 9,
      "outputs": [
        {
          "output_type": "stream",
          "name": "stdout",
          "text": [
            "120\n"
          ]
        }
      ]
    },
    {
      "cell_type": "markdown",
      "source": [
        "**Combination** is defined as:\n",
        "\n",
        "$$C(n,k) ={C_k}^n = \\frac{n!}{k! (n-k)!}$$\n",
        "\n",
        "We can simply calculate it using Python as `math.comb(n,k)`.\n",
        "\n",
        "**Permutation** on the other hand is a phenomenon where order matters, and hence defines as:\n",
        "\n",
        "$$P(n,k) ={P_k}^n = \\frac{n!}{(n-k)!}$$\n",
        "\n",
        "**Example: [Birthday Problem](https://en.wikipedia.org/wiki/Birthday_problem)**\n",
        "\n",
        "There are 50 people in this class. What's the probability of any student sharing the same birthday as me?\n",
        "\n",
        "$$V_{nr} = \\frac{n!}{(n-k)!} = \\frac{365!}{(365-50)!}$$  \n",
        "\n",
        "$$V_{t} = n^{k} = 365^{50}$$\n",
        "\n",
        "$$P(Same Birthday) = 1 - \\frac{V_{nr}}{V_{t}}$$\n",
        "\n",
        "Let's code it."
      ],
      "metadata": {
        "id": "H0ulcp0vAbK1"
      }
    },
    {
      "cell_type": "code",
      "source": [
        "n = 365\n",
        "k = 25\n",
        "\n",
        "V_nr = math.factorial(365)/math.factorial(340)\n",
        "V_t = math.pow(366,25)   #We can use both ** or math.pow(x,y)\n",
        "\n",
        "Prob_A = 1 - (V_nr/V_t)\n",
        "\n",
        "print(Prob_A)"
      ],
      "metadata": {
        "colab": {
          "base_uri": "https://localhost:8080/"
        },
        "id": "w_BkyaJjBSiZ",
        "outputId": "83d947b2-b9b2-41b7-cb88-63ca9a94e94b"
      },
      "execution_count": 10,
      "outputs": [
        {
          "output_type": "stream",
          "name": "stdout",
          "text": [
            "0.5972141244558467\n"
          ]
        }
      ]
    },
    {
      "cell_type": "markdown",
      "source": [
        "Yeah, its pretty counter-intuitive and mind-blowing. Please feel free to read this Birthday Paradox in the spare time.\n",
        "\n",
        "Anyways, since obviously we just want a probability and not a NASA rocket precision, so we can round it off."
      ],
      "metadata": {
        "id": "VCAlsRkFFIHo"
      }
    },
    {
      "cell_type": "code",
      "source": [
        "Prob_A = round(Prob_A,3)\n",
        "print(Prob_A*100,\"%\")"
      ],
      "metadata": {
        "colab": {
          "base_uri": "https://localhost:8080/"
        },
        "id": "K3-H0fiQFODq",
        "outputId": "69209c72-6aa0-457e-ec5c-2d738c8b524c"
      },
      "execution_count": 11,
      "outputs": [
        {
          "output_type": "stream",
          "name": "stdout",
          "text": [
            "59.699999999999996 %\n"
          ]
        }
      ]
    },
    {
      "cell_type": "markdown",
      "source": [
        "Please feel free to check the other mathematical functions by checking its [whole documentation](https://docs.python.org/3/library/math.html)."
      ],
      "metadata": {
        "id": "YHukxgQA_1x_"
      }
    },
    {
      "cell_type": "markdown",
      "source": [
        "### Operator Precedence\n",
        "\n",
        "DMAS rule from primary school would be clear to everyone. Operators in Python are also evaluated using the similar precedence. If two operators have the same precedence, they are evaluated in the **left to right** order.\n",
        "\n"
      ],
      "metadata": {
        "id": "XQZ5UPQJ8vzz"
      }
    },
    {
      "cell_type": "code",
      "source": [
        "a = 3/4+9-2*12\n",
        "print(a)"
      ],
      "metadata": {
        "colab": {
          "base_uri": "https://localhost:8080/"
        },
        "id": "V3xCDJNb9uDO",
        "outputId": "01251888-a495-4970-f0a7-81091ccca1d5"
      },
      "execution_count": 12,
      "outputs": [
        {
          "output_type": "stream",
          "name": "stdout",
          "text": [
            "-14.25\n"
          ]
        }
      ]
    },
    {
      "cell_type": "markdown",
      "source": [
        "We can always use parantheses to enforce the precedence (other than the default order)."
      ],
      "metadata": {
        "id": "zCRH_K2-99ht"
      }
    },
    {
      "cell_type": "code",
      "source": [
        "a = 3/4+(9-2)*12\n",
        "print(a)"
      ],
      "metadata": {
        "colab": {
          "base_uri": "https://localhost:8080/"
        },
        "id": "HF5WV9lE95e9",
        "outputId": "424d7cbd-4c33-4189-abed-7b2c23ce25d1"
      },
      "execution_count": 13,
      "outputs": [
        {
          "output_type": "stream",
          "name": "stdout",
          "text": [
            "84.75\n"
          ]
        }
      ]
    },
    {
      "cell_type": "markdown",
      "source": [
        "### Printing a message and a variable together.\n",
        "\n",
        "We could easily output the above `print(a)` as `print(\"Answer after parentheses is:\" a)`\n",
        "\n",
        "Let's see how to do it"
      ],
      "metadata": {
        "id": "7AYFpAOA-Lut"
      }
    },
    {
      "cell_type": "code",
      "source": [
        "print(\"Answer after parentheses is: \", a)"
      ],
      "metadata": {
        "colab": {
          "base_uri": "https://localhost:8080/"
        },
        "id": "o4PDrBQD-cJ_",
        "outputId": "6d5aa7c7-3370-4956-b5d4-115c8dc624ed"
      },
      "execution_count": 14,
      "outputs": [
        {
          "output_type": "stream",
          "name": "stdout",
          "text": [
            "Answer after parentheses is:  84.75\n"
          ]
        }
      ]
    },
    {
      "cell_type": "markdown",
      "source": [
        "We can even combine two or more variables, for example:"
      ],
      "metadata": {
        "id": "Pv3MS9kF-k-O"
      }
    },
    {
      "cell_type": "code",
      "source": [
        "print(\"Smallest prime is\", 2, \"and its surprisingly the only even prime as well. It's 10th power is: \", 2**10)"
      ],
      "metadata": {
        "colab": {
          "base_uri": "https://localhost:8080/"
        },
        "id": "mgL7XQIr-jdS",
        "outputId": "7fe40daa-9736-4555-fea3-9b581273fbf4"
      },
      "execution_count": 15,
      "outputs": [
        {
          "output_type": "stream",
          "name": "stdout",
          "text": [
            "Smallest prime is 2 and its surprisingly the only even prime as well. It's 10th power is:  1024\n"
          ]
        }
      ]
    },
    {
      "cell_type": "markdown",
      "source": [
        "## Selection Structures\n",
        "\n",
        "Often, there are scenarios where we have to pick one out of the two (or several) cases.\n",
        "\n",
        "For that, we can use **`if`** condition.\n",
        "\n",
        "An `if` condition takes the form:\n",
        "\n",
        "```\n",
        "if (condition):\n",
        "  <statements if condition is true>\n",
        "```"
      ],
      "metadata": {
        "id": "ccF_xNaYF_Hg"
      }
    },
    {
      "cell_type": "code",
      "source": [
        "if(Prob_A)>0.50:\n",
        "  print(\"Its more likely to happen than not.\")"
      ],
      "metadata": {
        "colab": {
          "base_uri": "https://localhost:8080/"
        },
        "id": "nnpazcE3GS0V",
        "outputId": "8629e0fc-2aea-41b3-e8f4-ebd79fcf230c"
      },
      "execution_count": 16,
      "outputs": [
        {
          "output_type": "stream",
          "name": "stdout",
          "text": [
            "Its more likely to happen than not.\n"
          ]
        }
      ]
    },
    {
      "cell_type": "markdown",
      "source": [
        "Ok, but what about the cases having $p \\le 0.5$?\n",
        "\n",
        "We can use **`else`** in case we have both default and counter cases."
      ],
      "metadata": {
        "id": "QidGfKmQG8Lr"
      }
    },
    {
      "cell_type": "code",
      "source": [
        "a = 0.3 #Feel free to change its value.\n",
        "\n",
        "if(a)>0.50:\n",
        "  print(\"Its more likely to happen.\")\n",
        "else:\n",
        "  print(\"Its unlikely to happen.\")"
      ],
      "metadata": {
        "colab": {
          "base_uri": "https://localhost:8080/"
        },
        "id": "ug1epIonHQMW",
        "outputId": "dddb6ebf-9b59-4af6-ddf9-8d2e674b8d49"
      },
      "execution_count": 17,
      "outputs": [
        {
          "output_type": "stream",
          "name": "stdout",
          "text": [
            "Its unlikely to happen.\n"
          ]
        }
      ]
    },
    {
      "cell_type": "markdown",
      "source": [
        "### Multiple Cases\n",
        "\n",
        "Do we have the support for multiple options as well? Yeah! We do.\n",
        "\n",
        "In such a cases, we design the first condition by `if`, rest by `elif` and default one by `else`.\n",
        "\n",
        "Which means that if we have 6 conditions, then no of **`elif`** would be:\n",
        "\n",
        "$$6-2 = 4$$"
      ],
      "metadata": {
        "id": "iVpzckctHu04"
      }
    },
    {
      "cell_type": "code",
      "source": [
        "#if(marks>=80){print()}"
      ],
      "metadata": {
        "id": "10wmoTDyCfSk"
      },
      "execution_count": null,
      "outputs": []
    },
    {
      "cell_type": "code",
      "source": [
        "marks = 45\n",
        "\n",
        "if(marks>=80):\n",
        "  print(\"A+ grade\")\n",
        "elif(marks>=70):\n",
        "  print(\"A grade\")\n",
        "elif(marks>=60):\n",
        "  print(\"B grade\")\n",
        "elif(marks>=50):\n",
        "  print(\"C grade\")\n",
        "else:\n",
        "  print(\"fail\")"
      ],
      "metadata": {
        "colab": {
          "base_uri": "https://localhost:8080/"
        },
        "id": "Q07K57OlIQjz",
        "outputId": "4a6b36a2-0229-49b8-ffc8-95f6a1c4cdd6"
      },
      "execution_count": 19,
      "outputs": [
        {
          "output_type": "stream",
          "name": "stdout",
          "text": [
            "fail\n"
          ]
        }
      ]
    },
    {
      "cell_type": "code",
      "source": [
        "name = \"Ali\"\n",
        "name"
      ],
      "metadata": {
        "colab": {
          "base_uri": "https://localhost:8080/",
          "height": 36
        },
        "id": "IoAatP1gCvsi",
        "outputId": "fdcf7405-1368-4c39-e81a-f857ac9d5e7a"
      },
      "execution_count": 21,
      "outputs": [
        {
          "output_type": "execute_result",
          "data": {
            "text/plain": [
              "'Ali'"
            ],
            "application/vnd.google.colaboratory.intrinsic+json": {
              "type": "string"
            }
          },
          "metadata": {},
          "execution_count": 21
        }
      ]
    },
    {
      "cell_type": "markdown",
      "source": [
        "---\n",
        "\n",
        "## Identation\n",
        "\n",
        "Python's philosophy is centered around the code's beautification and ease of understandability. As a result, Python uses identations to separate out different blocks of code.\n",
        "\n",
        "If you look back at the `if()` etc conditions, then the statement(s) under them are after an identation, marking their respective blocks.\n",
        "\n",
        "**Caution:** If you are in some block and want to switch to a new statement outside that block, its necessary to _clear_ that block by removing the identation in the new line. Most of the errors for Python beginners stem from the misunderstanding and mishandling of the identations. Once you get used to them, they turn out to be a pretty easy/interesting feature of Python.\n",
        "\n",
        "We will continue observing identations throughout the course.\n",
        "\n",
        "---"
      ],
      "metadata": {
        "id": "ciK7w_lDJNFv"
      }
    },
    {
      "cell_type": "markdown",
      "source": [
        "## Basic Data Structures\n",
        "\n",
        "So far, we have observed only scalar numbers as variables. But what about the vectors and other structures? In this section, we will cover them."
      ],
      "metadata": {
        "id": "CQ25veErLMOT"
      }
    },
    {
      "cell_type": "markdown",
      "source": [
        "### Lists\n",
        "\n",
        "If a class has 20 students and we have to save the names of every student, one way can be to make 20 variables:\n",
        "\n",
        "```\n",
        "student1 = \"Ali\"\n",
        "student2 = \"Aysha\"\n",
        "student3 = \"Bilal\"\n",
        ".\n",
        ".\n",
        ".\n",
        ".\n",
        "student20 = \"Zahid\"\n",
        "```\n",
        "\n",
        "But clearly its a pretty ugly solution as Software Engineering asks us to generalize things as much as possible.\n",
        "\n",
        "A better solution would be to make a list (restricted to 6 students here for simplicity).\n"
      ],
      "metadata": {
        "id": "m24ef6t-L_71"
      }
    },
    {
      "cell_type": "code",
      "source": [
        "student = [\"Ali\", \"Aysha\", \"Bilal\", \"Maryam\", \"Usama\", \"Zahid\"]"
      ],
      "metadata": {
        "id": "-AmpBEC_NIIp"
      },
      "execution_count": 22,
      "outputs": []
    },
    {
      "cell_type": "markdown",
      "source": [
        "Will `print()` work in the same way here too?\n",
        "Also, how to access a particular student's name?"
      ],
      "metadata": {
        "id": "dJJDbtX9NbQS"
      }
    },
    {
      "cell_type": "code",
      "source": [
        "print(student)"
      ],
      "metadata": {
        "colab": {
          "base_uri": "https://localhost:8080/"
        },
        "id": "lp1zTWt1NlXv",
        "outputId": "9518e91e-b2a7-4d02-be0d-b8a9c5c913c6"
      },
      "execution_count": 23,
      "outputs": [
        {
          "output_type": "stream",
          "name": "stdout",
          "text": [
            "['Ali', 'Aysha', 'Bilal', 'Maryam', 'Usama', 'Zahid']\n"
          ]
        }
      ]
    },
    {
      "cell_type": "markdown",
      "source": [
        "#### Indexing\n",
        "So `print()` shows us the whole list. Great! But, how about I want to see the name of the 4th student only?"
      ],
      "metadata": {
        "id": "VyWVQykhNqBS"
      }
    },
    {
      "cell_type": "code",
      "source": [
        "a = student[4]\n",
        "\n",
        "print(a)"
      ],
      "metadata": {
        "colab": {
          "base_uri": "https://localhost:8080/"
        },
        "id": "mu7Nc9jmN7VU",
        "outputId": "bc36c778-7b40-468b-80a3-f359584de10d"
      },
      "execution_count": 24,
      "outputs": [
        {
          "output_type": "stream",
          "name": "stdout",
          "text": [
            "Usama\n"
          ]
        }
      ]
    },
    {
      "cell_type": "markdown",
      "source": [
        "But it has shown the 5th student here?! The reason is: yes you are right! Python also uses a 0-based indexing. So $0$ refers to the first student, and so on. Which means, Aysha will be found at 1st index:"
      ],
      "metadata": {
        "id": "xCIvTCd2OD_Q"
      }
    },
    {
      "cell_type": "code",
      "source": [
        "print(student[2])"
      ],
      "metadata": {
        "colab": {
          "base_uri": "https://localhost:8080/"
        },
        "id": "P3B3vbtOOWsf",
        "outputId": "8bd8d32f-560b-43b1-942a-67f62e09d214"
      },
      "execution_count": 25,
      "outputs": [
        {
          "output_type": "stream",
          "name": "stdout",
          "text": [
            "Bilal\n"
          ]
        }
      ]
    },
    {
      "cell_type": "markdown",
      "source": [
        "#### Slicing\n",
        "\n",
        "We can even get a subset of the array. This is similar to how we access a number of cells together in the MS Excel by providing a range between starting and ending cell.\n",
        "\n",
        "```\n",
        "<array's name>[a:b]\n",
        "```\n",
        "\n",
        "Where $a$ and $b$ are starting and ending indexes.\n",
        "\n",
        "Please note that the ending index is not counted. So, its similar to the range in mathematics denoted as $[a,b)$."
      ],
      "metadata": {
        "id": "UBcHwkBbNRXa"
      }
    },
    {
      "cell_type": "code",
      "source": [
        "student[2:4] #2 index and 3, but 4 not included."
      ],
      "metadata": {
        "colab": {
          "base_uri": "https://localhost:8080/"
        },
        "id": "Gc5ZfuZkO3Dt",
        "outputId": "7ef4b066-f9a0-44fe-a075-bfdf744e2380"
      },
      "execution_count": 26,
      "outputs": [
        {
          "output_type": "execute_result",
          "data": {
            "text/plain": [
              "['Bilal', 'Maryam']"
            ]
          },
          "metadata": {},
          "execution_count": 26
        }
      ]
    },
    {
      "cell_type": "markdown",
      "source": [
        "### Sets\n",
        "\n",
        "Python is a cool language and having sets alone is good enough reason to merit it the title.\n",
        "\n",
        "In sets, order doesn't matter; also we can't repeat an element. Sets are represented by curly braces."
      ],
      "metadata": {
        "id": "xMc0yfMVO_rx"
      }
    },
    {
      "cell_type": "code",
      "source": [
        "A = {0, 3, 5}\n",
        "B = {1, 2, 3, 4}\n",
        "\n",
        "print(A)\n",
        "print(B)"
      ],
      "metadata": {
        "colab": {
          "base_uri": "https://localhost:8080/"
        },
        "id": "t4FUqPzWPyXb",
        "outputId": "8f0af18a-8fae-47d2-8b6b-6fb7af0fe611"
      },
      "execution_count": 27,
      "outputs": [
        {
          "output_type": "stream",
          "name": "stdout",
          "text": [
            "{0, 3, 5}\n",
            "{1, 2, 3, 4}\n"
          ]
        }
      ]
    },
    {
      "cell_type": "markdown",
      "source": [
        "**Indexing with Sets:** Can we use the indexing with the set elements as well?"
      ],
      "metadata": {
        "id": "ABNOreV5P_3o"
      }
    },
    {
      "cell_type": "code",
      "source": [
        "A[2]"
      ],
      "metadata": {
        "colab": {
          "base_uri": "https://localhost:8080/",
          "height": 181
        },
        "id": "3GIAZnzCQC3h",
        "outputId": "ba58ae0b-6b64-4ee6-81b4-a60efeedb8f5"
      },
      "execution_count": 30,
      "outputs": [
        {
          "output_type": "error",
          "ename": "TypeError",
          "evalue": "ignored",
          "traceback": [
            "\u001b[0;31m---------------------------------------------------------------------------\u001b[0m",
            "\u001b[0;31mTypeError\u001b[0m                                 Traceback (most recent call last)",
            "\u001b[0;32m<ipython-input-30-d90411c862f7>\u001b[0m in \u001b[0;36m<cell line: 1>\u001b[0;34m()\u001b[0m\n\u001b[0;32m----> 1\u001b[0;31m \u001b[0mA\u001b[0m\u001b[0;34m[\u001b[0m\u001b[0;36m2\u001b[0m\u001b[0;34m]\u001b[0m\u001b[0;34m\u001b[0m\u001b[0;34m\u001b[0m\u001b[0m\n\u001b[0m",
            "\u001b[0;31mTypeError\u001b[0m: 'set' object is not subscriptable"
          ]
        }
      ]
    },
    {
      "cell_type": "markdown",
      "source": [
        "#### Set Operations\n",
        "\n",
        "When order doesn't matter, then indexing doesn't matter either. We can also use basic set operations, like:\n",
        "\n",
        "`A.union(B)`  For $A \\cup B$\n",
        "\n",
        "`A.intersection(B)`  For $A \\cap B$"
      ],
      "metadata": {
        "id": "hp_iPyyVQNcZ"
      }
    },
    {
      "cell_type": "code",
      "source": [
        "C = A.union(B)\n",
        "D = A.intersection(B)\n",
        "\n",
        "print(\"Contents of A: \",A)\n",
        "print(\"Contents of B: \",B)\n",
        "print(\"Contents of C = A ∪ B: \",C)\n",
        "print(\"Contents of D = A ∩ B: \",D)"
      ],
      "metadata": {
        "colab": {
          "base_uri": "https://localhost:8080/"
        },
        "id": "nK6aMZeKQYxe",
        "outputId": "deeb2f57-214f-41e9-97ef-ef3a3f40d76f"
      },
      "execution_count": 31,
      "outputs": [
        {
          "output_type": "stream",
          "name": "stdout",
          "text": [
            "Contents of A:  {0, 3, 5}\n",
            "Contents of B:  {1, 2, 3, 4}\n",
            "Contents of C = A ∪ B:  {0, 1, 2, 3, 4, 5}\n",
            "Contents of D = A ∩ B:  {3}\n"
          ]
        }
      ]
    },
    {
      "cell_type": "code",
      "source": [
        "E = B.union(A)\n",
        "E"
      ],
      "metadata": {
        "colab": {
          "base_uri": "https://localhost:8080/"
        },
        "id": "VJksOPK5GASd",
        "outputId": "c9e8911d-5690-4987-a4dc-8e88ea2838ad"
      },
      "execution_count": 32,
      "outputs": [
        {
          "output_type": "execute_result",
          "data": {
            "text/plain": [
              "{0, 1, 2, 3, 4, 5}"
            ]
          },
          "metadata": {},
          "execution_count": 32
        }
      ]
    },
    {
      "cell_type": "markdown",
      "source": [
        "### Tuples\n",
        "\n",
        "As we saw that sets are unordered (and hence can't have duplicates either). There can be some scenarios where we need these items in a proper order.\n",
        "\n",
        "For example, in **Cartesian coordinate system**, we cannot write $(x,y)$ as $(y,x)$ as well. Both are different from each other.\n",
        "\n",
        "Like Lahore is situated at [(31.32º,74.20º)](https://geohack.toolforge.org/geohack.php?pagename=Lahore&params=31_32_59_N_74_20_37_E_region:PK_type:city(11126285)). But if we invert the coordinates, it takes us [to the middle of nowhere near Svalbard](https://www.bing.com/maps/?v=2&cp=74.436493~31.549868).\n",
        "\n",
        "So, in these situations, we need to preserve the order. Tuples are defined by ()."
      ],
      "metadata": {
        "id": "9rekih2xR7Bz"
      }
    },
    {
      "cell_type": "code",
      "source": [
        "LahoreCoordinates = (31.32,74.20)\n",
        "JeddahCoordinates = (21.32, 39.10)\n",
        "AmfilochiaCoordinates = (39.10, 21.32)\n",
        "JavaCoordinates = (-7.29,110.00)\n",
        "CityXYZ=(5.0,5.0)"
      ],
      "metadata": {
        "id": "7bmjJQEtTbRi"
      },
      "execution_count": 37,
      "outputs": []
    },
    {
      "cell_type": "markdown",
      "source": [
        "Now, Jeddah and Amfilochia have opposite coordinates and here tuples are useful as they preserve the order."
      ],
      "metadata": {
        "id": "4mzvXPp3UPV5"
      }
    },
    {
      "cell_type": "code",
      "source": [
        "if(JeddahCoordinates==AmfilochiaCoordinates):\n",
        "  print(\"Tuples have failed. Simply let us down\")\n",
        "else:\n",
        "  print(\"Tuples work!\")"
      ],
      "metadata": {
        "colab": {
          "base_uri": "https://localhost:8080/"
        },
        "id": "Avh3wMnJUVxh",
        "outputId": "0d8179b8-3cda-4f0a-c909-88780b5e940d"
      },
      "execution_count": 34,
      "outputs": [
        {
          "output_type": "stream",
          "name": "stdout",
          "text": [
            "Tuples work!\n"
          ]
        }
      ]
    },
    {
      "cell_type": "markdown",
      "source": [
        "Can we use indexes with the tuples?"
      ],
      "metadata": {
        "id": "paGxAh5AUjr8"
      }
    },
    {
      "cell_type": "code",
      "source": [
        "JavaCoordinates[0]"
      ],
      "metadata": {
        "colab": {
          "base_uri": "https://localhost:8080/"
        },
        "id": "8j8Un0CxUoGJ",
        "outputId": "3c01a924-874f-44a9-ccee-56611fd1ea76"
      },
      "execution_count": 35,
      "outputs": [
        {
          "output_type": "execute_result",
          "data": {
            "text/plain": [
              "-7.29"
            ]
          },
          "metadata": {},
          "execution_count": 35
        }
      ]
    },
    {
      "cell_type": "code",
      "source": [
        "JavaCoordinates[1] = 12.00\n",
        "\n",
        "print(JavaCoordinates)"
      ],
      "metadata": {
        "colab": {
          "base_uri": "https://localhost:8080/",
          "height": 217
        },
        "id": "x7pugYRlHVfd",
        "outputId": "75506798-256f-4a4d-bddc-72e9ae780187"
      },
      "execution_count": 36,
      "outputs": [
        {
          "output_type": "error",
          "ename": "TypeError",
          "evalue": "ignored",
          "traceback": [
            "\u001b[0;31m---------------------------------------------------------------------------\u001b[0m",
            "\u001b[0;31mTypeError\u001b[0m                                 Traceback (most recent call last)",
            "\u001b[0;32m<ipython-input-36-85e1dd698786>\u001b[0m in \u001b[0;36m<cell line: 1>\u001b[0;34m()\u001b[0m\n\u001b[0;32m----> 1\u001b[0;31m \u001b[0mJavaCoordinates\u001b[0m\u001b[0;34m[\u001b[0m\u001b[0;36m1\u001b[0m\u001b[0;34m]\u001b[0m \u001b[0;34m=\u001b[0m \u001b[0;36m12.00\u001b[0m\u001b[0;34m\u001b[0m\u001b[0;34m\u001b[0m\u001b[0m\n\u001b[0m\u001b[1;32m      2\u001b[0m \u001b[0;34m\u001b[0m\u001b[0m\n\u001b[1;32m      3\u001b[0m \u001b[0mprint\u001b[0m\u001b[0;34m(\u001b[0m\u001b[0mJavaCoordinates\u001b[0m\u001b[0;34m)\u001b[0m\u001b[0;34m\u001b[0m\u001b[0;34m\u001b[0m\u001b[0m\n",
            "\u001b[0;31mTypeError\u001b[0m: 'tuple' object does not support item assignment"
          ]
        }
      ]
    },
    {
      "cell_type": "markdown",
      "source": [
        "Not suprising one bit as this is precisely why we opted for the tuples.\n",
        "\n",
        "Now the question arises that why do we require Tuples when Lists can do the same for us?\n",
        "\n",
        "### Mutability\n",
        "\n",
        "The difference arises mainly in the mutable nature of the two. Lists are mutable, while tuples aren't.\n",
        "\n",
        "Let's show it further with an example:"
      ],
      "metadata": {
        "id": "PIljwOl3UtS-"
      }
    },
    {
      "cell_type": "code",
      "source": [
        "print(\"Student list before mutation\", student)\n",
        "student[3]= \"Kashif\"\n",
        "print(\"Student list after mutation\", student)"
      ],
      "metadata": {
        "colab": {
          "base_uri": "https://localhost:8080/"
        },
        "id": "ujmwht_1WQQT",
        "outputId": "78c72719-50e1-4a14-ae63-ae593218c0d0"
      },
      "execution_count": 38,
      "outputs": [
        {
          "output_type": "stream",
          "name": "stdout",
          "text": [
            "Student list before mutation ['Ali', 'Aysha', 'Bilal', 'Maryam', 'Usama', 'Zahid']\n",
            "Student list after mutation ['Ali', 'Aysha', 'Bilal', 'Kashif', 'Usama', 'Zahid']\n"
          ]
        }
      ]
    },
    {
      "cell_type": "markdown",
      "source": [
        "Maryam's seat has been taken by Kashif here. But tuples ensure that once we have declared the whole data structure, it is **read-only (cannot be modified)** onwards."
      ],
      "metadata": {
        "id": "dSwWIJr6Wetg"
      }
    },
    {
      "cell_type": "code",
      "source": [
        "studentsTuple = ('Ali', 'Aysha', 'Bilal', 'Maryam', 'Usama', 'Zahid')\n",
        "\n",
        "print(\"Student Tuple before mutation\", studentsTuple)\n",
        "studentsTuple[3]= \"Kashif\"\n",
        "print(\"Student Tuple after mutation\", studentsTuple)"
      ],
      "metadata": {
        "colab": {
          "base_uri": "https://localhost:8080/",
          "height": 254
        },
        "id": "yVGovJ2AW4QH",
        "outputId": "05c159fa-efa1-47e2-e07e-72a6f495d819"
      },
      "execution_count": 40,
      "outputs": [
        {
          "output_type": "stream",
          "name": "stdout",
          "text": [
            "Student Tuple before mutation ('Ali', 'Aysha', 'Bilal', 'Maryam', 'Usama', 'Zahid')\n"
          ]
        },
        {
          "output_type": "error",
          "ename": "TypeError",
          "evalue": "ignored",
          "traceback": [
            "\u001b[0;31m---------------------------------------------------------------------------\u001b[0m",
            "\u001b[0;31mTypeError\u001b[0m                                 Traceback (most recent call last)",
            "\u001b[0;32m<ipython-input-40-2a265e53d762>\u001b[0m in \u001b[0;36m<cell line: 4>\u001b[0;34m()\u001b[0m\n\u001b[1;32m      2\u001b[0m \u001b[0;34m\u001b[0m\u001b[0m\n\u001b[1;32m      3\u001b[0m \u001b[0mprint\u001b[0m\u001b[0;34m(\u001b[0m\u001b[0;34m\"Student Tuple before mutation\"\u001b[0m\u001b[0;34m,\u001b[0m \u001b[0mstudentsTuple\u001b[0m\u001b[0;34m)\u001b[0m\u001b[0;34m\u001b[0m\u001b[0;34m\u001b[0m\u001b[0m\n\u001b[0;32m----> 4\u001b[0;31m \u001b[0mstudentsTuple\u001b[0m\u001b[0;34m[\u001b[0m\u001b[0;36m3\u001b[0m\u001b[0;34m]\u001b[0m\u001b[0;34m=\u001b[0m \u001b[0;34m\"Kashif\"\u001b[0m\u001b[0;34m\u001b[0m\u001b[0;34m\u001b[0m\u001b[0m\n\u001b[0m\u001b[1;32m      5\u001b[0m \u001b[0mprint\u001b[0m\u001b[0;34m(\u001b[0m\u001b[0;34m\"Student Tuple after mutation\"\u001b[0m\u001b[0;34m,\u001b[0m \u001b[0mstudentsTuple\u001b[0m\u001b[0;34m)\u001b[0m\u001b[0;34m\u001b[0m\u001b[0;34m\u001b[0m\u001b[0m\n",
            "\u001b[0;31mTypeError\u001b[0m: 'tuple' object does not support item assignment"
          ]
        }
      ]
    },
    {
      "cell_type": "code",
      "source": [
        "testList = [12, 3, 4, \"Ali\"]"
      ],
      "metadata": {
        "id": "81lzkuUSIk--"
      },
      "execution_count": 42,
      "outputs": []
    },
    {
      "cell_type": "markdown",
      "source": [
        "We haven't seen the lists of numerical data yet.\n",
        "\n",
        "For example, take the temperature of next 10 hours for Lahore from [Weather.com](https://weather.com/en-PK/weather/hourbyhour/l/fd6071c53fc28ecddf13833b8508f14cbe8a514ddc763aa0d316c07b6a5d004d#detailIndex4) and store it in the list as:\n",
        "\n",
        "\n"
      ],
      "metadata": {
        "id": "uSAA7ha7qXjb"
      }
    },
    {
      "cell_type": "code",
      "source": [
        "tempForecast = [27,28,28,31,31,30,30,30,29,28]\n",
        "print(tempForecast)"
      ],
      "metadata": {
        "colab": {
          "base_uri": "https://localhost:8080/"
        },
        "id": "zXK0ZCPvsC5h",
        "outputId": "1bd2f295-9539-46e1-ac4e-114033565944"
      },
      "execution_count": 41,
      "outputs": [
        {
          "output_type": "stream",
          "name": "stdout",
          "text": [
            "[27, 28, 28, 31, 31, 30, 30, 30, 29, 28]\n"
          ]
        }
      ]
    },
    {
      "cell_type": "markdown",
      "source": [
        "> **Point to ponder:** Should we prefer a list or a tuple here?\n",
        "\n",
        "\n",
        "Now, lets suppose we have to find the average or maximum temperature in next 8 hours."
      ],
      "metadata": {
        "id": "C6AAuxRyuEKr"
      }
    },
    {
      "cell_type": "code",
      "source": [
        "avg = sum(tempForecast[0:7])/7\n",
        "print(avg)\n"
      ],
      "metadata": {
        "colab": {
          "base_uri": "https://localhost:8080/"
        },
        "id": "tB4TCvQvuKvu",
        "outputId": "da4d077f-bfca-46b3-d363-8bd8791b78d1"
      },
      "execution_count": 43,
      "outputs": [
        {
          "output_type": "stream",
          "name": "stdout",
          "text": [
            "29.285714285714285\n"
          ]
        }
      ]
    },
    {
      "cell_type": "markdown",
      "source": [
        "The list slicing came pretty handy here. Similarly, we can find the maximum temperature as well:\n",
        "\n",
        "> **Point to Ponder:** The result of next 10 hours temperature for Lahore will be different at different times. Which sort of variable is this?"
      ],
      "metadata": {
        "id": "KmBIRekbvSs6"
      }
    },
    {
      "cell_type": "code",
      "source": [
        "maxTemp = max(tempForecast[0:7])\n",
        "print(maxTemp)"
      ],
      "metadata": {
        "colab": {
          "base_uri": "https://localhost:8080/"
        },
        "id": "PfxXDy9JvvsY",
        "outputId": "bf0f472a-5923-4af5-fcfb-2678f8fd70fb"
      },
      "execution_count": 44,
      "outputs": [
        {
          "output_type": "stream",
          "name": "stdout",
          "text": [
            "31\n"
          ]
        }
      ]
    },
    {
      "cell_type": "markdown",
      "source": [
        "**Note:** All these data structures are usually collectively known as **Collections**."
      ],
      "metadata": {
        "id": "_HvjjA6GN65E"
      }
    },
    {
      "cell_type": "markdown",
      "source": [
        "## Loops\n",
        "\n",
        "We have seen how list slicing and functions etc. can help us do the iterative tasks. But these functions are limited. In order to perform these iterative tasks, we can use loops.\n",
        "\n",
        "We have two types of loops.\n",
        "\n",
        "- **`for`**  – usually preferable when number of iterations are known already.\n",
        "- **`while`** – this loop will continue until a given condition doesn't violate."
      ],
      "metadata": {
        "id": "OhO7d9CkKnco"
      }
    },
    {
      "cell_type": "markdown",
      "source": [
        "### `for` loop\n",
        "\n",
        "It takes the form of:\n",
        "\n",
        "```\n",
        "for <i> in <collection>:\n",
        "  <Do something>\n",
        "\n",
        "```\n",
        "\n",
        "Here **`i`** is the proxy variable for the current (given iteration's) member of the **`collection`**. This `collection` variable can be either a list, tuple or a set.\n",
        "\n",
        "Going back to our **`tempForecast`** list. We can iterate through it as:"
      ],
      "metadata": {
        "id": "qBxNdGMB11IR"
      }
    },
    {
      "cell_type": "code",
      "source": [
        "for i in tempForecast:\n",
        "  print(i)"
      ],
      "metadata": {
        "colab": {
          "base_uri": "https://localhost:8080/"
        },
        "id": "lVdqnkd7Paii",
        "outputId": "f579b3de-9311-43b2-c229-57b14c583d5e"
      },
      "execution_count": 45,
      "outputs": [
        {
          "output_type": "stream",
          "name": "stdout",
          "text": [
            "27\n",
            "28\n",
            "28\n",
            "31\n",
            "31\n",
            "30\n",
            "30\n",
            "30\n",
            "29\n",
            "28\n"
          ]
        }
      ]
    },
    {
      "cell_type": "markdown",
      "source": [
        "> **Note:** For someone coming from a VB or C/C++ background, it would be a bit novel/surprising to see the `for` loop taking this form in which it can iterate over any collection.\n",
        "\n",
        "But if you are familiar to C# or Java and have used **`foreach()`**, then you would be quick to realize that **Python's `for` loop is both classical `for()` and `foreach()` combined together as a single package**.\n",
        "\n",
        "We can apply it in a similar way to the string-based collections as well:"
      ],
      "metadata": {
        "id": "Xcmm40c9P9vE"
      }
    },
    {
      "cell_type": "code",
      "source": [
        "for s in student:\n",
        "  print(s)"
      ],
      "metadata": {
        "colab": {
          "base_uri": "https://localhost:8080/"
        },
        "id": "fOIfmOFnQyy3",
        "outputId": "69552c43-5e6e-4c48-f856-377548c3e009"
      },
      "execution_count": 46,
      "outputs": [
        {
          "output_type": "stream",
          "name": "stdout",
          "text": [
            "Ali\n",
            "Aysha\n",
            "Bilal\n",
            "Kashif\n",
            "Usama\n",
            "Zahid\n"
          ]
        }
      ]
    },
    {
      "cell_type": "code",
      "source": [
        "\"\"\"\n",
        "for x in range(10):\n",
        "  print(x)\n",
        "\n",
        "for x in range(3,10):\n",
        "  print(x)\n",
        "\"\"\"\n",
        "for y in range(1,100,2):\n",
        "  print(y)"
      ],
      "metadata": {
        "colab": {
          "base_uri": "https://localhost:8080/"
        },
        "id": "LVRLaTnpMWU1",
        "outputId": "515aa30b-57cf-4216-bfcc-577a0b3379fa"
      },
      "execution_count": 51,
      "outputs": [
        {
          "output_type": "stream",
          "name": "stdout",
          "text": [
            "1\n",
            "3\n",
            "5\n",
            "7\n",
            "9\n",
            "11\n",
            "13\n",
            "15\n",
            "17\n",
            "19\n",
            "21\n",
            "23\n",
            "25\n",
            "27\n",
            "29\n",
            "31\n",
            "33\n",
            "35\n",
            "37\n",
            "39\n",
            "41\n",
            "43\n",
            "45\n",
            "47\n",
            "49\n",
            "51\n",
            "53\n",
            "55\n",
            "57\n",
            "59\n",
            "61\n",
            "63\n",
            "65\n",
            "67\n",
            "69\n",
            "71\n",
            "73\n",
            "75\n",
            "77\n",
            "79\n",
            "81\n",
            "83\n",
            "85\n",
            "87\n",
            "89\n",
            "91\n",
            "93\n",
            "95\n",
            "97\n",
            "99\n"
          ]
        }
      ]
    },
    {
      "cell_type": "markdown",
      "source": [
        "### `while` loop\n",
        "\n",
        "Similarly, `while` loop is used when we are unaware of the number of times the loop will run (in advance).\n",
        "\n",
        "It takes the form:\n",
        "\n",
        "```\n",
        "while condition:\n",
        "  <Do something>\n",
        "```\n",
        "\n",
        "Now this condition is independent to any container, so can be used anywhere.\n",
        "For example:"
      ],
      "metadata": {
        "id": "T3QevClJRYAb"
      }
    },
    {
      "cell_type": "code",
      "source": [
        "x = 0\n",
        "\n",
        "while(x<10):\n",
        "  input(x)\n",
        "  print(x)"
      ],
      "metadata": {
        "colab": {
          "base_uri": "https://localhost:8080/",
          "height": 499
        },
        "id": "Uvp2GqsJNw7s",
        "outputId": "b13a3e2b-56e6-4722-df5c-7c4883799186"
      },
      "execution_count": 52,
      "outputs": [
        {
          "output_type": "stream",
          "name": "stdout",
          "text": [
            "02\n",
            "0\n",
            "03\n",
            "0\n",
            "012\n",
            "0\n"
          ]
        },
        {
          "output_type": "error",
          "ename": "KeyboardInterrupt",
          "evalue": "ignored",
          "traceback": [
            "\u001b[0;31m---------------------------------------------------------------------------\u001b[0m",
            "\u001b[0;31mKeyboardInterrupt\u001b[0m                         Traceback (most recent call last)",
            "\u001b[0;32m<ipython-input-52-556c6700811a>\u001b[0m in \u001b[0;36m<cell line: 3>\u001b[0;34m()\u001b[0m\n\u001b[1;32m      2\u001b[0m \u001b[0;34m\u001b[0m\u001b[0m\n\u001b[1;32m      3\u001b[0m \u001b[0;32mwhile\u001b[0m\u001b[0;34m(\u001b[0m\u001b[0mx\u001b[0m\u001b[0;34m<\u001b[0m\u001b[0;36m10\u001b[0m\u001b[0;34m)\u001b[0m\u001b[0;34m:\u001b[0m\u001b[0;34m\u001b[0m\u001b[0;34m\u001b[0m\u001b[0m\n\u001b[0;32m----> 4\u001b[0;31m   \u001b[0minput\u001b[0m\u001b[0;34m(\u001b[0m\u001b[0mx\u001b[0m\u001b[0;34m)\u001b[0m\u001b[0;34m\u001b[0m\u001b[0;34m\u001b[0m\u001b[0m\n\u001b[0m\u001b[1;32m      5\u001b[0m   \u001b[0mprint\u001b[0m\u001b[0;34m(\u001b[0m\u001b[0mx\u001b[0m\u001b[0;34m)\u001b[0m\u001b[0;34m\u001b[0m\u001b[0;34m\u001b[0m\u001b[0m\n",
            "\u001b[0;32m/usr/local/lib/python3.10/dist-packages/ipykernel/kernelbase.py\u001b[0m in \u001b[0;36mraw_input\u001b[0;34m(self, prompt)\u001b[0m\n\u001b[1;32m    849\u001b[0m                 \u001b[0;34m\"raw_input was called, but this frontend does not support input requests.\"\u001b[0m\u001b[0;34m\u001b[0m\u001b[0;34m\u001b[0m\u001b[0m\n\u001b[1;32m    850\u001b[0m             )\n\u001b[0;32m--> 851\u001b[0;31m         return self._input_request(str(prompt),\n\u001b[0m\u001b[1;32m    852\u001b[0m             \u001b[0mself\u001b[0m\u001b[0;34m.\u001b[0m\u001b[0m_parent_ident\u001b[0m\u001b[0;34m,\u001b[0m\u001b[0;34m\u001b[0m\u001b[0;34m\u001b[0m\u001b[0m\n\u001b[1;32m    853\u001b[0m             \u001b[0mself\u001b[0m\u001b[0;34m.\u001b[0m\u001b[0m_parent_header\u001b[0m\u001b[0;34m,\u001b[0m\u001b[0;34m\u001b[0m\u001b[0;34m\u001b[0m\u001b[0m\n",
            "\u001b[0;32m/usr/local/lib/python3.10/dist-packages/ipykernel/kernelbase.py\u001b[0m in \u001b[0;36m_input_request\u001b[0;34m(self, prompt, ident, parent, password)\u001b[0m\n\u001b[1;32m    893\u001b[0m             \u001b[0;32mexcept\u001b[0m \u001b[0mKeyboardInterrupt\u001b[0m\u001b[0;34m:\u001b[0m\u001b[0;34m\u001b[0m\u001b[0;34m\u001b[0m\u001b[0m\n\u001b[1;32m    894\u001b[0m                 \u001b[0;31m# re-raise KeyboardInterrupt, to truncate traceback\u001b[0m\u001b[0;34m\u001b[0m\u001b[0;34m\u001b[0m\u001b[0m\n\u001b[0;32m--> 895\u001b[0;31m                 \u001b[0;32mraise\u001b[0m \u001b[0mKeyboardInterrupt\u001b[0m\u001b[0;34m(\u001b[0m\u001b[0;34m\"Interrupted by user\"\u001b[0m\u001b[0;34m)\u001b[0m \u001b[0;32mfrom\u001b[0m \u001b[0;32mNone\u001b[0m\u001b[0;34m\u001b[0m\u001b[0;34m\u001b[0m\u001b[0m\n\u001b[0m\u001b[1;32m    896\u001b[0m             \u001b[0;32mexcept\u001b[0m \u001b[0mException\u001b[0m \u001b[0;32mas\u001b[0m \u001b[0me\u001b[0m\u001b[0;34m:\u001b[0m\u001b[0;34m\u001b[0m\u001b[0;34m\u001b[0m\u001b[0m\n\u001b[1;32m    897\u001b[0m                 \u001b[0mself\u001b[0m\u001b[0;34m.\u001b[0m\u001b[0mlog\u001b[0m\u001b[0;34m.\u001b[0m\u001b[0mwarning\u001b[0m\u001b[0;34m(\u001b[0m\u001b[0;34m\"Invalid Message:\"\u001b[0m\u001b[0;34m,\u001b[0m \u001b[0mexc_info\u001b[0m\u001b[0;34m=\u001b[0m\u001b[0;32mTrue\u001b[0m\u001b[0;34m)\u001b[0m\u001b[0;34m\u001b[0m\u001b[0;34m\u001b[0m\u001b[0m\n",
            "\u001b[0;31mKeyboardInterrupt\u001b[0m: Interrupted by user"
          ]
        }
      ]
    },
    {
      "cell_type": "code",
      "source": [
        "s = student[0]\n",
        "i = 0\n",
        "\n",
        "while(s!=\"Kashif\"):\n",
        "  print(s)\n",
        "  i=i+1\n",
        "  s = student[i]"
      ],
      "metadata": {
        "colab": {
          "base_uri": "https://localhost:8080/"
        },
        "id": "4njYoyjmR0Sh",
        "outputId": "f93fd43e-59e0-467f-e3d8-953d5e2d7e08"
      },
      "execution_count": 53,
      "outputs": [
        {
          "output_type": "stream",
          "name": "stdout",
          "text": [
            "Ali\n",
            "Aysha\n",
            "Bilal\n"
          ]
        }
      ]
    },
    {
      "cell_type": "markdown",
      "source": [
        "---\n",
        "## Nested Collections\n",
        "\n",
        "Let's recall the example above of several cities coordinates.\n",
        "\n",
        "Let's suppose I want to find all the cities (from those cities) which lie in the Northern Hemisphere (i.e, above the equator). For doing that, I need the data in a collection, but all those cities' data is in the form of different tuples and not a single collection.\n",
        "\n",
        "So, can I combine those variables (which are tuples themselves) in a single collection?\n",
        "\n",
        "Yes! We can. We can put them in a `list`, `tuple` or whatever suits our requirement.\n",
        "\n",
        "So, in our case we will use a **`list`**.\n",
        "\n",
        "**Point to Ponder:** Should it be list or a tuple?"
      ],
      "metadata": {
        "id": "2MpWyzIORR6p"
      }
    },
    {
      "cell_type": "code",
      "source": [
        "citiesList = [LahoreCoordinates, JeddahCoordinates, AmfilochiaCoordinates, JavaCoordinates]\n",
        "\n",
        "print(citiesList)"
      ],
      "metadata": {
        "id": "EEN8G0dMT2ra"
      },
      "execution_count": null,
      "outputs": []
    },
    {
      "cell_type": "markdown",
      "source": [
        "Now we can easily loop over it to do the desired processing. For example:"
      ],
      "metadata": {
        "id": "uV6y8a4hIT0M"
      }
    },
    {
      "cell_type": "code",
      "source": [
        "for city in citiesList:\n",
        "  if(city[0]>0):\n",
        "    print(\"The city with coordinates\", city,\"is in the Northern Hemisphere.\")"
      ],
      "metadata": {
        "id": "V1VTN3m-IYYs"
      },
      "execution_count": null,
      "outputs": []
    },
    {
      "cell_type": "markdown",
      "source": [
        "Sounds good. But none of us is a geologist good enough to realize which city is the one represented by (21.32,39.1), etc. So instead, it would have been a better choice to save the city's name as well.\n",
        "\n",
        "---\n",
        "\n",
        "For it, we luckily have a data structure named **Dictionary**, which saves both the value and the label."
      ],
      "metadata": {
        "id": "N9NmZOmbI1_U"
      }
    },
    {
      "cell_type": "markdown",
      "source": [
        "## Dictionary\n",
        "\n",
        "A dictionary can be defined as pairs of item and its value (combined with **`:`**):\n",
        "\n",
        "```\n",
        "dict = {\"item1\":value1, \"item2\",value2}\n",
        "```\n",
        "\n",
        "Let's repeat the above example with a dictionary instead.\n"
      ],
      "metadata": {
        "id": "7lZo0hG7JPww"
      }
    },
    {
      "cell_type": "code",
      "source": [
        "citiesDictionary = {\"Lahore\":LahoreCoordinates, \"Jeddah\":JeddahCoordinates, \"Amfilochia\":AmfilochiaCoordinates, \"Java\":JavaCoordinates}"
      ],
      "metadata": {
        "id": "mpyrXl5vKueN"
      },
      "execution_count": 54,
      "outputs": []
    },
    {
      "cell_type": "markdown",
      "source": [
        "Now lets iterate again."
      ],
      "metadata": {
        "id": "7qwlkd9OK8nO"
      }
    },
    {
      "cell_type": "code",
      "source": [
        "for city in citiesDictionary:\n",
        "  if(city[0]>0):\n",
        "    print(\"The city\",city,\"is in the Northern Hemisphere.\")"
      ],
      "metadata": {
        "colab": {
          "base_uri": "https://localhost:8080/",
          "height": 217
        },
        "id": "IbaUT4KqK-2_",
        "outputId": "17a2a6ab-6d4e-475f-e332-003edb2ab008"
      },
      "execution_count": 55,
      "outputs": [
        {
          "output_type": "error",
          "ename": "TypeError",
          "evalue": "ignored",
          "traceback": [
            "\u001b[0;31m---------------------------------------------------------------------------\u001b[0m",
            "\u001b[0;31mTypeError\u001b[0m                                 Traceback (most recent call last)",
            "\u001b[0;32m<ipython-input-55-447dd729c5f1>\u001b[0m in \u001b[0;36m<cell line: 1>\u001b[0;34m()\u001b[0m\n\u001b[1;32m      1\u001b[0m \u001b[0;32mfor\u001b[0m \u001b[0mcity\u001b[0m \u001b[0;32min\u001b[0m \u001b[0mcitiesDictionary\u001b[0m\u001b[0;34m:\u001b[0m\u001b[0;34m\u001b[0m\u001b[0;34m\u001b[0m\u001b[0m\n\u001b[0;32m----> 2\u001b[0;31m   \u001b[0;32mif\u001b[0m\u001b[0;34m(\u001b[0m\u001b[0mcity\u001b[0m\u001b[0;34m[\u001b[0m\u001b[0;36m0\u001b[0m\u001b[0;34m]\u001b[0m\u001b[0;34m>\u001b[0m\u001b[0;36m0\u001b[0m\u001b[0;34m)\u001b[0m\u001b[0;34m:\u001b[0m\u001b[0;34m\u001b[0m\u001b[0;34m\u001b[0m\u001b[0m\n\u001b[0m\u001b[1;32m      3\u001b[0m     \u001b[0mprint\u001b[0m\u001b[0;34m(\u001b[0m\u001b[0;34m\"The city\"\u001b[0m\u001b[0;34m,\u001b[0m\u001b[0mcity\u001b[0m\u001b[0;34m,\u001b[0m\u001b[0;34m\"is in the Northern Hemisphere.\"\u001b[0m\u001b[0;34m)\u001b[0m\u001b[0;34m\u001b[0m\u001b[0;34m\u001b[0m\u001b[0m\n",
            "\u001b[0;31mTypeError\u001b[0m: '>' not supported between instances of 'str' and 'int'"
          ]
        }
      ]
    },
    {
      "cell_type": "markdown",
      "source": [
        "What went wrong? Nothing to panic. Actually, dictionaries have two components: id (usually known as **key**) and value.\n",
        "\n",
        "Luckily, we can iterate dictionaries by taking both keys and values in each iteration using the **`items()`** method as:\n",
        "\n",
        "```\n",
        "for key,value in dict.items():\n",
        "  <Do xyz on key and value>\n",
        "```\n",
        "\n",
        "Last point. We need to remember that coordinates themselves are a **`tuple`** and hence we need to further index them to fetch the respective coordinate (**latitude** in our case).\n",
        "\n",
        "Let's update the code:"
      ],
      "metadata": {
        "id": "ggyKzXZ6LSKd"
      }
    },
    {
      "cell_type": "code",
      "source": [
        "for city, coordinates in citiesDictionary.items():\n",
        "  if(coordinates[0]>0):\n",
        "    print(\"The city\", city,\"with coordinates\", coordinates,\"is in the Northern Hemisphere.\")"
      ],
      "metadata": {
        "colab": {
          "base_uri": "https://localhost:8080/"
        },
        "id": "-dXRvH1cMAQk",
        "outputId": "13abc140-4979-47a0-ce04-46afe2bb57a0"
      },
      "execution_count": 56,
      "outputs": [
        {
          "output_type": "stream",
          "name": "stdout",
          "text": [
            "The city Lahore with coordinates (31.32, 74.2) is in the Northern Hemisphere.\n",
            "The city Jeddah with coordinates (21.32, 39.1) is in the Northern Hemisphere.\n",
            "The city Amfilochia with coordinates (39.1, 21.32) is in the Northern Hemisphere.\n"
          ]
        }
      ]
    },
    {
      "cell_type": "markdown",
      "source": [
        "Apparently, using a dictionary with both keys and values as strings sounds counter-intuitive (personally I am not a fan of it), but its allowed due to some scenarios where its required. For example,\n",
        "\n",
        "- We have addresses as values and we can specify the associated person as a key.\n",
        "- We have DNA sequences of different genes and the respective gene can be the key (just `ATGCTGATATA` isn't going to make any sense or they are identifiable)."
      ],
      "metadata": {
        "id": "DbLcbXLpFcEd"
      }
    },
    {
      "cell_type": "code",
      "source": [
        "countriesDictionary = {\"US\":\"Washington\",\"Pakistan\":\"Islamabad\",\"Iran\":\"Tehran\"}"
      ],
      "metadata": {
        "id": "4FsVxtk9TMM_"
      },
      "execution_count": 61,
      "outputs": []
    },
    {
      "cell_type": "markdown",
      "source": [
        "Now, if we use an index here, it would just mean the particular character(s) in the string and nothing else. Adding it here just for the sake of the example and that's it."
      ],
      "metadata": {
        "id": "aszc5MPzF_3a"
      }
    },
    {
      "cell_type": "code",
      "source": [
        "for country, capital in countriesDictionary.items():\n",
        "  print(country[0])"
      ],
      "metadata": {
        "colab": {
          "base_uri": "https://localhost:8080/"
        },
        "id": "NCsL6oMsUGEv",
        "outputId": "2232ba8d-aadb-4135-d5a4-454e50e52c1f"
      },
      "execution_count": 63,
      "outputs": [
        {
          "output_type": "stream",
          "name": "stdout",
          "text": [
            "U\n",
            "P\n",
            "I\n"
          ]
        }
      ]
    },
    {
      "cell_type": "markdown",
      "source": [
        "Last question. Can we make a dictionary having both key and value as numbers?"
      ],
      "metadata": {
        "id": "q3ZRfg49GbEK"
      }
    },
    {
      "cell_type": "code",
      "source": [
        "numbersDictionary = {1:12,2:34,4:21}"
      ],
      "metadata": {
        "id": "YptgRNotGgDb"
      },
      "execution_count": 1,
      "outputs": []
    },
    {
      "cell_type": "markdown",
      "source": [
        "Python has no qualms about it either. But again, it doesn't make sense in majority of the cases and must be used only when really required. And whenever I think of any such an example, a thought comes to my mind that it would be a better approach to use a string (like name) as its key instead.\n",
        "\n",
        "**Question:** What about product id and product name and price?\n",
        "\n",
        "Well we can deal it in a number of ways, but the best approach to me would be using classes – something we will see in the next notebook. Ciao!"
      ],
      "metadata": {
        "id": "5iCGdo7rGm4t"
      }
    },
    {
      "cell_type": "markdown",
      "source": [
        "---\n",
        "\n",
        "## Questions\n",
        "\n",
        "That's it for the day. Questions please!"
      ],
      "metadata": {
        "id": "RgzW3YmLSpwX"
      }
    },
    {
      "cell_type": "markdown",
      "source": [
        "## Further Reading\n",
        "\n",
        "- [**Python Documentation**](https://docs.python.org/3/) – should always be open in a tab of your browser.\n",
        "\n",
        "### Recommended Books\n",
        "\n",
        "- **The Art of Computer Programming, Donald Knuth** – Even if you can understand mere 30% of it, its good enough for you.\n",
        "- **Let us Python, Yashavant Kanetkar** – An incredible writer. I am indebted to him for his beautiful book on C++ for learning OOP and C++.\n",
        "\n"
      ],
      "metadata": {
        "id": "tYARlleYUKE7"
      }
    }
  ]
}