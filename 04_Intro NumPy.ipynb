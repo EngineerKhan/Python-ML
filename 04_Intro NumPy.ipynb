{
  "nbformat": 4,
  "nbformat_minor": 0,
  "metadata": {
    "colab": {
      "provenance": [],
      "authorship_tag": "ABX9TyM/uxWHo/Aak6jwkgas8Njg"
    },
    "kernelspec": {
      "name": "python3",
      "display_name": "Python 3"
    },
    "language_info": {
      "name": "python"
    }
  },
  "cells": [
    {
      "cell_type": "markdown",
      "source": [
        "# NumPy – Numerical Python Library\n",
        "NumPy is such a crucial library in Python that often NumPy isn't even regarded as a 3rd party library and has become pretty much a core component – if not of the Python itself, then surely of an engineer (especially data engineer's) arsenal. I won't waste any time in prologues and directly jump to the business. We can import NumPy as:"
      ],
      "metadata": {
        "id": "l-Y2NMDivEPB"
      }
    },
    {
      "cell_type": "code",
      "execution_count": 1,
      "metadata": {
        "id": "7onLauBbuguF"
      },
      "outputs": [],
      "source": [
        "import numpy"
      ]
    },
    {
      "cell_type": "markdown",
      "source": [
        "We will divide this tutorial in two parts:\n",
        "\n",
        "- Fundamentals – covered here\n",
        "- Advanced – in next notebook\n",
        "\n",
        "## Outline\n",
        "\n",
        "This notebook is highly influenced from the **[NumPy's own documentation](https://numpy.org/doc/stable/user/index.html)**.\n",
        "\n",
        "- NumPy Arrays\n",
        "- Linear Algebra\n",
        "\n"
      ],
      "metadata": {
        "id": "I4xnP3SLCoHc"
      }
    },
    {
      "cell_type": "markdown",
      "source": [
        "## Arrays\n",
        "\n",
        "NumPy arrays are better than Python lists for a number of reasons, including efficiency and some other features we will cover in this notebook.\n",
        "> **Note:** If you are interested, please feel free to look up the differences between the NumPy vs Python arrays in detail over the internet. I would like to mention them one by one and steadily, hence not mentioning them all in a go.\n",
        "\n",
        "There can be a number of ways of making a NumPy array, like:"
      ],
      "metadata": {
        "id": "EWzRSc2JEQza"
      }
    },
    {
      "cell_type": "markdown",
      "source": [
        "### From Python Collections\n",
        "\n",
        "Python collections (lists, tuples or sets) can be simply converted to a NumPy array as:\n",
        "\n",
        "**`<np array> = NumPy.array(<Python collection>)`**\n",
        "\n",
        "For example:"
      ],
      "metadata": {
        "id": "c7JIeFqwFMPV"
      }
    },
    {
      "cell_type": "code",
      "source": [
        "listA = [34, 21, 45]\n",
        "setB = {2, 4, 6}\n",
        "tupleC = (2, 4, 8, 16, 24)"
      ],
      "metadata": {
        "id": "UXjgFKLTFqd4"
      },
      "execution_count": 2,
      "outputs": []
    },
    {
      "cell_type": "markdown",
      "source": [
        "Now converting them into NumPy arrays respectively:"
      ],
      "metadata": {
        "id": "Arm65ITMF_fW"
      }
    },
    {
      "cell_type": "code",
      "source": [
        "npA = numpy.array(listA)\n",
        "print(npA)\n",
        "\n",
        "npB = numpy.array(setB)\n",
        "print(npB)\n",
        "\n",
        "npC = numpy.array(tupleC)\n",
        "print(npC)"
      ],
      "metadata": {
        "colab": {
          "base_uri": "https://localhost:8080/"
        },
        "id": "1kRDUkYsGClW",
        "outputId": "a4fb41b9-8f15-4811-e5fc-d3c131bf79e2"
      },
      "execution_count": 3,
      "outputs": [
        {
          "output_type": "stream",
          "name": "stdout",
          "text": [
            "[34 21 45]\n",
            "{2, 4, 6}\n",
            "[ 2  4  8 16 24]\n"
          ]
        }
      ]
    },
    {
      "cell_type": "markdown",
      "source": [
        "Here we need to pause a little bit to reflect.\n",
        "\n",
        "- `npA` and `npC` have 3 and 5 members respectively, but `npB` has only 1.\n",
        "- It may sound like `2`, `4` and `6` are separate members of the NumPy array (`npB`), but they are actually part of a single set.\n",
        "- Which also means that NumPy arrays can have Python collections as its members as well.\n",
        "- Tuples are immutable and we haven't touched their immutability one bit here. `tupleC` is still intact and `npC` is a separate array having tuple's members copied into it.\n",
        "\n",
        "By the way, before we proceed. It sounds too much to specify `numpy` before every function call and can be abbreviated/aliased. Usually we follow the `np` alias.\n",
        "\n",
        "---\n",
        "\n",
        "Let's confirm the above points by using the NumPy array's **`size()`** method. Its one of a number of methods for the arrays (we will refer to NumPy arrays as arrays from now on)."
      ],
      "metadata": {
        "id": "0DRJ_66iGdxD"
      }
    },
    {
      "cell_type": "code",
      "source": [
        "import numpy as np\n",
        "\n",
        "print(npA.size)\n",
        "print(npB.size)\n",
        "print(npC.size)"
      ],
      "metadata": {
        "colab": {
          "base_uri": "https://localhost:8080/"
        },
        "id": "_93Rw5DZHos_",
        "outputId": "e4337b7a-9045-434a-a092-b7ed45bf4d15"
      },
      "execution_count": 4,
      "outputs": [
        {
          "output_type": "stream",
          "name": "stdout",
          "text": [
            "3\n",
            "1\n",
            "5\n"
          ]
        }
      ]
    },
    {
      "cell_type": "markdown",
      "source": [
        "### Intrinsic Creation\n",
        "\n",
        "We can also make an array from scratch by using the built-in intrinsic methods, like:\n",
        "\n",
        "- `arange()`\n",
        "- `linspace()`\n",
        "- `eye()`\n",
        "- `diag()`\n",
        "\n",
        "We will see the first two right now and matrices one soon in the respective section."
      ],
      "metadata": {
        "id": "jZRygB5DIVgm"
      }
    },
    {
      "cell_type": "code",
      "source": [
        "x = range(10)\n",
        "x"
      ],
      "metadata": {
        "colab": {
          "base_uri": "https://localhost:8080/"
        },
        "id": "6UrBvXAkI2lx",
        "outputId": "5f16b6cf-3aa1-47bb-a128-bca8e9fcd2ba"
      },
      "execution_count": 5,
      "outputs": [
        {
          "output_type": "execute_result",
          "data": {
            "text/plain": [
              "range(0, 10)"
            ]
          },
          "metadata": {},
          "execution_count": 5
        }
      ]
    },
    {
      "cell_type": "markdown",
      "source": [
        "#### **`arange()`**\n",
        "\n",
        "Whenever we need an array with an arithmetic sequence, `arange()` is the function we are looking for.\n",
        "\n",
        "Its syntax is:\n",
        "\n",
        "`<arr> = np.arange(a,b)`\n",
        "\n",
        "Where $[a,b)$ is the range of the values in the given array."
      ],
      "metadata": {
        "id": "GOkdyKwVIcLB"
      }
    },
    {
      "cell_type": "code",
      "source": [
        "first10 = np.arange(1,11)\n",
        "first10"
      ],
      "metadata": {
        "colab": {
          "base_uri": "https://localhost:8080/"
        },
        "id": "37lzouN_JAH5",
        "outputId": "78784ab0-61c2-4bd6-ce3e-32306ebf9d13"
      },
      "execution_count": 6,
      "outputs": [
        {
          "output_type": "execute_result",
          "data": {
            "text/plain": [
              "array([ 1,  2,  3,  4,  5,  6,  7,  8,  9, 10])"
            ]
          },
          "metadata": {},
          "execution_count": 6
        }
      ]
    },
    {
      "cell_type": "markdown",
      "source": [
        "We can also use it for sequences other than the default (`1`) step as:\n",
        "\n",
        "`<arr> = np.arange(a,b,d)`\n",
        "\n",
        "**Note:** We can check the nth element as:\n",
        "\n",
        "$$a_n = a+(n-1)d$$\n",
        "\n"
      ],
      "metadata": {
        "id": "csYumGkAJKBz"
      }
    },
    {
      "cell_type": "code",
      "source": [
        "odd20 = np.arange(1,40,2)\n",
        "odd20"
      ],
      "metadata": {
        "colab": {
          "base_uri": "https://localhost:8080/"
        },
        "id": "wZXInoswKAEp",
        "outputId": "ffdd36fc-7389-4aff-e58b-44f07317ad4e"
      },
      "execution_count": 7,
      "outputs": [
        {
          "output_type": "execute_result",
          "data": {
            "text/plain": [
              "array([ 1,  3,  5,  7,  9, 11, 13, 15, 17, 19, 21, 23, 25, 27, 29, 31, 33,\n",
              "       35, 37, 39])"
            ]
          },
          "metadata": {},
          "execution_count": 7
        }
      ]
    },
    {
      "cell_type": "markdown",
      "source": [
        "#### **`linspace()`**\n",
        "\n",
        "Often while plotting data in 2D, we need to divide the domain and/or range evenly. For example, we have the range of $[1,10]$ and want it to divide in 50 equidisant points.\n",
        "\n",
        "For such a cases, `linspace()` comes to the rescue. Its format is:\n",
        "\n",
        "`<arr> = np.linspace(a,b,n)`\n",
        "\n",
        "where `n` is the number of total values we need (like `50` in the above example).\n",
        "\n",
        "**Important:** Note the closing square braces for the range above. `linspace()` does **include** the `b` as well."
      ],
      "metadata": {
        "id": "1xtVHEHCKOm9"
      }
    },
    {
      "cell_type": "code",
      "source": [
        "x = np.linspace(0,10,50)\n",
        "x"
      ],
      "metadata": {
        "colab": {
          "base_uri": "https://localhost:8080/"
        },
        "id": "Ts278O11LDC1",
        "outputId": "a8d509ce-feb3-4f4b-f943-122364eaeb75"
      },
      "execution_count": 8,
      "outputs": [
        {
          "output_type": "execute_result",
          "data": {
            "text/plain": [
              "array([ 0.        ,  0.20408163,  0.40816327,  0.6122449 ,  0.81632653,\n",
              "        1.02040816,  1.2244898 ,  1.42857143,  1.63265306,  1.83673469,\n",
              "        2.04081633,  2.24489796,  2.44897959,  2.65306122,  2.85714286,\n",
              "        3.06122449,  3.26530612,  3.46938776,  3.67346939,  3.87755102,\n",
              "        4.08163265,  4.28571429,  4.48979592,  4.69387755,  4.89795918,\n",
              "        5.10204082,  5.30612245,  5.51020408,  5.71428571,  5.91836735,\n",
              "        6.12244898,  6.32653061,  6.53061224,  6.73469388,  6.93877551,\n",
              "        7.14285714,  7.34693878,  7.55102041,  7.75510204,  7.95918367,\n",
              "        8.16326531,  8.36734694,  8.57142857,  8.7755102 ,  8.97959184,\n",
              "        9.18367347,  9.3877551 ,  9.59183673,  9.79591837, 10.        ])"
            ]
          },
          "metadata": {},
          "execution_count": 8
        }
      ]
    },
    {
      "cell_type": "markdown",
      "source": [
        "**Question:** Why don't we get exact 0,0.2,0.4,... and instead are getting these values?"
      ],
      "metadata": {
        "id": "EPFdCMq8MgAw"
      }
    },
    {
      "cell_type": "code",
      "source": [
        "import math\n",
        "print(round(math.pi,2))"
      ],
      "metadata": {
        "colab": {
          "base_uri": "https://localhost:8080/"
        },
        "id": "iT4sL5ffKhb5",
        "outputId": "5df4358e-4eb6-4314-cba8-ce50acc7bdb1"
      },
      "execution_count": 9,
      "outputs": [
        {
          "output_type": "stream",
          "name": "stdout",
          "text": [
            "3.14\n"
          ]
        }
      ]
    },
    {
      "cell_type": "markdown",
      "source": [
        "### From Existing Arrays\n",
        "\n",
        "Similarly, we can use slicing (as we saw earlier for the primitive Python collections) and other operations. For example:"
      ],
      "metadata": {
        "id": "45EXerbkPAAZ"
      }
    },
    {
      "cell_type": "code",
      "source": [
        "npD = npC[1:4]\n",
        "print(npC)\n",
        "print(npD)"
      ],
      "metadata": {
        "colab": {
          "base_uri": "https://localhost:8080/"
        },
        "id": "TSdGK3VGdK70",
        "outputId": "ee74b0f7-a6e2-40c4-971e-f4bdeebd1805"
      },
      "execution_count": 11,
      "outputs": [
        {
          "output_type": "stream",
          "name": "stdout",
          "text": [
            "[ 2  4  8 16 24]\n",
            "[ 4  8 16]\n"
          ]
        }
      ]
    },
    {
      "cell_type": "markdown",
      "source": [
        "Nothing is exceptional here. But try to change `npD` values:"
      ],
      "metadata": {
        "id": "Mk6JSf62frAx"
      }
    },
    {
      "cell_type": "code",
      "source": [
        "npD[0] = -2\n",
        "\n",
        "print(npC)\n",
        "print(npD)"
      ],
      "metadata": {
        "colab": {
          "base_uri": "https://localhost:8080/"
        },
        "id": "5sgeX01hgaYQ",
        "outputId": "6e186ef5-5400-46a0-9573-c0210abd485b"
      },
      "execution_count": 13,
      "outputs": [
        {
          "output_type": "stream",
          "name": "stdout",
          "text": [
            "[ 2 -2  8 16 24]\n",
            "[-2  8 16]\n"
          ]
        }
      ]
    },
    {
      "cell_type": "markdown",
      "source": [
        "**Ouch!** The change has reflected in the original array (`npC`) as well.\n",
        "\n",
        "\n",
        "\n"
      ],
      "metadata": {
        "id": "ohU8ZXjxgims"
      }
    },
    {
      "cell_type": "markdown",
      "source": [
        "In case you forgot, try to do the same for the Python lists:"
      ],
      "metadata": {
        "id": "ltCofJtiHTVm"
      }
    },
    {
      "cell_type": "code",
      "source": [
        "listA = [1, 2, 3, 4, 5]\n",
        "listB = listA[0:2]\n",
        "\n",
        "print(\"Before changing listB's first value\",listA)\n",
        "print(\"Before changing listB's value, listB is:\", listB)\n",
        "\n",
        "listB[0] = -3\n",
        "\n",
        "print(\"After changing listB's first value, listA is:\",listA)\n",
        "print(\"After changing listB's value, listB is:\", listB)"
      ],
      "metadata": {
        "colab": {
          "base_uri": "https://localhost:8080/"
        },
        "id": "BmTOE4GnhbMV",
        "outputId": "b252ef8f-8d1c-4026-9225-ebe4b0068eac"
      },
      "execution_count": 14,
      "outputs": [
        {
          "output_type": "stream",
          "name": "stdout",
          "text": [
            "Before changing listB's first value [1, 2, 3, 4, 5]\n",
            "Before changing listB's value, listB is: [1, 2]\n",
            "After changing listB's first value, listA is: [1, 2, 3, 4, 5]\n",
            "After changing listB's value, listB is: [-3, 2]\n"
          ]
        }
      ]
    },
    {
      "cell_type": "markdown",
      "source": [
        "It requires some attention. Whenever we make a new (NumPy) array from an existing one, three types of copies can happen:\n",
        "\n",
        "- **Aliasing** – The same array gets a new alias. Both names are valid.\n",
        "- **Shallow Copy** – The new array refers to the original array and any change in the new array will reflect in the original one too (as we already saw).\n",
        "- **Deep Copy** – New copy is truly a copy (an independent one) and any changes in it won't reflect in the existing array. It's achieved using the **`copy()`** method.\n",
        "\n",
        "Let's illustrate it a bit with the example:"
      ],
      "metadata": {
        "id": "WaUwUoYFh-Mv"
      }
    },
    {
      "cell_type": "code",
      "source": [
        "npD = npC\n",
        "npE = npC[0:3]\n",
        "npF = npC.copy()\n",
        "\n",
        "print(\"Original array's id is:\",id(npC))\n",
        "print(\"Aliased array's id is:\",id(npD))\n",
        "print(\"Shallow copied array's id is:\",id(npE))\n",
        "print(\"Deep copied array's id is:\",id(npF))"
      ],
      "metadata": {
        "colab": {
          "base_uri": "https://localhost:8080/"
        },
        "id": "VRTitedxHSxl",
        "outputId": "ada7a104-1f48-420e-94df-d6795ed2e938"
      },
      "execution_count": 15,
      "outputs": [
        {
          "output_type": "stream",
          "name": "stdout",
          "text": [
            "Original array's id is: 134089435031152\n",
            "Aliased array's id is: 134089435031152\n",
            "Shallow copied array's id is: 134089151360016\n",
            "Deep copied array's id is: 134089151531888\n"
          ]
        }
      ]
    },
    {
      "cell_type": "markdown",
      "source": [
        "We have already seen how change in the shallow copied array reflects in the original array. Let's wind it up by checking it for the deep copy."
      ],
      "metadata": {
        "id": "7LWPKlNuItpD"
      }
    },
    {
      "cell_type": "code",
      "source": [
        "print(\"npC before changing the deep copy\",npC)\n",
        "\n",
        "npF[2] = 6\n",
        "\n",
        "print(\"npC after changing the deep copy\",npC)"
      ],
      "metadata": {
        "colab": {
          "base_uri": "https://localhost:8080/"
        },
        "id": "Ana9MApQIshk",
        "outputId": "3707cbf9-eae8-49e8-f93e-862d07dbfaca"
      },
      "execution_count": 16,
      "outputs": [
        {
          "output_type": "stream",
          "name": "stdout",
          "text": [
            "npC before changing the deep copy [ 2 -2  8 16 24]\n",
            "npC after changing the deep copy [ 2 -2  8 16 24]\n"
          ]
        }
      ]
    },
    {
      "cell_type": "markdown",
      "source": [
        "### From Files\n",
        "\n",
        "CSV etc are common file formats and used for platform independent data sharing. We can easily import a CSV using [**`numpy.loadtxt()`**](https://numpy.org/doc/stable/reference/generated/numpy.loadtxt.html#numpy.loadtxt) as:\n",
        "\n",
        "`np.loadtxt(<csv file name>, delimiter = <>, skiprows = x)`\n",
        "\n",
        "where `delimiter` is `,` for CSV, tab for TSV and so on. While `x` is number of rows (header) to be skipped. If you are unsure about it, set it to 1.\n",
        "\n",
        "> **Note:** Usually, these file handling processes are managed in a better way using the **Pandas** library, something we will see in the following notebook.\n",
        "\n",
        "---\n",
        "\n",
        "Now we will see NumPy's functionalities for a number of applications."
      ],
      "metadata": {
        "id": "4c-ssL3nKDnO"
      }
    },
    {
      "cell_type": "markdown",
      "source": [
        "## Linear Algebra\n",
        "\n",
        "One of the hallmark benefits of NumPy is ease/efficiency of dealing with the matrix (or vector) data. Actually, NumPy has a dedicated module (**`linalg`**) having a number of linear algebra features.\n",
        "\n",
        "Let's cover some of them."
      ],
      "metadata": {
        "id": "Za32jIiSLJsJ"
      }
    },
    {
      "cell_type": "markdown",
      "source": [
        "### Vectors\n",
        "\n",
        "Since NumPy one-dimensional arrays are vectors, they can have some linear algebra functionalities as well. In order to keep things simple, I will talk about vectors first and will only later on generalize it for the matrices.\n",
        "\n",
        "\n",
        "\n"
      ],
      "metadata": {
        "id": "vrZ9IW4ZUeEY"
      }
    },
    {
      "cell_type": "markdown",
      "source": [
        "#### Inner Product\n",
        "\n",
        "The inner product of two vectors is:\n",
        "\n",
        "$$a.b = a^Tb$$\n",
        "\n",
        "It can be calculated in NumPy using 3 different syntax:"
      ],
      "metadata": {
        "id": "-1F4h0qdX98e"
      }
    },
    {
      "cell_type": "code",
      "source": [
        "import numpy as np\n",
        "import numpy.linalg as la #LA as an alias of linear algebra"
      ],
      "metadata": {
        "id": "7xxPW42fWS-k"
      },
      "execution_count": 17,
      "outputs": []
    },
    {
      "cell_type": "code",
      "source": [
        "a = np.array([1,2,3])\n",
        "\n",
        "b = np.array([4,5,6])"
      ],
      "metadata": {
        "id": "ZjbYZSNpV1Sh"
      },
      "execution_count": 18,
      "outputs": []
    },
    {
      "cell_type": "markdown",
      "source": [
        "**Using `inner()`**\n",
        "\n",
        "We can take the inner product using...`inner()` function (no prizes for guessing that, unfortunately).\n"
      ],
      "metadata": {
        "id": "6WCCutckWW5o"
      }
    },
    {
      "cell_type": "code",
      "source": [
        "c = np.inner(a,b)\n",
        "c"
      ],
      "metadata": {
        "colab": {
          "base_uri": "https://localhost:8080/"
        },
        "id": "yLzh4j_eWk4I",
        "outputId": "faedd023-1430-4c17-9ed4-1b623a874738"
      },
      "execution_count": 19,
      "outputs": [
        {
          "output_type": "execute_result",
          "data": {
            "text/plain": [
              "32"
            ]
          },
          "metadata": {},
          "execution_count": 19
        }
      ]
    },
    {
      "cell_type": "markdown",
      "source": [
        "**Using `dot()`**\n",
        "\n",
        "We can also take it using the `dot()`. Its just an alias for the same function. Since inner product is commutative, so lets try it for $b.a$"
      ],
      "metadata": {
        "id": "t16-tDkeWxM2"
      }
    },
    {
      "cell_type": "code",
      "source": [
        "d = np.dot(b,a)\n",
        "d"
      ],
      "metadata": {
        "colab": {
          "base_uri": "https://localhost:8080/"
        },
        "id": "gAZ3AxhQXC2X",
        "outputId": "77d54fb5-86ba-4b43-d24c-6d9618747a5c"
      },
      "execution_count": 20,
      "outputs": [
        {
          "output_type": "execute_result",
          "data": {
            "text/plain": [
              "32"
            ]
          },
          "metadata": {},
          "execution_count": 20
        }
      ]
    },
    {
      "cell_type": "markdown",
      "source": [
        "**`@`**\n",
        "\n",
        "If you ask my favourite syntax (as you will see onwards), its neither `inner()`, nor `dot()` but the closest to mathematics one:"
      ],
      "metadata": {
        "id": "q2yFRwiEXGqM"
      }
    },
    {
      "cell_type": "code",
      "source": [
        "e = a@b\n",
        "e"
      ],
      "metadata": {
        "colab": {
          "base_uri": "https://localhost:8080/"
        },
        "id": "Vcdz7a_VXZu9",
        "outputId": "8e445a08-e7fc-49dd-8752-1ffb957dcd1b"
      },
      "execution_count": 21,
      "outputs": [
        {
          "output_type": "execute_result",
          "data": {
            "text/plain": [
              "32"
            ]
          },
          "metadata": {},
          "execution_count": 21
        }
      ]
    },
    {
      "cell_type": "markdown",
      "source": [
        "#### Cross Product\n",
        "\n",
        "Cross product is pretty interesting as it results in a vector itself.\n",
        "\n",
        "$$a \\times b = a \\times b \\sin(\\theta)$$"
      ],
      "metadata": {
        "id": "K0NQogWsjhun"
      }
    },
    {
      "cell_type": "code",
      "source": [
        "crossProd = np.cross(a,b)\n",
        "\n",
        "crossProd"
      ],
      "metadata": {
        "colab": {
          "base_uri": "https://localhost:8080/"
        },
        "id": "Mj-RF57Ok6T8",
        "outputId": "b5dfeb07-e0ed-4a53-87cf-218313bcd69f"
      },
      "execution_count": 22,
      "outputs": [
        {
          "output_type": "execute_result",
          "data": {
            "text/plain": [
              "array([-3,  6, -3])"
            ]
          },
          "metadata": {},
          "execution_count": 22
        }
      ]
    },
    {
      "cell_type": "markdown",
      "source": [
        "As we can say, its a vector itself. Its not commutative, as we can see:"
      ],
      "metadata": {
        "id": "eT_9jfSglH17"
      }
    },
    {
      "cell_type": "code",
      "source": [
        "revCrossProd = np.cross(b,a)\n",
        "\n",
        "revCrossProd"
      ],
      "metadata": {
        "colab": {
          "base_uri": "https://localhost:8080/"
        },
        "id": "ecCLSNbjlMlP",
        "outputId": "de2db9fe-4014-40aa-fb0f-f448a2cb2bb3"
      },
      "execution_count": 23,
      "outputs": [
        {
          "output_type": "execute_result",
          "data": {
            "text/plain": [
              "array([ 3, -6,  3])"
            ]
          },
          "metadata": {},
          "execution_count": 23
        }
      ]
    },
    {
      "cell_type": "markdown",
      "source": [
        "They sound like complement of each other (i.e. each element being additive inverse of other)"
      ],
      "metadata": {
        "id": "cDUG1bHulWUT"
      }
    },
    {
      "cell_type": "markdown",
      "source": [
        "#### Linear Functions\n",
        "\n",
        "A linear function can be written in the form of:\n",
        "\n",
        "$$f(x) = a_0x_0+a_1x_1+a_2x_2+\\dots$$\n",
        "\n",
        "There can be a number of ways of defining a linear function.\n",
        "\n"
      ],
      "metadata": {
        "id": "Yp9hLusMYAIn"
      }
    },
    {
      "cell_type": "markdown",
      "source": [
        "**1. Specifying the co-efficient variables**\n",
        "\n",
        "It can be helpful if we have a linear function with just a few terms. For example:"
      ],
      "metadata": {
        "id": "t1opXOnHZhK_"
      }
    },
    {
      "cell_type": "markdown",
      "source": [
        "##### Unrelated"
      ],
      "metadata": {
        "id": "75NXfAeVTGZH"
      }
    },
    {
      "cell_type": "code",
      "source": [
        "sq = lambda x:x*x"
      ],
      "metadata": {
        "id": "lLfOTFeEREKd"
      },
      "execution_count": 24,
      "outputs": []
    },
    {
      "cell_type": "code",
      "source": [
        "sq(-4)"
      ],
      "metadata": {
        "colab": {
          "base_uri": "https://localhost:8080/"
        },
        "id": "SeEszlcZRXjC",
        "outputId": "82df77cc-d12c-4a3e-b7e3-87204f320e69"
      },
      "execution_count": 26,
      "outputs": [
        {
          "output_type": "execute_result",
          "data": {
            "text/plain": [
              "16"
            ]
          },
          "metadata": {},
          "execution_count": 26
        }
      ]
    },
    {
      "cell_type": "markdown",
      "source": [
        "$$f(x,y) = 3x^2+5y$$\n",
        "\n",
        "[Reference](https://oeis.org/wiki/List_of_LaTeX_mathematical_symbols#Arrows)"
      ],
      "metadata": {
        "id": "1l5NBBMARmc6"
      }
    },
    {
      "cell_type": "code",
      "source": [
        "funcA = lambda x,y:3*x*x+5*y"
      ],
      "metadata": {
        "id": "PVu_f-E3RicZ"
      },
      "execution_count": 27,
      "outputs": []
    },
    {
      "cell_type": "code",
      "source": [
        "funcA(2,1)"
      ],
      "metadata": {
        "colab": {
          "base_uri": "https://localhost:8080/"
        },
        "id": "j2PicjObSlw-",
        "outputId": "4ee04487-f600-4358-ae8f-fe7ffe624d23"
      },
      "execution_count": 29,
      "outputs": [
        {
          "output_type": "execute_result",
          "data": {
            "text/plain": [
              "17"
            ]
          },
          "metadata": {},
          "execution_count": 29
        }
      ]
    },
    {
      "cell_type": "markdown",
      "source": [
        "#### back to the objective"
      ],
      "metadata": {
        "id": "ZogXs4YWTK8A"
      }
    },
    {
      "cell_type": "code",
      "source": [
        "linearFunc = lambda x: a*x[0]+b*x[1]+c*x[2]"
      ],
      "metadata": {
        "id": "d87RgxpeZG4N"
      },
      "execution_count": 30,
      "outputs": []
    },
    {
      "cell_type": "markdown",
      "source": [
        "Let's test it with some co-efficients and a vector:\n",
        "\n",
        "\n"
      ],
      "metadata": {
        "id": "_DpFJMJUajIr"
      }
    },
    {
      "cell_type": "code",
      "source": [
        "a = 2\n",
        "b = 12\n",
        "c = 3\n",
        "\n",
        "z = np.array([2,4, 6])\n",
        "\n",
        "linearFunc(z)"
      ],
      "metadata": {
        "colab": {
          "base_uri": "https://localhost:8080/"
        },
        "id": "d_VgGyKVaz93",
        "outputId": "cccf6f36-a493-4259-ea8d-7cc43a69a79e"
      },
      "execution_count": 31,
      "outputs": [
        {
          "output_type": "execute_result",
          "data": {
            "text/plain": [
              "70"
            ]
          },
          "metadata": {},
          "execution_count": 31
        }
      ]
    },
    {
      "cell_type": "code",
      "source": [
        "y = np.array([1,2])\n",
        "linearFunc(y)"
      ],
      "metadata": {
        "colab": {
          "base_uri": "https://localhost:8080/",
          "height": 256
        },
        "id": "pSyREvegT3OS",
        "outputId": "2fab29e8-af87-480f-e9d0-966d5f8fcd5a"
      },
      "execution_count": 32,
      "outputs": [
        {
          "output_type": "error",
          "ename": "IndexError",
          "evalue": "ignored",
          "traceback": [
            "\u001b[0;31m---------------------------------------------------------------------------\u001b[0m",
            "\u001b[0;31mIndexError\u001b[0m                                Traceback (most recent call last)",
            "\u001b[0;32m<ipython-input-32-42df96eff175>\u001b[0m in \u001b[0;36m<cell line: 2>\u001b[0;34m()\u001b[0m\n\u001b[1;32m      1\u001b[0m \u001b[0my\u001b[0m \u001b[0;34m=\u001b[0m \u001b[0mnp\u001b[0m\u001b[0;34m.\u001b[0m\u001b[0marray\u001b[0m\u001b[0;34m(\u001b[0m\u001b[0;34m[\u001b[0m\u001b[0;36m1\u001b[0m\u001b[0;34m,\u001b[0m\u001b[0;36m2\u001b[0m\u001b[0;34m]\u001b[0m\u001b[0;34m)\u001b[0m\u001b[0;34m\u001b[0m\u001b[0;34m\u001b[0m\u001b[0m\n\u001b[0;32m----> 2\u001b[0;31m \u001b[0mlinearFunc\u001b[0m\u001b[0;34m(\u001b[0m\u001b[0my\u001b[0m\u001b[0;34m)\u001b[0m\u001b[0;34m\u001b[0m\u001b[0;34m\u001b[0m\u001b[0m\n\u001b[0m",
            "\u001b[0;32m<ipython-input-30-abceb6f6fbe6>\u001b[0m in \u001b[0;36m<lambda>\u001b[0;34m(x)\u001b[0m\n\u001b[0;32m----> 1\u001b[0;31m \u001b[0mlinearFunc\u001b[0m \u001b[0;34m=\u001b[0m \u001b[0;32mlambda\u001b[0m \u001b[0mx\u001b[0m\u001b[0;34m:\u001b[0m \u001b[0ma\u001b[0m\u001b[0;34m*\u001b[0m\u001b[0mx\u001b[0m\u001b[0;34m[\u001b[0m\u001b[0;36m0\u001b[0m\u001b[0;34m]\u001b[0m\u001b[0;34m+\u001b[0m\u001b[0mb\u001b[0m\u001b[0;34m*\u001b[0m\u001b[0mx\u001b[0m\u001b[0;34m[\u001b[0m\u001b[0;36m1\u001b[0m\u001b[0;34m]\u001b[0m\u001b[0;34m+\u001b[0m\u001b[0mc\u001b[0m\u001b[0;34m*\u001b[0m\u001b[0mx\u001b[0m\u001b[0;34m[\u001b[0m\u001b[0;36m2\u001b[0m\u001b[0;34m]\u001b[0m\u001b[0;34m\u001b[0m\u001b[0;34m\u001b[0m\u001b[0m\n\u001b[0m",
            "\u001b[0;31mIndexError\u001b[0m: index 2 is out of bounds for axis 0 with size 2"
          ]
        }
      ]
    },
    {
      "cell_type": "markdown",
      "source": [
        "**2.Specifying it as an inner product**\n",
        "\n",
        "Previous method is just ok, but I don't find it neat. A better way would be to have it like:\n",
        "\n",
        "$$f(x)=a^Tx = a.b$$\n",
        "\n",
        ">**Side Note:** Usually, we assume vectors in programming as column vectors, hence $a^Tx$. It would be $ax^T$ if it were other way around, i.e, row vectors.\n",
        "\n",
        "Trying the example above, we get the same answer:\n"
      ],
      "metadata": {
        "id": "ePP4nByTa47A"
      }
    },
    {
      "cell_type": "code",
      "source": [
        "linearFunc2 = lambda x:a@x\n",
        "\n",
        "a = np.array([2,12,3])\n",
        "\n",
        "linearFunc2(z)"
      ],
      "metadata": {
        "colab": {
          "base_uri": "https://localhost:8080/"
        },
        "id": "Vn_N83W7dH0L",
        "outputId": "00389c06-67ac-4742-efb0-8d38a75acff7"
      },
      "execution_count": 35,
      "outputs": [
        {
          "output_type": "execute_result",
          "data": {
            "text/plain": [
              "70"
            ]
          },
          "metadata": {},
          "execution_count": 35
        }
      ]
    },
    {
      "cell_type": "markdown",
      "source": [
        "#### Norm\n",
        "\n",
        "A vector contains a number of elements. To get a \"summary\" of the vector, we have norm. It is defined as:\n",
        "\n",
        "$$||x||_p = \\sqrt{x_1^p+x_2^p+x_3^p+…} = ({x_1^p+x_2^p+x_3^p+…})^\\frac{1}{p}$$\n",
        "\n",
        "It has some special instances, like:\n",
        "\n",
        "- **$L_1$ norm** – Putting $p$ as 1, we get:\n",
        "\n",
        "$$|x| = |x_1+x_2+x_3+…|$$\n",
        "\n",
        "- **$L_2$ norm** – The most common form of norm is Euclidean norm and defined as:\n",
        "\n",
        "$$||x|| = \\sqrt{x_1^2+x_2^2+x_3^2+…}$$\n",
        "\n",
        ">**Note:** Norms beyond 1 are convex.\n",
        "\n",
        "For norm calculation in NumPy, we will use **`linalg.norm()`**:\n",
        "\n"
      ],
      "metadata": {
        "id": "W5TGwedQd1p0"
      }
    },
    {
      "cell_type": "code",
      "source": [
        "x = np.arange(1,10)\n",
        "\n",
        "la.norm(x)"
      ],
      "metadata": {
        "colab": {
          "base_uri": "https://localhost:8080/"
        },
        "id": "uT0oa4m_hvP5",
        "outputId": "28f1840b-c01e-46d6-c648-4faf4657ce99"
      },
      "execution_count": 36,
      "outputs": [
        {
          "output_type": "execute_result",
          "data": {
            "text/plain": [
              "16.881943016134134"
            ]
          },
          "metadata": {},
          "execution_count": 36
        }
      ]
    },
    {
      "cell_type": "markdown",
      "source": [
        "Lets verify it. I mean why not?!"
      ],
      "metadata": {
        "id": "nMd9icJLiE76"
      }
    },
    {
      "cell_type": "code",
      "source": [
        "import math\n",
        "normLambda = lambda x: math.sqrt(sum(x*x))"
      ],
      "metadata": {
        "id": "EoPImC51iNYx"
      },
      "execution_count": 39,
      "outputs": []
    },
    {
      "cell_type": "code",
      "source": [
        "normLambda(x)"
      ],
      "metadata": {
        "colab": {
          "base_uri": "https://localhost:8080/"
        },
        "id": "VeOqfFevibSI",
        "outputId": "bfc254b1-9e2f-496d-e9e6-a29d892072c6"
      },
      "execution_count": 40,
      "outputs": [
        {
          "output_type": "execute_result",
          "data": {
            "text/plain": [
              "16.881943016134134"
            ]
          },
          "metadata": {},
          "execution_count": 40
        }
      ]
    },
    {
      "cell_type": "markdown",
      "source": [
        "### Matrices\n",
        "\n",
        "Now we can use these bulding blocks to learn how to implement and use matrices in NumPy.\n",
        "\n",
        "There can be a number of ways of making a matrix."
      ],
      "metadata": {
        "id": "gZcfpfsSixOe"
      }
    },
    {
      "cell_type": "markdown",
      "source": [
        "#### From Vectors\n",
        "\n",
        "If we revisit a matrix:\n",
        "\n",
        "$$ A = \\begin{bmatrix}\n",
        "\ta & b & c \\\\\n",
        "\td & e & f\\\\\n",
        "\tg & h & i \\\\\n",
        "  j & k & l \\\\\n",
        "\t\\end{bmatrix}\n",
        "$$\n",
        "\n",
        "It is nothing but a collection of rows or can even be treated as a collection of columns.\n",
        "\n",
        "If we treat it as a collection of rows, it can be written as:\n",
        "\n",
        "$$ A = \\begin{bmatrix}\n",
        "\ta_1 \\\\\n",
        "\ta_2\\\\\n",
        "\ta_3 \\\\\n",
        "  a_4 \\\\\n",
        "\t\\end{bmatrix}\n",
        "$$\n",
        "\n",
        "Where,\n",
        "\n",
        "$$ a_1 = \\begin{bmatrix}\n",
        "\ta & b & c \\\\\n",
        "  \\end {bmatrix}\n",
        "  $$\n",
        "$$ a_2 = \\begin{bmatrix}\n",
        "\td & e & f \\\\\n",
        "  \\end {bmatrix}\n",
        "  $$\n",
        "\n",
        "And so on.\n",
        "\n",
        "---\n",
        "\n",
        "This is known as **stacking**. We can do it for collection of rows using **`vstack()`** as:\n",
        "\n"
      ],
      "metadata": {
        "id": "radPoH_ifxtk"
      }
    },
    {
      "cell_type": "code",
      "source": [
        "a1 = np.array([1,2,3,1])\n",
        "a2 = np.array([4, 5, 6,1])\n",
        "a3 = np.array([7,8,9,1])\n",
        "a4 = np.array([10,11,12,1])\n",
        "\n",
        "A = np.vstack((a1,a2,a3,a4))\n",
        "\n",
        "A"
      ],
      "metadata": {
        "colab": {
          "base_uri": "https://localhost:8080/"
        },
        "id": "PnWPxynaizO4",
        "outputId": "d53800b6-b25a-41ee-863b-8074aa93d416"
      },
      "execution_count": 43,
      "outputs": [
        {
          "output_type": "execute_result",
          "data": {
            "text/plain": [
              "array([[ 1,  2,  3,  1],\n",
              "       [ 4,  5,  6,  1],\n",
              "       [ 7,  8,  9,  1],\n",
              "       [10, 11, 12,  1]])"
            ]
          },
          "metadata": {},
          "execution_count": 43
        }
      ]
    },
    {
      "cell_type": "markdown",
      "source": [
        "Similarly, we can also treat a matrix as a stacking of columns (in horizontal order, obviously).\n",
        "\n",
        "The above example will become:\n",
        "\n",
        "If we treat it as a collection of rows, it can be written as:\n",
        "\n",
        "$$ A = \\begin{bmatrix}\n",
        "\ta_1 & a_2 & a_3 \\\\\n",
        "\t\\end{bmatrix}\n",
        "$$\n",
        "\n",
        "Where,\n",
        "\n",
        "$$ a_1 = \\begin{bmatrix}\n",
        "\ta \\\\\n",
        "  d \\\\\n",
        "  g \\\\\n",
        "  j \\\\\n",
        "  \\end {bmatrix}\n",
        "  $$\n",
        "\n",
        "and\n",
        "\n",
        "$$ a_2 = \\begin{bmatrix}\n",
        "\tb \\\\\n",
        "  e \\\\\n",
        "  h \\\\\n",
        "  k \\\\\n",
        "  \\end {bmatrix}\n",
        "  $$\n",
        "\n",
        "And so on.\n",
        "\n",
        "We can do it using **`hstack()`**:"
      ],
      "metadata": {
        "id": "rHp3djpnkHra"
      }
    },
    {
      "cell_type": "code",
      "source": [
        "a1 = np.array([[1],[4],[7],[10]]) #Making a column vector here.\n",
        "\n",
        "a2 = np.array([[2],[5],[8],[11]])\n",
        "\n",
        "a3 = np.array([[3],[6],[9],[12]])\n",
        "\n",
        "B = np.hstack((a1,a2,a3))\n",
        "\n",
        "B"
      ],
      "metadata": {
        "colab": {
          "base_uri": "https://localhost:8080/"
        },
        "id": "XAFRe-8OlH6z",
        "outputId": "aada6f7e-19ae-4cc9-beca-d7dcb619adc2"
      },
      "execution_count": 44,
      "outputs": [
        {
          "output_type": "execute_result",
          "data": {
            "text/plain": [
              "array([[ 1,  2,  3],\n",
              "       [ 4,  5,  6],\n",
              "       [ 7,  8,  9],\n",
              "       [10, 11, 12]])"
            ]
          },
          "metadata": {},
          "execution_count": 44
        }
      ]
    },
    {
      "cell_type": "code",
      "source": [
        "a5 = np.array([[1, 2],[4,5],[7,8],[10,11]])\n",
        "a5"
      ],
      "metadata": {
        "colab": {
          "base_uri": "https://localhost:8080/"
        },
        "id": "Uu2QkLUtZOpl",
        "outputId": "49816291-1bb8-48f8-dd56-ea277fcac458"
      },
      "execution_count": 45,
      "outputs": [
        {
          "output_type": "execute_result",
          "data": {
            "text/plain": [
              "array([[ 1,  2],\n",
              "       [ 4,  5],\n",
              "       [ 7,  8],\n",
              "       [10, 11]])"
            ]
          },
          "metadata": {},
          "execution_count": 45
        }
      ]
    },
    {
      "cell_type": "markdown",
      "source": [
        "#### From builtin functions\n",
        "\n",
        "As we saw above that vectors can be made using the built-in functions (like `arange()`). Similarly, we can make matrices as well using some intrinsic functions, like:\n",
        "\n",
        "- `ones()`\n",
        "- `zeros()`\n",
        "- `identity()`\n"
      ],
      "metadata": {
        "id": "Drt2PsbNoS_O"
      }
    },
    {
      "cell_type": "markdown",
      "source": [
        "## Acknowledgements\n",
        "\n",
        "This notebook wouldn't have been possible without:\n",
        "\n",
        "- NumPy Documentation\n",
        "- Applied Linear Algebra, Stephen Boyd (2018)"
      ],
      "metadata": {
        "id": "n7FxB6PBVfEY"
      }
    }
  ]
}
