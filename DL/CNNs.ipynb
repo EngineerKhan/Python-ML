{
  "nbformat": 4,
  "nbformat_minor": 0,
  "metadata": {
    "colab": {
      "provenance": [],
      "authorship_tag": "ABX9TyPqVV2ZOCUkTxgyI+nV8fT3"
    },
    "kernelspec": {
      "name": "python3",
      "display_name": "Python 3"
    },
    "language_info": {
      "name": "python"
    }
  },
  "cells": [
    {
      "cell_type": "markdown",
      "source": [
        "# CNNs\n",
        "\n",
        "Feedforward (or fully connected) networks lead to a number of parameters. Inspired by the human (or cat's in fact) visual cortex, convolutional neural networks (CNNs) are primarily used for the Computer Vision tasks.\n",
        "\n"
      ],
      "metadata": {
        "id": "1FsZK-6aEqg-"
      }
    },
    {
      "cell_type": "markdown",
      "source": [
        "## Convolution Operation\n",
        "\n",
        "Convolution operation is inspired from Digital Signal Processing (its ok if you don't know about it), where we convolve a filter with the input signal.\n",
        "\n",
        "Luckily, its much easier to understand it for images in 2D.\n",
        "\n",
        "![](https://raw.githubusercontent.com/vdumoulin/conv_arithmetic/master/gif/no_padding_no_strides.gif)\n",
        "\n"
      ],
      "metadata": {
        "id": "iz8pVaZnFS0D"
      }
    },
    {
      "cell_type": "markdown",
      "source": [
        "There are a number of ways of performing the convolution. Regardless of the type, in convolution, we have:\n",
        "\n",
        "- Input image ($I$) having dimensions $m \\times n$.\n",
        "- Convolution filter ($F$) having dimensions $f \\times f$. Not only they are square, but usually its common to have them in an odd order: $3 \\times 3, 5 \\times 5$, etc.\n",
        "- And output/resultant image ($O$) having dimensions $x \\times y$. We will look more into it soon.\n",
        "\n",
        "For applying convolution, we place the filter on the top left and calculate the weighted sum of the underlying (input image's) pixels as:\n",
        "\n",
        "$$s = \\sum_{i,j=0}^{f-1}  I_{p,q}F_{i,j}$$\n",
        "\n",
        "Dont be worried by the above equation (yeah, its not perfectly written). It just means that we take the product of first pixel with the filter's first pixel, second's with the filter's second pixel and so on.\n",
        "\n",
        "As an example: We have a filter matrix as:\n",
        "\n",
        "<TODO: insert matrices for both filter and image>\n",
        "\n"
      ],
      "metadata": {
        "id": "aLjG1wpBMLtA"
      }
    },
    {
      "cell_type": "markdown",
      "source": [
        "### Output image has smaller resolution\n",
        "\n",
        "As we can see in the gif above, we can't convolve beyond the last column, which means that output image will be _slimmer_ than the input one. And similarly, we can't convolve beyond the last row, which means it will be _shorter_ as well.\n",
        "\n",
        "If we look closely, the output will have 2 columns less than the input one. Same for the rows as well.\n",
        "\n",
        "In other words:\n",
        "\n",
        "$$x = m - f +1$$\n",
        "\n",
        "And similarly,\n",
        "\n",
        "$$y = n -f +1$$\n",
        "\n",
        "Collectively,\n",
        "\n",
        "$$(x,y) = (m-f+1,n-f+1)$$"
      ],
      "metadata": {
        "id": "4HHysIxzU1mt"
      }
    },
    {
      "cell_type": "markdown",
      "source": [
        "#### Example\n",
        "\n",
        "We can better understand it with an example:\n",
        "\n",
        "Suppose, we have an image of $28 \\times 28$ (normal MNIST images) and want to apply $3 \\times 3$ filter on it. Resultant image's dimensions would be:\n",
        "\n",
        "$$(x,y) = (28-3+1,28-3+1)$$\n",
        "\n",
        "$$ = (26,26)$$"
      ],
      "metadata": {
        "id": "ts-hFb35Vxjw"
      }
    },
    {
      "cell_type": "markdown",
      "source": [
        "### Padding\n",
        "\n",
        "Often there are cases where we need to add the padding with the input image to ensure that filter is applied throughout (and hence less or no shrinkage in size).\n",
        "\n",
        "![](https://raw.githubusercontent.com/vdumoulin/conv_arithmetic/master/gif/arbitrary_padding_no_strides.gif)"
      ],
      "metadata": {
        "id": "y6kKpPCIXf7U"
      }
    },
    {
      "cell_type": "markdown",
      "source": [
        "In such a case, resultant image will be _stretched_ from both left and right (for width) and top and bottom (for height).\n",
        "\n",
        "If we have a padding of $1$ on each side, it means we will have an addition of $2$ in $x$ and $2$ in $y$ as well. Generalizing it for $p$ size of padding, we will get:\n",
        "\n",
        "$$(x,y) = (m-f+2p+1,n-f+2p+1)$$"
      ],
      "metadata": {
        "id": "EAl18nC_YFNe"
      }
    },
    {
      "cell_type": "markdown",
      "source": [
        "#### Example\n",
        "\n",
        "Applying a padding of 2 for the above example, we get:\n",
        "\n",
        "$$(x,y) = (28-3+2(2)+1,28-3+2(2)+1)$$\n",
        "\n",
        "$$ = (30,30)$$\n",
        "\n",
        "Whoa! The output is bigger than the input. Rare, but theoretically it's still possible."
      ],
      "metadata": {
        "id": "GSFxi3UCYweL"
      }
    },
    {
      "cell_type": "markdown",
      "source": [
        "### Strides\n",
        "\n",
        "There can be scenarios where we have low computational resources and bigger images. In such cases, its useful to shrink the size considerably. For that, we can choose to filter by taking a jump or a stride rather than applying it consecutively.\n",
        "\n",
        "![](https://raw.githubusercontent.com/vdumoulin/conv_arithmetic/master/gif/no_padding_strides.gif)\n"
      ],
      "metadata": {
        "id": "nJc4HMy-ZHoF"
      }
    },
    {
      "cell_type": "markdown",
      "source": [
        "In such a case(s), size decreases by a factor. If we take the stride of 2 (like in the example above), it will shrink the output by half. Similarly, if we do it by 3, it will be one-third and so on. Mathematically,\n",
        "\n",
        "$$(x,y) = (\\frac{m-f}{s}+1,\\frac{n-f}{s}+1)$$\n",
        "\n",
        "**Note:** Please note that stride is applied in both horizontal and vertical traversing."
      ],
      "metadata": {
        "id": "pSSDmiZ3ZqeV"
      }
    },
    {
      "cell_type": "markdown",
      "source": [
        "#### Strides with Padding\n",
        "\n",
        "We can make it insane by having both strides and padding combined (doesn't make any sense to me, though).\n",
        "\n",
        "![](https://raw.githubusercontent.com/vdumoulin/conv_arithmetic/master/gif/padding_strides.gif)\n",
        "\n",
        "In this scenario, we will have full equation:\n",
        "\n",
        "$$(x,y) = (\\frac{m-f+2p}{s}+1,\\frac{n-f+2p}{s}+1)$$\n",
        "\n",
        "> **Note:** The equation [on CS231](https://cs231n.github.io/convolutional-networks/) assumes a square input, which is not always the case."
      ],
      "metadata": {
        "id": "FTD1qNzLm-s1"
      }
    },
    {
      "cell_type": "markdown",
      "source": [
        "## Pooling\n",
        "\n",
        "Usually pixels in a local region are pretty much similar (even more true for the bigger images), hence we can even simplify the scenario by just summing them up without any weights. In this case, our filter is a fixed function and doesn't need to learn any weights; hence a relaxer backprop.\n",
        "\n",
        "We can have these pooling operations:\n",
        "\n",
        "- Average\n",
        "- Max – Pick the maximum of the pixels under the filter.\n",
        "\n",
        "If you can think of any other pooling operator, feel free to try one. Actually, it would be a good practice.\n",
        "\n",
        "**Note:** Pooling is usually applied in a non-overlapping way. JAX allows us to set the strides manually too using the `strides` attribute.\n",
        "\n",
        "---\n",
        "\n",
        "<To be continued>"
      ],
      "metadata": {
        "id": "7q1s7RVHnknq"
      }
    },
    {
      "cell_type": "code",
      "execution_count": null,
      "metadata": {
        "id": "SoOwFhEGEham"
      },
      "outputs": [],
      "source": []
    }
  ]
}