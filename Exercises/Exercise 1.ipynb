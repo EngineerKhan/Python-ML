{
  "nbformat": 4,
  "nbformat_minor": 0,
  "metadata": {
    "colab": {
      "provenance": [],
      "authorship_tag": "ABX9TyOZF1oMPa5AwCPaimv8UUjf"
    },
    "kernelspec": {
      "name": "python3",
      "display_name": "Python 3"
    },
    "language_info": {
      "name": "python"
    }
  },
  "cells": [
    {
      "cell_type": "markdown",
      "source": [
        "## Test your knowledge\n",
        "\n",
        "It would be useful to complement these notebooks with some excercises as well.\n",
        "\n"
      ],
      "metadata": {
        "id": "EHctpEMjOPE_"
      }
    },
    {
      "cell_type": "markdown",
      "source": [
        "### Problem 1 – 20 Points\n",
        "\n",
        "Make a feedforward (default) neural network of 3 layers using JAX arrays.\n",
        "\n",
        "- Layer 0 (input layer): 10 inputs from $x_1$ to $x_{10}$ ($x_0$ will be the bias term).\n",
        "- Layer 1 (hidden layer): 3 neurons (with a bias neuron) with ReLU activation.\n",
        "- Layer 2 (hidden layer): 4 neurons (with a bias neuron) with GeLU activation.\n",
        "- Layer 3 (hidden layer): 3 neurons (with a bias neuron) with ReLU activation.\n",
        "- Output layer will return $1$ or $0$ (binary classification) with Sigmoid activation.\n",
        "\n",
        "> For convinience, initialize all of the neurons to one and bias terms to zero."
      ],
      "metadata": {
        "id": "la6ld1_POl20"
      }
    },
    {
      "cell_type": "code",
      "execution_count": 1,
      "metadata": {
        "colab": {
          "base_uri": "https://localhost:8080/",
          "height": 36
        },
        "id": "MKreHJE4OKJc",
        "outputId": "bd974aaf-acf2-4bdd-9365-af581e2042ac"
      },
      "outputs": [
        {
          "output_type": "execute_result",
          "data": {
            "text/plain": [
              "'\\nPlease code here\\n'"
            ],
            "application/vnd.google.colaboratory.intrinsic+json": {
              "type": "string"
            }
          },
          "metadata": {},
          "execution_count": 1
        }
      ],
      "source": [
        "import jax\n",
        "import jax.numpy as jnp\n",
        "import jax.random as random\n",
        "import math\n",
        "\n",
        "\n",
        "#Please define the activation functions definitions here:\n",
        "\n",
        "def ReLU(x):\n",
        "  pass #Please code here and replace pass by your expression\n",
        "\n",
        "def GeLU(x):\n",
        "  pass #your code here\n",
        "\n",
        "def Sigmoid(x):\n",
        "  pass #your code here\n"
      ]
    },
    {
      "cell_type": "code",
      "source": [
        "\"\"\"\n",
        "Please define the neural network here\n",
        "\"\"\""
      ],
      "metadata": {
        "id": "HXZFRWLJYOfx"
      },
      "execution_count": null,
      "outputs": []
    },
    {
      "cell_type": "markdown",
      "source": [
        "### Problem 2 – 20 Points\n",
        "\n",
        "Now reinitialize the above network's neurons from a probability distribution having following properties:\n",
        "\n",
        "- Each neuron's weight should be in the range of $[-1,1]$.\n",
        "- Weights mean should be $0$.\n",
        "- Variance should be less than $0.5$.\n",
        "\n",
        "> **Hint:** Please revise the [relevant lesson](https://github.com/EngineerKhan/Python-ML/blob/main/Background%20(Maths%20etc)/Random_Distributions.ipynb) before starting the coding; further, you may need to look up distributions beyond Normal Distribution too."
      ],
      "metadata": {
        "id": "F43lGicSQT4O"
      }
    },
    {
      "cell_type": "code",
      "source": [
        "\"\"\"\n",
        "Please Code here\n",
        "\"\"\""
      ],
      "metadata": {
        "colab": {
          "base_uri": "https://localhost:8080/",
          "height": 36
        },
        "id": "5HzBzV9jRkYx",
        "outputId": "74712292-d118-4e13-bf1a-d9348cb4fffe"
      },
      "execution_count": 2,
      "outputs": [
        {
          "output_type": "execute_result",
          "data": {
            "text/plain": [
              "'\\nPlease Code here\\n'"
            ],
            "application/vnd.google.colaboratory.intrinsic+json": {
              "type": "string"
            }
          },
          "metadata": {},
          "execution_count": 2
        }
      ]
    },
    {
      "cell_type": "markdown",
      "source": [
        "### Problem 3 – 40 Points\n",
        "\n",
        "Check the data (`X` with labels `Y`) given below:"
      ],
      "metadata": {
        "id": "fJu7z_zGRyv8"
      }
    },
    {
      "cell_type": "code",
      "source": [
        "import pandas as pd\n",
        "from jax import grad"
      ],
      "metadata": {
        "id": "ewwP_6fgRloi"
      },
      "execution_count": 3,
      "outputs": []
    },
    {
      "cell_type": "code",
      "source": [
        "key=random.PRNGKey(12)\n",
        "X = jax.random.normal(key,(200,10))\n",
        "PosLabels = jnp.ones((100,1))\n",
        "NegLabels = jnp.zeros((100,1))\n",
        "\n",
        "Y = jnp.vstack((PosLabels,NegLabels))"
      ],
      "metadata": {
        "colab": {
          "base_uri": "https://localhost:8080/"
        },
        "id": "UQvGRavJS5cZ",
        "outputId": "e1ba9881-a584-4210-e0f5-0ae49aefee75"
      },
      "execution_count": 4,
      "outputs": [
        {
          "output_type": "stream",
          "name": "stderr",
          "text": [
            "WARNING:jax._src.xla_bridge:No GPU/TPU found, falling back to CPU. (Set TF_CPP_MIN_LOG_LEVEL=0 and rerun for more info.)\n"
          ]
        }
      ]
    },
    {
      "cell_type": "code",
      "source": [
        "df = pd.DataFrame(jnp.hstack((X,Y)))\n",
        "\n",
        "df"
      ],
      "metadata": {
        "colab": {
          "base_uri": "https://localhost:8080/",
          "height": 424
        },
        "id": "uT9nQhLYT5mg",
        "outputId": "5144daf3-04f3-46db-e189-bb688e07fe7e"
      },
      "execution_count": 5,
      "outputs": [
        {
          "output_type": "execute_result",
          "data": {
            "text/plain": [
              "           0         1         2         3         4         5         6   \\\n",
              "0   -0.351136  0.632691  0.469633 -0.491434 -0.178305 -0.780248 -1.090230   \n",
              "1   -0.568779  1.484082  0.732524  2.102731  1.457571 -0.046947 -1.928745   \n",
              "2    0.086145 -0.241087  1.100113 -1.712741  0.019311 -0.299876  0.908153   \n",
              "3   -1.481347  0.235033 -1.416679  0.116314  0.991311 -0.128174  1.740865   \n",
              "4   -0.296839 -2.505203 -0.531568 -0.026038 -1.613876 -0.046082 -1.261216   \n",
              "..        ...       ...       ...       ...       ...       ...       ...   \n",
              "195  0.620148  1.092277  0.217074  1.837858  0.936642 -0.269467  1.755043   \n",
              "196 -1.303593  1.577429 -2.509987  0.844147  0.580287 -1.566459  0.808036   \n",
              "197  0.269987 -0.246300 -1.232776  1.373487  0.938090 -0.534117  1.051729   \n",
              "198  0.965804 -0.578875  0.918518 -0.453667  0.039807  0.743265  1.730880   \n",
              "199  0.605487 -0.141760 -1.456722 -0.911259 -1.004884  0.274389  0.376126   \n",
              "\n",
              "           7         8         9    10  \n",
              "0   -0.755432  0.506851 -0.103097  1.0  \n",
              "1   -1.292428 -0.169681 -1.334000  1.0  \n",
              "2    0.094702 -0.181060 -0.428428  1.0  \n",
              "3   -0.113775  0.022373 -0.365238  1.0  \n",
              "4    0.127007 -0.183488  0.913482  1.0  \n",
              "..        ...       ...       ...  ...  \n",
              "195 -1.252298  2.199029 -1.118079  0.0  \n",
              "196  1.030035 -0.310581 -1.581500  0.0  \n",
              "197 -0.478812 -0.929815  0.195119  0.0  \n",
              "198  0.076406 -0.086477  0.577516  0.0  \n",
              "199  0.754734  0.005629 -0.269054  0.0  \n",
              "\n",
              "[200 rows x 11 columns]"
            ],
            "text/html": [
              "\n",
              "  <div id=\"df-8410bd85-6275-427f-adb1-2516363cd4b0\" class=\"colab-df-container\">\n",
              "    <div>\n",
              "<style scoped>\n",
              "    .dataframe tbody tr th:only-of-type {\n",
              "        vertical-align: middle;\n",
              "    }\n",
              "\n",
              "    .dataframe tbody tr th {\n",
              "        vertical-align: top;\n",
              "    }\n",
              "\n",
              "    .dataframe thead th {\n",
              "        text-align: right;\n",
              "    }\n",
              "</style>\n",
              "<table border=\"1\" class=\"dataframe\">\n",
              "  <thead>\n",
              "    <tr style=\"text-align: right;\">\n",
              "      <th></th>\n",
              "      <th>0</th>\n",
              "      <th>1</th>\n",
              "      <th>2</th>\n",
              "      <th>3</th>\n",
              "      <th>4</th>\n",
              "      <th>5</th>\n",
              "      <th>6</th>\n",
              "      <th>7</th>\n",
              "      <th>8</th>\n",
              "      <th>9</th>\n",
              "      <th>10</th>\n",
              "    </tr>\n",
              "  </thead>\n",
              "  <tbody>\n",
              "    <tr>\n",
              "      <th>0</th>\n",
              "      <td>-0.351136</td>\n",
              "      <td>0.632691</td>\n",
              "      <td>0.469633</td>\n",
              "      <td>-0.491434</td>\n",
              "      <td>-0.178305</td>\n",
              "      <td>-0.780248</td>\n",
              "      <td>-1.090230</td>\n",
              "      <td>-0.755432</td>\n",
              "      <td>0.506851</td>\n",
              "      <td>-0.103097</td>\n",
              "      <td>1.0</td>\n",
              "    </tr>\n",
              "    <tr>\n",
              "      <th>1</th>\n",
              "      <td>-0.568779</td>\n",
              "      <td>1.484082</td>\n",
              "      <td>0.732524</td>\n",
              "      <td>2.102731</td>\n",
              "      <td>1.457571</td>\n",
              "      <td>-0.046947</td>\n",
              "      <td>-1.928745</td>\n",
              "      <td>-1.292428</td>\n",
              "      <td>-0.169681</td>\n",
              "      <td>-1.334000</td>\n",
              "      <td>1.0</td>\n",
              "    </tr>\n",
              "    <tr>\n",
              "      <th>2</th>\n",
              "      <td>0.086145</td>\n",
              "      <td>-0.241087</td>\n",
              "      <td>1.100113</td>\n",
              "      <td>-1.712741</td>\n",
              "      <td>0.019311</td>\n",
              "      <td>-0.299876</td>\n",
              "      <td>0.908153</td>\n",
              "      <td>0.094702</td>\n",
              "      <td>-0.181060</td>\n",
              "      <td>-0.428428</td>\n",
              "      <td>1.0</td>\n",
              "    </tr>\n",
              "    <tr>\n",
              "      <th>3</th>\n",
              "      <td>-1.481347</td>\n",
              "      <td>0.235033</td>\n",
              "      <td>-1.416679</td>\n",
              "      <td>0.116314</td>\n",
              "      <td>0.991311</td>\n",
              "      <td>-0.128174</td>\n",
              "      <td>1.740865</td>\n",
              "      <td>-0.113775</td>\n",
              "      <td>0.022373</td>\n",
              "      <td>-0.365238</td>\n",
              "      <td>1.0</td>\n",
              "    </tr>\n",
              "    <tr>\n",
              "      <th>4</th>\n",
              "      <td>-0.296839</td>\n",
              "      <td>-2.505203</td>\n",
              "      <td>-0.531568</td>\n",
              "      <td>-0.026038</td>\n",
              "      <td>-1.613876</td>\n",
              "      <td>-0.046082</td>\n",
              "      <td>-1.261216</td>\n",
              "      <td>0.127007</td>\n",
              "      <td>-0.183488</td>\n",
              "      <td>0.913482</td>\n",
              "      <td>1.0</td>\n",
              "    </tr>\n",
              "    <tr>\n",
              "      <th>...</th>\n",
              "      <td>...</td>\n",
              "      <td>...</td>\n",
              "      <td>...</td>\n",
              "      <td>...</td>\n",
              "      <td>...</td>\n",
              "      <td>...</td>\n",
              "      <td>...</td>\n",
              "      <td>...</td>\n",
              "      <td>...</td>\n",
              "      <td>...</td>\n",
              "      <td>...</td>\n",
              "    </tr>\n",
              "    <tr>\n",
              "      <th>195</th>\n",
              "      <td>0.620148</td>\n",
              "      <td>1.092277</td>\n",
              "      <td>0.217074</td>\n",
              "      <td>1.837858</td>\n",
              "      <td>0.936642</td>\n",
              "      <td>-0.269467</td>\n",
              "      <td>1.755043</td>\n",
              "      <td>-1.252298</td>\n",
              "      <td>2.199029</td>\n",
              "      <td>-1.118079</td>\n",
              "      <td>0.0</td>\n",
              "    </tr>\n",
              "    <tr>\n",
              "      <th>196</th>\n",
              "      <td>-1.303593</td>\n",
              "      <td>1.577429</td>\n",
              "      <td>-2.509987</td>\n",
              "      <td>0.844147</td>\n",
              "      <td>0.580287</td>\n",
              "      <td>-1.566459</td>\n",
              "      <td>0.808036</td>\n",
              "      <td>1.030035</td>\n",
              "      <td>-0.310581</td>\n",
              "      <td>-1.581500</td>\n",
              "      <td>0.0</td>\n",
              "    </tr>\n",
              "    <tr>\n",
              "      <th>197</th>\n",
              "      <td>0.269987</td>\n",
              "      <td>-0.246300</td>\n",
              "      <td>-1.232776</td>\n",
              "      <td>1.373487</td>\n",
              "      <td>0.938090</td>\n",
              "      <td>-0.534117</td>\n",
              "      <td>1.051729</td>\n",
              "      <td>-0.478812</td>\n",
              "      <td>-0.929815</td>\n",
              "      <td>0.195119</td>\n",
              "      <td>0.0</td>\n",
              "    </tr>\n",
              "    <tr>\n",
              "      <th>198</th>\n",
              "      <td>0.965804</td>\n",
              "      <td>-0.578875</td>\n",
              "      <td>0.918518</td>\n",
              "      <td>-0.453667</td>\n",
              "      <td>0.039807</td>\n",
              "      <td>0.743265</td>\n",
              "      <td>1.730880</td>\n",
              "      <td>0.076406</td>\n",
              "      <td>-0.086477</td>\n",
              "      <td>0.577516</td>\n",
              "      <td>0.0</td>\n",
              "    </tr>\n",
              "    <tr>\n",
              "      <th>199</th>\n",
              "      <td>0.605487</td>\n",
              "      <td>-0.141760</td>\n",
              "      <td>-1.456722</td>\n",
              "      <td>-0.911259</td>\n",
              "      <td>-1.004884</td>\n",
              "      <td>0.274389</td>\n",
              "      <td>0.376126</td>\n",
              "      <td>0.754734</td>\n",
              "      <td>0.005629</td>\n",
              "      <td>-0.269054</td>\n",
              "      <td>0.0</td>\n",
              "    </tr>\n",
              "  </tbody>\n",
              "</table>\n",
              "<p>200 rows × 11 columns</p>\n",
              "</div>\n",
              "    <div class=\"colab-df-buttons\">\n",
              "\n",
              "  <div class=\"colab-df-container\">\n",
              "    <button class=\"colab-df-convert\" onclick=\"convertToInteractive('df-8410bd85-6275-427f-adb1-2516363cd4b0')\"\n",
              "            title=\"Convert this dataframe to an interactive table.\"\n",
              "            style=\"display:none;\">\n",
              "\n",
              "  <svg xmlns=\"http://www.w3.org/2000/svg\" height=\"24px\" viewBox=\"0 -960 960 960\">\n",
              "    <path d=\"M120-120v-720h720v720H120Zm60-500h600v-160H180v160Zm220 220h160v-160H400v160Zm0 220h160v-160H400v160ZM180-400h160v-160H180v160Zm440 0h160v-160H620v160ZM180-180h160v-160H180v160Zm440 0h160v-160H620v160Z\"/>\n",
              "  </svg>\n",
              "    </button>\n",
              "\n",
              "  <style>\n",
              "    .colab-df-container {\n",
              "      display:flex;\n",
              "      gap: 12px;\n",
              "    }\n",
              "\n",
              "    .colab-df-convert {\n",
              "      background-color: #E8F0FE;\n",
              "      border: none;\n",
              "      border-radius: 50%;\n",
              "      cursor: pointer;\n",
              "      display: none;\n",
              "      fill: #1967D2;\n",
              "      height: 32px;\n",
              "      padding: 0 0 0 0;\n",
              "      width: 32px;\n",
              "    }\n",
              "\n",
              "    .colab-df-convert:hover {\n",
              "      background-color: #E2EBFA;\n",
              "      box-shadow: 0px 1px 2px rgba(60, 64, 67, 0.3), 0px 1px 3px 1px rgba(60, 64, 67, 0.15);\n",
              "      fill: #174EA6;\n",
              "    }\n",
              "\n",
              "    .colab-df-buttons div {\n",
              "      margin-bottom: 4px;\n",
              "    }\n",
              "\n",
              "    [theme=dark] .colab-df-convert {\n",
              "      background-color: #3B4455;\n",
              "      fill: #D2E3FC;\n",
              "    }\n",
              "\n",
              "    [theme=dark] .colab-df-convert:hover {\n",
              "      background-color: #434B5C;\n",
              "      box-shadow: 0px 1px 3px 1px rgba(0, 0, 0, 0.15);\n",
              "      filter: drop-shadow(0px 1px 2px rgba(0, 0, 0, 0.3));\n",
              "      fill: #FFFFFF;\n",
              "    }\n",
              "  </style>\n",
              "\n",
              "    <script>\n",
              "      const buttonEl =\n",
              "        document.querySelector('#df-8410bd85-6275-427f-adb1-2516363cd4b0 button.colab-df-convert');\n",
              "      buttonEl.style.display =\n",
              "        google.colab.kernel.accessAllowed ? 'block' : 'none';\n",
              "\n",
              "      async function convertToInteractive(key) {\n",
              "        const element = document.querySelector('#df-8410bd85-6275-427f-adb1-2516363cd4b0');\n",
              "        const dataTable =\n",
              "          await google.colab.kernel.invokeFunction('convertToInteractive',\n",
              "                                                    [key], {});\n",
              "        if (!dataTable) return;\n",
              "\n",
              "        const docLinkHtml = 'Like what you see? Visit the ' +\n",
              "          '<a target=\"_blank\" href=https://colab.research.google.com/notebooks/data_table.ipynb>data table notebook</a>'\n",
              "          + ' to learn more about interactive tables.';\n",
              "        element.innerHTML = '';\n",
              "        dataTable['output_type'] = 'display_data';\n",
              "        await google.colab.output.renderOutput(dataTable, element);\n",
              "        const docLink = document.createElement('div');\n",
              "        docLink.innerHTML = docLinkHtml;\n",
              "        element.appendChild(docLink);\n",
              "      }\n",
              "    </script>\n",
              "  </div>\n",
              "\n",
              "\n",
              "<div id=\"df-d8a43dd9-5f38-4078-926e-9b8bcbe7a714\">\n",
              "  <button class=\"colab-df-quickchart\" onclick=\"quickchart('df-d8a43dd9-5f38-4078-926e-9b8bcbe7a714')\"\n",
              "            title=\"Suggest charts.\"\n",
              "            style=\"display:none;\">\n",
              "\n",
              "<svg xmlns=\"http://www.w3.org/2000/svg\" height=\"24px\"viewBox=\"0 0 24 24\"\n",
              "     width=\"24px\">\n",
              "    <g>\n",
              "        <path d=\"M19 3H5c-1.1 0-2 .9-2 2v14c0 1.1.9 2 2 2h14c1.1 0 2-.9 2-2V5c0-1.1-.9-2-2-2zM9 17H7v-7h2v7zm4 0h-2V7h2v10zm4 0h-2v-4h2v4z\"/>\n",
              "    </g>\n",
              "</svg>\n",
              "  </button>\n",
              "\n",
              "<style>\n",
              "  .colab-df-quickchart {\n",
              "    background-color: #E8F0FE;\n",
              "    border: none;\n",
              "    border-radius: 50%;\n",
              "    cursor: pointer;\n",
              "    display: none;\n",
              "    fill: #1967D2;\n",
              "    height: 32px;\n",
              "    padding: 0 0 0 0;\n",
              "    width: 32px;\n",
              "  }\n",
              "\n",
              "  .colab-df-quickchart:hover {\n",
              "    background-color: #E2EBFA;\n",
              "    box-shadow: 0px 1px 2px rgba(60, 64, 67, 0.3), 0px 1px 3px 1px rgba(60, 64, 67, 0.15);\n",
              "    fill: #174EA6;\n",
              "  }\n",
              "\n",
              "  [theme=dark] .colab-df-quickchart {\n",
              "    background-color: #3B4455;\n",
              "    fill: #D2E3FC;\n",
              "  }\n",
              "\n",
              "  [theme=dark] .colab-df-quickchart:hover {\n",
              "    background-color: #434B5C;\n",
              "    box-shadow: 0px 1px 3px 1px rgba(0, 0, 0, 0.15);\n",
              "    filter: drop-shadow(0px 1px 2px rgba(0, 0, 0, 0.3));\n",
              "    fill: #FFFFFF;\n",
              "  }\n",
              "</style>\n",
              "\n",
              "  <script>\n",
              "    async function quickchart(key) {\n",
              "      const charts = await google.colab.kernel.invokeFunction(\n",
              "          'suggestCharts', [key], {});\n",
              "    }\n",
              "    (() => {\n",
              "      let quickchartButtonEl =\n",
              "        document.querySelector('#df-d8a43dd9-5f38-4078-926e-9b8bcbe7a714 button');\n",
              "      quickchartButtonEl.style.display =\n",
              "        google.colab.kernel.accessAllowed ? 'block' : 'none';\n",
              "    })();\n",
              "  </script>\n",
              "</div>\n",
              "    </div>\n",
              "  </div>\n"
            ]
          },
          "metadata": {},
          "execution_count": 5
        }
      ]
    },
    {
      "cell_type": "markdown",
      "source": [
        "Now what you have to do is to use this data for training the neural network using gradient descent (just 2 or 3 iterations will do).\n",
        "\n",
        "**Hint:** Save your time by using Autograd on whole vectors/matrices rather than looping it. It will reduce your code too."
      ],
      "metadata": {
        "id": "8Tnuo4cOXtTT"
      }
    },
    {
      "cell_type": "code",
      "source": [
        "\"\"\"\n",
        "Please code here\n",
        "\"\"\""
      ],
      "metadata": {
        "id": "rYdnDRpjXsVZ"
      },
      "execution_count": null,
      "outputs": []
    }
  ]
}